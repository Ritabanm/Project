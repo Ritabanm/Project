{
 "cells": [
  {
   "cell_type": "code",
   "execution_count": 1,
   "metadata": {
    "_cell_guid": "b1076dfc-b9ad-4769-8c92-a6c4dae69d19",
    "_uuid": "8f2839f25d086af736a60e9eeb907d3b93b6e0e5",
    "execution": {
     "iopub.execute_input": "2021-03-05T06:53:37.351910Z",
     "iopub.status.busy": "2021-03-05T06:53:37.351206Z",
     "iopub.status.idle": "2021-03-05T06:53:37.362071Z",
     "shell.execute_reply": "2021-03-05T06:53:37.362597Z"
    },
    "papermill": {
     "duration": 0.048229,
     "end_time": "2021-03-05T06:53:37.362943",
     "exception": false,
     "start_time": "2021-03-05T06:53:37.314714",
     "status": "completed"
    },
    "tags": []
   },
   "outputs": [
    {
     "name": "stdout",
     "output_type": "stream",
     "text": [
      "/kaggle/input/stroke-prediction-dataset/healthcare-dataset-stroke-data.csv\n"
     ]
    }
   ],
   "source": [
    "# This Python 3 environment comes with many helpful analytics libraries installed\n",
    "# It is defined by the kaggle/python Docker image: https://github.com/kaggle/docker-python\n",
    "# For example, here's several helpful packages to load\n",
    "\n",
    "import numpy as np # linear algebra\n",
    "import pandas as pd # data processing, CSV file I/O (e.g. pd.read_csv)\n",
    "\n",
    "# Input data files are available in the read-only \"../input/\" directory\n",
    "# For example, running this (by clicking run or pressing Shift+Enter) will list all files under the input directory\n",
    "\n",
    "import os\n",
    "for dirname, _, filenames in os.walk('/kaggle/input'):\n",
    "    for filename in filenames:\n",
    "        print(os.path.join(dirname, filename))\n",
    "\n",
    "# You can write up to 20GB to the current directory (/kaggle/working/) that gets preserved as output when you create a version using \"Save & Run All\" \n",
    "# You can also write temporary files to /kaggle/temp/, but they won't be saved outside of the current session"
   ]
  },
  {
   "cell_type": "markdown",
   "metadata": {
    "papermill": {
     "duration": 0.028598,
     "end_time": "2021-03-05T06:53:37.421685",
     "exception": false,
     "start_time": "2021-03-05T06:53:37.393087",
     "status": "completed"
    },
    "tags": []
   },
   "source": [
    "# Stroke prediction using two models SVM and DecisionTreeClassifier, to check which model gives better prediction"
   ]
  },
  {
   "cell_type": "markdown",
   "metadata": {
    "papermill": {
     "duration": 0.02877,
     "end_time": "2021-03-05T06:53:37.481242",
     "exception": false,
     "start_time": "2021-03-05T06:53:37.452472",
     "status": "completed"
    },
    "tags": []
   },
   "source": [
    "# Importing required libraries"
   ]
  },
  {
   "cell_type": "code",
   "execution_count": 2,
   "metadata": {
    "execution": {
     "iopub.execute_input": "2021-03-05T06:53:37.545087Z",
     "iopub.status.busy": "2021-03-05T06:53:37.544235Z",
     "iopub.status.idle": "2021-03-05T06:53:38.493966Z",
     "shell.execute_reply": "2021-03-05T06:53:38.493251Z"
    },
    "papermill": {
     "duration": 0.983575,
     "end_time": "2021-03-05T06:53:38.494132",
     "exception": false,
     "start_time": "2021-03-05T06:53:37.510557",
     "status": "completed"
    },
    "tags": []
   },
   "outputs": [],
   "source": [
    "import pandas as pd\n",
    "import seaborn as sns\n",
    "import numpy as np\n",
    "import matplotlib.pyplot as plt"
   ]
  },
  {
   "cell_type": "markdown",
   "metadata": {
    "papermill": {
     "duration": 0.02901,
     "end_time": "2021-03-05T06:53:38.552656",
     "exception": false,
     "start_time": "2021-03-05T06:53:38.523646",
     "status": "completed"
    },
    "tags": []
   },
   "source": [
    "# Importing Dataset"
   ]
  },
  {
   "cell_type": "code",
   "execution_count": 3,
   "metadata": {
    "execution": {
     "iopub.execute_input": "2021-03-05T06:53:38.618185Z",
     "iopub.status.busy": "2021-03-05T06:53:38.617470Z",
     "iopub.status.idle": "2021-03-05T06:53:38.644506Z",
     "shell.execute_reply": "2021-03-05T06:53:38.643945Z"
    },
    "papermill": {
     "duration": 0.062688,
     "end_time": "2021-03-05T06:53:38.644708",
     "exception": false,
     "start_time": "2021-03-05T06:53:38.582020",
     "status": "completed"
    },
    "tags": []
   },
   "outputs": [],
   "source": [
    "stroke = pd.read_csv('../input/stroke-prediction-dataset/healthcare-dataset-stroke-data.csv')"
   ]
  },
  {
   "cell_type": "code",
   "execution_count": 4,
   "metadata": {
    "execution": {
     "iopub.execute_input": "2021-03-05T06:53:38.718462Z",
     "iopub.status.busy": "2021-03-05T06:53:38.717629Z",
     "iopub.status.idle": "2021-03-05T06:53:38.743617Z",
     "shell.execute_reply": "2021-03-05T06:53:38.742982Z"
    },
    "papermill": {
     "duration": 0.069416,
     "end_time": "2021-03-05T06:53:38.743767",
     "exception": false,
     "start_time": "2021-03-05T06:53:38.674351",
     "status": "completed"
    },
    "tags": []
   },
   "outputs": [
    {
     "data": {
      "text/html": [
       "<div>\n",
       "<style scoped>\n",
       "    .dataframe tbody tr th:only-of-type {\n",
       "        vertical-align: middle;\n",
       "    }\n",
       "\n",
       "    .dataframe tbody tr th {\n",
       "        vertical-align: top;\n",
       "    }\n",
       "\n",
       "    .dataframe thead th {\n",
       "        text-align: right;\n",
       "    }\n",
       "</style>\n",
       "<table border=\"1\" class=\"dataframe\">\n",
       "  <thead>\n",
       "    <tr style=\"text-align: right;\">\n",
       "      <th></th>\n",
       "      <th>id</th>\n",
       "      <th>gender</th>\n",
       "      <th>age</th>\n",
       "      <th>hypertension</th>\n",
       "      <th>heart_disease</th>\n",
       "      <th>ever_married</th>\n",
       "      <th>work_type</th>\n",
       "      <th>Residence_type</th>\n",
       "      <th>avg_glucose_level</th>\n",
       "      <th>bmi</th>\n",
       "      <th>smoking_status</th>\n",
       "      <th>stroke</th>\n",
       "    </tr>\n",
       "  </thead>\n",
       "  <tbody>\n",
       "    <tr>\n",
       "      <th>0</th>\n",
       "      <td>9046</td>\n",
       "      <td>Male</td>\n",
       "      <td>67.0</td>\n",
       "      <td>0</td>\n",
       "      <td>1</td>\n",
       "      <td>Yes</td>\n",
       "      <td>Private</td>\n",
       "      <td>Urban</td>\n",
       "      <td>228.69</td>\n",
       "      <td>36.6</td>\n",
       "      <td>formerly smoked</td>\n",
       "      <td>1</td>\n",
       "    </tr>\n",
       "    <tr>\n",
       "      <th>1</th>\n",
       "      <td>51676</td>\n",
       "      <td>Female</td>\n",
       "      <td>61.0</td>\n",
       "      <td>0</td>\n",
       "      <td>0</td>\n",
       "      <td>Yes</td>\n",
       "      <td>Self-employed</td>\n",
       "      <td>Rural</td>\n",
       "      <td>202.21</td>\n",
       "      <td>NaN</td>\n",
       "      <td>never smoked</td>\n",
       "      <td>1</td>\n",
       "    </tr>\n",
       "    <tr>\n",
       "      <th>2</th>\n",
       "      <td>31112</td>\n",
       "      <td>Male</td>\n",
       "      <td>80.0</td>\n",
       "      <td>0</td>\n",
       "      <td>1</td>\n",
       "      <td>Yes</td>\n",
       "      <td>Private</td>\n",
       "      <td>Rural</td>\n",
       "      <td>105.92</td>\n",
       "      <td>32.5</td>\n",
       "      <td>never smoked</td>\n",
       "      <td>1</td>\n",
       "    </tr>\n",
       "    <tr>\n",
       "      <th>3</th>\n",
       "      <td>60182</td>\n",
       "      <td>Female</td>\n",
       "      <td>49.0</td>\n",
       "      <td>0</td>\n",
       "      <td>0</td>\n",
       "      <td>Yes</td>\n",
       "      <td>Private</td>\n",
       "      <td>Urban</td>\n",
       "      <td>171.23</td>\n",
       "      <td>34.4</td>\n",
       "      <td>smokes</td>\n",
       "      <td>1</td>\n",
       "    </tr>\n",
       "    <tr>\n",
       "      <th>4</th>\n",
       "      <td>1665</td>\n",
       "      <td>Female</td>\n",
       "      <td>79.0</td>\n",
       "      <td>1</td>\n",
       "      <td>0</td>\n",
       "      <td>Yes</td>\n",
       "      <td>Self-employed</td>\n",
       "      <td>Rural</td>\n",
       "      <td>174.12</td>\n",
       "      <td>24.0</td>\n",
       "      <td>never smoked</td>\n",
       "      <td>1</td>\n",
       "    </tr>\n",
       "  </tbody>\n",
       "</table>\n",
       "</div>"
      ],
      "text/plain": [
       "      id  gender   age  hypertension  heart_disease ever_married  \\\n",
       "0   9046    Male  67.0             0              1          Yes   \n",
       "1  51676  Female  61.0             0              0          Yes   \n",
       "2  31112    Male  80.0             0              1          Yes   \n",
       "3  60182  Female  49.0             0              0          Yes   \n",
       "4   1665  Female  79.0             1              0          Yes   \n",
       "\n",
       "       work_type Residence_type  avg_glucose_level   bmi   smoking_status  \\\n",
       "0        Private          Urban             228.69  36.6  formerly smoked   \n",
       "1  Self-employed          Rural             202.21   NaN     never smoked   \n",
       "2        Private          Rural             105.92  32.5     never smoked   \n",
       "3        Private          Urban             171.23  34.4           smokes   \n",
       "4  Self-employed          Rural             174.12  24.0     never smoked   \n",
       "\n",
       "   stroke  \n",
       "0       1  \n",
       "1       1  \n",
       "2       1  \n",
       "3       1  \n",
       "4       1  "
      ]
     },
     "execution_count": 4,
     "metadata": {},
     "output_type": "execute_result"
    }
   ],
   "source": [
    "stroke.head()"
   ]
  },
  {
   "cell_type": "markdown",
   "metadata": {
    "papermill": {
     "duration": 0.030041,
     "end_time": "2021-03-05T06:53:38.804663",
     "exception": false,
     "start_time": "2021-03-05T06:53:38.774622",
     "status": "completed"
    },
    "tags": []
   },
   "source": [
    "# Dropping unrequired column"
   ]
  },
  {
   "cell_type": "code",
   "execution_count": 5,
   "metadata": {
    "execution": {
     "iopub.execute_input": "2021-03-05T06:53:38.872935Z",
     "iopub.status.busy": "2021-03-05T06:53:38.872275Z",
     "iopub.status.idle": "2021-03-05T06:53:38.875845Z",
     "shell.execute_reply": "2021-03-05T06:53:38.875091Z"
    },
    "papermill": {
     "duration": 0.039999,
     "end_time": "2021-03-05T06:53:38.876001",
     "exception": false,
     "start_time": "2021-03-05T06:53:38.836002",
     "status": "completed"
    },
    "tags": []
   },
   "outputs": [],
   "source": [
    "strokes = stroke.drop('id', axis=1)"
   ]
  },
  {
   "cell_type": "code",
   "execution_count": 6,
   "metadata": {
    "execution": {
     "iopub.execute_input": "2021-03-05T06:53:38.956769Z",
     "iopub.status.busy": "2021-03-05T06:53:38.956008Z",
     "iopub.status.idle": "2021-03-05T06:53:38.960780Z",
     "shell.execute_reply": "2021-03-05T06:53:38.959996Z"
    },
    "papermill": {
     "duration": 0.054193,
     "end_time": "2021-03-05T06:53:38.960932",
     "exception": false,
     "start_time": "2021-03-05T06:53:38.906739",
     "status": "completed"
    },
    "tags": []
   },
   "outputs": [
    {
     "data": {
      "text/html": [
       "<div>\n",
       "<style scoped>\n",
       "    .dataframe tbody tr th:only-of-type {\n",
       "        vertical-align: middle;\n",
       "    }\n",
       "\n",
       "    .dataframe tbody tr th {\n",
       "        vertical-align: top;\n",
       "    }\n",
       "\n",
       "    .dataframe thead th {\n",
       "        text-align: right;\n",
       "    }\n",
       "</style>\n",
       "<table border=\"1\" class=\"dataframe\">\n",
       "  <thead>\n",
       "    <tr style=\"text-align: right;\">\n",
       "      <th></th>\n",
       "      <th>gender</th>\n",
       "      <th>age</th>\n",
       "      <th>hypertension</th>\n",
       "      <th>heart_disease</th>\n",
       "      <th>ever_married</th>\n",
       "      <th>work_type</th>\n",
       "      <th>Residence_type</th>\n",
       "      <th>avg_glucose_level</th>\n",
       "      <th>bmi</th>\n",
       "      <th>smoking_status</th>\n",
       "      <th>stroke</th>\n",
       "    </tr>\n",
       "  </thead>\n",
       "  <tbody>\n",
       "    <tr>\n",
       "      <th>0</th>\n",
       "      <td>Male</td>\n",
       "      <td>67.0</td>\n",
       "      <td>0</td>\n",
       "      <td>1</td>\n",
       "      <td>Yes</td>\n",
       "      <td>Private</td>\n",
       "      <td>Urban</td>\n",
       "      <td>228.69</td>\n",
       "      <td>36.6</td>\n",
       "      <td>formerly smoked</td>\n",
       "      <td>1</td>\n",
       "    </tr>\n",
       "    <tr>\n",
       "      <th>1</th>\n",
       "      <td>Female</td>\n",
       "      <td>61.0</td>\n",
       "      <td>0</td>\n",
       "      <td>0</td>\n",
       "      <td>Yes</td>\n",
       "      <td>Self-employed</td>\n",
       "      <td>Rural</td>\n",
       "      <td>202.21</td>\n",
       "      <td>NaN</td>\n",
       "      <td>never smoked</td>\n",
       "      <td>1</td>\n",
       "    </tr>\n",
       "    <tr>\n",
       "      <th>2</th>\n",
       "      <td>Male</td>\n",
       "      <td>80.0</td>\n",
       "      <td>0</td>\n",
       "      <td>1</td>\n",
       "      <td>Yes</td>\n",
       "      <td>Private</td>\n",
       "      <td>Rural</td>\n",
       "      <td>105.92</td>\n",
       "      <td>32.5</td>\n",
       "      <td>never smoked</td>\n",
       "      <td>1</td>\n",
       "    </tr>\n",
       "    <tr>\n",
       "      <th>3</th>\n",
       "      <td>Female</td>\n",
       "      <td>49.0</td>\n",
       "      <td>0</td>\n",
       "      <td>0</td>\n",
       "      <td>Yes</td>\n",
       "      <td>Private</td>\n",
       "      <td>Urban</td>\n",
       "      <td>171.23</td>\n",
       "      <td>34.4</td>\n",
       "      <td>smokes</td>\n",
       "      <td>1</td>\n",
       "    </tr>\n",
       "    <tr>\n",
       "      <th>4</th>\n",
       "      <td>Female</td>\n",
       "      <td>79.0</td>\n",
       "      <td>1</td>\n",
       "      <td>0</td>\n",
       "      <td>Yes</td>\n",
       "      <td>Self-employed</td>\n",
       "      <td>Rural</td>\n",
       "      <td>174.12</td>\n",
       "      <td>24.0</td>\n",
       "      <td>never smoked</td>\n",
       "      <td>1</td>\n",
       "    </tr>\n",
       "  </tbody>\n",
       "</table>\n",
       "</div>"
      ],
      "text/plain": [
       "   gender   age  hypertension  heart_disease ever_married      work_type  \\\n",
       "0    Male  67.0             0              1          Yes        Private   \n",
       "1  Female  61.0             0              0          Yes  Self-employed   \n",
       "2    Male  80.0             0              1          Yes        Private   \n",
       "3  Female  49.0             0              0          Yes        Private   \n",
       "4  Female  79.0             1              0          Yes  Self-employed   \n",
       "\n",
       "  Residence_type  avg_glucose_level   bmi   smoking_status  stroke  \n",
       "0          Urban             228.69  36.6  formerly smoked       1  \n",
       "1          Rural             202.21   NaN     never smoked       1  \n",
       "2          Rural             105.92  32.5     never smoked       1  \n",
       "3          Urban             171.23  34.4           smokes       1  \n",
       "4          Rural             174.12  24.0     never smoked       1  "
      ]
     },
     "execution_count": 6,
     "metadata": {},
     "output_type": "execute_result"
    }
   ],
   "source": [
    "strokes.head()"
   ]
  },
  {
   "cell_type": "markdown",
   "metadata": {
    "papermill": {
     "duration": 0.030838,
     "end_time": "2021-03-05T06:53:39.024347",
     "exception": false,
     "start_time": "2021-03-05T06:53:38.993509",
     "status": "completed"
    },
    "tags": []
   },
   "source": [
    "# Checking unique values for certain columns"
   ]
  },
  {
   "cell_type": "code",
   "execution_count": 7,
   "metadata": {
    "execution": {
     "iopub.execute_input": "2021-03-05T06:53:39.094604Z",
     "iopub.status.busy": "2021-03-05T06:53:39.093564Z",
     "iopub.status.idle": "2021-03-05T06:53:39.099346Z",
     "shell.execute_reply": "2021-03-05T06:53:39.098819Z"
    },
    "papermill": {
     "duration": 0.043863,
     "end_time": "2021-03-05T06:53:39.099493",
     "exception": false,
     "start_time": "2021-03-05T06:53:39.055630",
     "status": "completed"
    },
    "tags": []
   },
   "outputs": [
    {
     "data": {
      "text/plain": [
       "array(['Male', 'Female', 'Other'], dtype=object)"
      ]
     },
     "execution_count": 7,
     "metadata": {},
     "output_type": "execute_result"
    }
   ],
   "source": [
    "strokes['gender'].unique()"
   ]
  },
  {
   "cell_type": "code",
   "execution_count": 8,
   "metadata": {
    "execution": {
     "iopub.execute_input": "2021-03-05T06:53:39.169402Z",
     "iopub.status.busy": "2021-03-05T06:53:39.168500Z",
     "iopub.status.idle": "2021-03-05T06:53:39.173784Z",
     "shell.execute_reply": "2021-03-05T06:53:39.173275Z"
    },
    "papermill": {
     "duration": 0.041966,
     "end_time": "2021-03-05T06:53:39.173929",
     "exception": false,
     "start_time": "2021-03-05T06:53:39.131963",
     "status": "completed"
    },
    "tags": []
   },
   "outputs": [
    {
     "data": {
      "text/plain": [
       "array(['Yes', 'No'], dtype=object)"
      ]
     },
     "execution_count": 8,
     "metadata": {},
     "output_type": "execute_result"
    }
   ],
   "source": [
    "strokes['ever_married'].unique()"
   ]
  },
  {
   "cell_type": "code",
   "execution_count": 9,
   "metadata": {
    "execution": {
     "iopub.execute_input": "2021-03-05T06:53:39.243392Z",
     "iopub.status.busy": "2021-03-05T06:53:39.242698Z",
     "iopub.status.idle": "2021-03-05T06:53:39.248723Z",
     "shell.execute_reply": "2021-03-05T06:53:39.249220Z"
    },
    "papermill": {
     "duration": 0.043439,
     "end_time": "2021-03-05T06:53:39.249412",
     "exception": false,
     "start_time": "2021-03-05T06:53:39.205973",
     "status": "completed"
    },
    "tags": []
   },
   "outputs": [
    {
     "data": {
      "text/plain": [
       "array(['Private', 'Self-employed', 'Govt_job', 'children', 'Never_worked'],\n",
       "      dtype=object)"
      ]
     },
     "execution_count": 9,
     "metadata": {},
     "output_type": "execute_result"
    }
   ],
   "source": [
    "strokes['work_type'].unique()"
   ]
  },
  {
   "cell_type": "code",
   "execution_count": 10,
   "metadata": {
    "execution": {
     "iopub.execute_input": "2021-03-05T06:53:39.321279Z",
     "iopub.status.busy": "2021-03-05T06:53:39.320472Z",
     "iopub.status.idle": "2021-03-05T06:53:39.324565Z",
     "shell.execute_reply": "2021-03-05T06:53:39.325080Z"
    },
    "papermill": {
     "duration": 0.043284,
     "end_time": "2021-03-05T06:53:39.325255",
     "exception": false,
     "start_time": "2021-03-05T06:53:39.281971",
     "status": "completed"
    },
    "tags": []
   },
   "outputs": [
    {
     "data": {
      "text/plain": [
       "array(['Urban', 'Rural'], dtype=object)"
      ]
     },
     "execution_count": 10,
     "metadata": {},
     "output_type": "execute_result"
    }
   ],
   "source": [
    "strokes['Residence_type'].unique()"
   ]
  },
  {
   "cell_type": "code",
   "execution_count": 11,
   "metadata": {
    "execution": {
     "iopub.execute_input": "2021-03-05T06:53:39.398139Z",
     "iopub.status.busy": "2021-03-05T06:53:39.397423Z",
     "iopub.status.idle": "2021-03-05T06:53:39.401767Z",
     "shell.execute_reply": "2021-03-05T06:53:39.401143Z"
    },
    "papermill": {
     "duration": 0.043092,
     "end_time": "2021-03-05T06:53:39.401909",
     "exception": false,
     "start_time": "2021-03-05T06:53:39.358817",
     "status": "completed"
    },
    "tags": []
   },
   "outputs": [
    {
     "data": {
      "text/plain": [
       "array(['formerly smoked', 'never smoked', 'smokes', 'Unknown'],\n",
       "      dtype=object)"
      ]
     },
     "execution_count": 11,
     "metadata": {},
     "output_type": "execute_result"
    }
   ],
   "source": [
    "strokes['smoking_status'].unique()"
   ]
  },
  {
   "cell_type": "markdown",
   "metadata": {
    "papermill": {
     "duration": 0.032859,
     "end_time": "2021-03-05T06:53:39.468052",
     "exception": false,
     "start_time": "2021-03-05T06:53:39.435193",
     "status": "completed"
    },
    "tags": []
   },
   "source": [
    "# Plotting Countplots"
   ]
  },
  {
   "cell_type": "code",
   "execution_count": 12,
   "metadata": {
    "execution": {
     "iopub.execute_input": "2021-03-05T06:53:39.552029Z",
     "iopub.status.busy": "2021-03-05T06:53:39.545007Z",
     "iopub.status.idle": "2021-03-05T06:53:39.728689Z",
     "shell.execute_reply": "2021-03-05T06:53:39.729406Z"
    },
    "papermill": {
     "duration": 0.227351,
     "end_time": "2021-03-05T06:53:39.729680",
     "exception": false,
     "start_time": "2021-03-05T06:53:39.502329",
     "status": "completed"
    },
    "tags": []
   },
   "outputs": [
    {
     "data": {
      "text/plain": [
       "<AxesSubplot:xlabel='gender', ylabel='count'>"
      ]
     },
     "execution_count": 12,
     "metadata": {},
     "output_type": "execute_result"
    },
    {
     "data": {
      "image/png": "[encoded data removed]",
      "text/plain": [
       "<Figure size 432x288 with 1 Axes>"
      ]
     },
     "metadata": {
      "needs_background": "light"
     },
     "output_type": "display_data"
    }
   ],
   "source": [
    "sns.countplot(x = strokes['gender'])"
   ]
  },
  {
   "cell_type": "code",
   "execution_count": 13,
   "metadata": {
    "execution": {
     "iopub.execute_input": "2021-03-05T06:53:39.820182Z",
     "iopub.status.busy": "2021-03-05T06:53:39.813797Z",
     "iopub.status.idle": "2021-03-05T06:53:39.948972Z",
     "shell.execute_reply": "2021-03-05T06:53:39.948363Z"
    },
    "papermill": {
     "duration": 0.176342,
     "end_time": "2021-03-05T06:53:39.949119",
     "exception": false,
     "start_time": "2021-03-05T06:53:39.772777",
     "status": "completed"
    },
    "tags": []
   },
   "outputs": [
    {
     "data": {
      "text/plain": [
       "<AxesSubplot:xlabel='ever_married', ylabel='count'>"
      ]
     },
     "execution_count": 13,
     "metadata": {},
     "output_type": "execute_result"
    },
    {
     "data": {
      "image/png": "[encoded data removed]",
      "text/plain": [
       "<Figure size 432x288 with 1 Axes>"
      ]
     },
     "metadata": {
      "needs_background": "light"
     },
     "output_type": "display_data"
    }
   ],
   "source": [
    "sns.countplot(x = strokes['ever_married'])"
   ]
  },
  {
   "cell_type": "code",
   "execution_count": 14,
   "metadata": {
    "execution": {
     "iopub.execute_input": "2021-03-05T06:53:40.034673Z",
     "iopub.status.busy": "2021-03-05T06:53:40.033609Z",
     "iopub.status.idle": "2021-03-05T06:53:40.260997Z",
     "shell.execute_reply": "2021-03-05T06:53:40.260356Z"
    },
    "papermill": {
     "duration": 0.2749,
     "end_time": "2021-03-05T06:53:40.261149",
     "exception": false,
     "start_time": "2021-03-05T06:53:39.986249",
     "status": "completed"
    },
    "tags": []
   },
   "outputs": [
    {
     "data": {
      "text/plain": [
       "<AxesSubplot:xlabel='work_type', ylabel='count'>"
      ]
     },
     "execution_count": 14,
     "metadata": {},
     "output_type": "execute_result"
    },
    {
     "data": {
      "image/png": "[encoded data removed]",
      "text/plain": [
       "<Figure size 432x288 with 1 Axes>"
      ]
     },
     "metadata": {
      "needs_background": "light"
     },
     "output_type": "display_data"
    }
   ],
   "source": [
    "sns.countplot(x = strokes['work_type'])"
   ]
  },
  {
   "cell_type": "code",
   "execution_count": 15,
   "metadata": {
    "execution": {
     "iopub.execute_input": "2021-03-05T06:53:40.348049Z",
     "iopub.status.busy": "2021-03-05T06:53:40.347313Z",
     "iopub.status.idle": "2021-03-05T06:53:40.464294Z",
     "shell.execute_reply": "2021-03-05T06:53:40.463360Z"
    },
    "papermill": {
     "duration": 0.165819,
     "end_time": "2021-03-05T06:53:40.464452",
     "exception": false,
     "start_time": "2021-03-05T06:53:40.298633",
     "status": "completed"
    },
    "tags": []
   },
   "outputs": [
    {
     "data": {
      "text/plain": [
       "<AxesSubplot:xlabel='Residence_type', ylabel='count'>"
      ]
     },
     "execution_count": 15,
     "metadata": {},
     "output_type": "execute_result"
    },
    {
     "data": {
      "image/png": "[encoded data removed]",
      "text/plain": [
       "<Figure size 432x288 with 1 Axes>"
      ]
     },
     "metadata": {
      "needs_background": "light"
     },
     "output_type": "display_data"
    }
   ],
   "source": [
    "sns.countplot(x = strokes['Residence_type'])"
   ]
  },
  {
   "cell_type": "code",
   "execution_count": 16,
   "metadata": {
    "execution": {
     "iopub.execute_input": "2021-03-05T06:53:40.555306Z",
     "iopub.status.busy": "2021-03-05T06:53:40.554259Z",
     "iopub.status.idle": "2021-03-05T06:53:40.706530Z",
     "shell.execute_reply": "2021-03-05T06:53:40.705826Z"
    },
    "papermill": {
     "duration": 0.202556,
     "end_time": "2021-03-05T06:53:40.706683",
     "exception": false,
     "start_time": "2021-03-05T06:53:40.504127",
     "status": "completed"
    },
    "tags": []
   },
   "outputs": [
    {
     "data": {
      "text/plain": [
       "<AxesSubplot:xlabel='smoking_status', ylabel='count'>"
      ]
     },
     "execution_count": 16,
     "metadata": {},
     "output_type": "execute_result"
    },
    {
     "data": {
      "image/png": "[encoded data removed]",
      "text/plain": [
       "<Figure size 432x288 with 1 Axes>"
      ]
     },
     "metadata": {
      "needs_background": "light"
     },
     "output_type": "display_data"
    }
   ],
   "source": [
    "sns.countplot(x = strokes['smoking_status'])"
   ]
  },
  {
   "cell_type": "markdown",
   "metadata": {
    "papermill": {
     "duration": 0.038381,
     "end_time": "2021-03-05T06:53:40.784053",
     "exception": false,
     "start_time": "2021-03-05T06:53:40.745672",
     "status": "completed"
    },
    "tags": []
   },
   "source": [
    "# Filling null values"
   ]
  },
  {
   "cell_type": "code",
   "execution_count": 17,
   "metadata": {
    "execution": {
     "iopub.execute_input": "2021-03-05T06:53:40.868454Z",
     "iopub.status.busy": "2021-03-05T06:53:40.867749Z",
     "iopub.status.idle": "2021-03-05T06:53:40.870797Z",
     "shell.execute_reply": "2021-03-05T06:53:40.870152Z"
    },
    "papermill": {
     "duration": 0.04803,
     "end_time": "2021-03-05T06:53:40.870945",
     "exception": false,
     "start_time": "2021-03-05T06:53:40.822915",
     "status": "completed"
    },
    "tags": []
   },
   "outputs": [],
   "source": [
    "strokes['bmi'].fillna(strokes['bmi'].mean(), inplace = True)"
   ]
  },
  {
   "cell_type": "code",
   "execution_count": 18,
   "metadata": {
    "execution": {
     "iopub.execute_input": "2021-03-05T06:53:40.969889Z",
     "iopub.status.busy": "2021-03-05T06:53:40.969064Z",
     "iopub.status.idle": "2021-03-05T06:53:40.975382Z",
     "shell.execute_reply": "2021-03-05T06:53:40.976179Z"
    },
    "papermill": {
     "duration": 0.066736,
     "end_time": "2021-03-05T06:53:40.976438",
     "exception": false,
     "start_time": "2021-03-05T06:53:40.909702",
     "status": "completed"
    },
    "tags": []
   },
   "outputs": [
    {
     "name": "stdout",
     "output_type": "stream",
     "text": [
      "<class 'pandas.core.frame.DataFrame'>\n",
      "RangeIndex: 5110 entries, 0 to 5109\n",
      "Data columns (total 11 columns):\n",
      " #   Column             Non-Null Count  Dtype  \n",
      "---  ------             --------------  -----  \n",
      " 0   gender             5110 non-null   object \n",
      " 1   age                5110 non-null   float64\n",
      " 2   hypertension       5110 non-null   int64  \n",
      " 3   heart_disease      5110 non-null   int64  \n",
      " 4   ever_married       5110 non-null   object \n",
      " 5   work_type          5110 non-null   object \n",
      " 6   Residence_type     5110 non-null   object \n",
      " 7   avg_glucose_level  5110 non-null   float64\n",
      " 8   bmi                5110 non-null   float64\n",
      " 9   smoking_status     5110 non-null   object \n",
      " 10  stroke             5110 non-null   int64  \n",
      "dtypes: float64(3), int64(3), object(5)\n",
      "memory usage: 439.3+ KB\n"
     ]
    }
   ],
   "source": [
    "strokes.info()"
   ]
  },
  {
   "cell_type": "markdown",
   "metadata": {
    "papermill": {
     "duration": 0.040095,
     "end_time": "2021-03-05T06:53:41.057805",
     "exception": false,
     "start_time": "2021-03-05T06:53:41.017710",
     "status": "completed"
    },
    "tags": []
   },
   "source": [
    "# Dividing data into x and y"
   ]
  },
  {
   "cell_type": "code",
   "execution_count": 19,
   "metadata": {
    "execution": {
     "iopub.execute_input": "2021-03-05T06:53:41.145303Z",
     "iopub.status.busy": "2021-03-05T06:53:41.144312Z",
     "iopub.status.idle": "2021-03-05T06:53:41.147798Z",
     "shell.execute_reply": "2021-03-05T06:53:41.147253Z"
    },
    "papermill": {
     "duration": 0.049322,
     "end_time": "2021-03-05T06:53:41.147941",
     "exception": false,
     "start_time": "2021-03-05T06:53:41.098619",
     "status": "completed"
    },
    "tags": []
   },
   "outputs": [],
   "source": [
    "x = strokes.iloc[:,:-1]\n",
    "y = strokes.iloc[:,-1]"
   ]
  },
  {
   "cell_type": "markdown",
   "metadata": {
    "papermill": {
     "duration": 0.039102,
     "end_time": "2021-03-05T06:53:41.227010",
     "exception": false,
     "start_time": "2021-03-05T06:53:41.187908",
     "status": "completed"
    },
    "tags": []
   },
   "source": [
    "# Using One Hot Encoding"
   ]
  },
  {
   "cell_type": "code",
   "execution_count": 20,
   "metadata": {
    "execution": {
     "iopub.execute_input": "2021-03-05T06:53:41.311376Z",
     "iopub.status.busy": "2021-03-05T06:53:41.310693Z",
     "iopub.status.idle": "2021-03-05T06:53:41.506549Z",
     "shell.execute_reply": "2021-03-05T06:53:41.505061Z"
    },
    "papermill": {
     "duration": 0.240054,
     "end_time": "2021-03-05T06:53:41.506717",
     "exception": false,
     "start_time": "2021-03-05T06:53:41.266663",
     "status": "completed"
    },
    "tags": []
   },
   "outputs": [],
   "source": [
    "from sklearn.compose import ColumnTransformer\n",
    "from sklearn.preprocessing import OneHotEncoder"
   ]
  },
  {
   "cell_type": "code",
   "execution_count": 21,
   "metadata": {
    "execution": {
     "iopub.execute_input": "2021-03-05T06:53:41.598492Z",
     "iopub.status.busy": "2021-03-05T06:53:41.594433Z",
     "iopub.status.idle": "2021-03-05T06:53:41.619714Z",
     "shell.execute_reply": "2021-03-05T06:53:41.618760Z"
    },
    "papermill": {
     "duration": 0.073065,
     "end_time": "2021-03-05T06:53:41.619937",
     "exception": false,
     "start_time": "2021-03-05T06:53:41.546872",
     "status": "completed"
    },
    "tags": []
   },
   "outputs": [
    {
     "name": "stdout",
     "output_type": "stream",
     "text": [
      "[[  0.           1.           0.         ...   1.         228.69\n",
      "   36.6       ]\n",
      " [  1.           0.           0.         ...   0.         202.21\n",
      "   28.89323691]\n",
      " [  0.           1.           0.         ...   1.         105.92\n",
      "   32.5       ]\n",
      " ...\n",
      " [  1.           0.           0.         ...   0.          82.99\n",
      "   30.6       ]\n",
      " [  0.           1.           0.         ...   0.         166.29\n",
      "   25.6       ]\n",
      " [  1.           0.           0.         ...   0.          85.28\n",
      "   26.2       ]]\n"
     ]
    }
   ],
   "source": [
    "ct = ColumnTransformer(transformers = [('encoder', OneHotEncoder(), [0,4,5,6,9])], remainder='passthrough')\n",
    "x = np.array(ct.fit_transform(x))\n",
    "print(x)"
   ]
  },
  {
   "cell_type": "markdown",
   "metadata": {
    "papermill": {
     "duration": 0.041724,
     "end_time": "2021-03-05T06:53:41.702795",
     "exception": false,
     "start_time": "2021-03-05T06:53:41.661071",
     "status": "completed"
    },
    "tags": []
   },
   "source": [
    "# Splitting dataset into training and testing data"
   ]
  },
  {
   "cell_type": "code",
   "execution_count": 22,
   "metadata": {
    "execution": {
     "iopub.execute_input": "2021-03-05T06:53:41.789294Z",
     "iopub.status.busy": "2021-03-05T06:53:41.788593Z",
     "iopub.status.idle": "2021-03-05T06:53:41.863742Z",
     "shell.execute_reply": "2021-03-05T06:53:41.864292Z"
    },
    "papermill": {
     "duration": 0.120802,
     "end_time": "2021-03-05T06:53:41.864476",
     "exception": false,
     "start_time": "2021-03-05T06:53:41.743674",
     "status": "completed"
    },
    "tags": []
   },
   "outputs": [],
   "source": [
    "from sklearn.model_selection import train_test_split"
   ]
  },
  {
   "cell_type": "code",
   "execution_count": 23,
   "metadata": {
    "execution": {
     "iopub.execute_input": "2021-03-05T06:53:41.953947Z",
     "iopub.status.busy": "2021-03-05T06:53:41.952969Z",
     "iopub.status.idle": "2021-03-05T06:53:41.957887Z",
     "shell.execute_reply": "2021-03-05T06:53:41.957081Z"
    },
    "papermill": {
     "duration": 0.051921,
     "end_time": "2021-03-05T06:53:41.958060",
     "exception": false,
     "start_time": "2021-03-05T06:53:41.906139",
     "status": "completed"
    },
    "tags": []
   },
   "outputs": [],
   "source": [
    "x_train, x_test, y_train, y_test = train_test_split(x,y,random_state=1)"
   ]
  },
  {
   "cell_type": "markdown",
   "metadata": {
    "papermill": {
     "duration": 0.042597,
     "end_time": "2021-03-05T06:53:42.043206",
     "exception": false,
     "start_time": "2021-03-05T06:53:42.000609",
     "status": "completed"
    },
    "tags": []
   },
   "source": [
    "# Scaling data"
   ]
  },
  {
   "cell_type": "code",
   "execution_count": 24,
   "metadata": {
    "execution": {
     "iopub.execute_input": "2021-03-05T06:53:42.132568Z",
     "iopub.status.busy": "2021-03-05T06:53:42.131868Z",
     "iopub.status.idle": "2021-03-05T06:53:42.135863Z",
     "shell.execute_reply": "2021-03-05T06:53:42.135169Z"
    },
    "papermill": {
     "duration": 0.051217,
     "end_time": "2021-03-05T06:53:42.136024",
     "exception": false,
     "start_time": "2021-03-05T06:53:42.084807",
     "status": "completed"
    },
    "tags": []
   },
   "outputs": [],
   "source": [
    "from sklearn.preprocessing import StandardScaler"
   ]
  },
  {
   "cell_type": "code",
   "execution_count": 25,
   "metadata": {
    "execution": {
     "iopub.execute_input": "2021-03-05T06:53:42.222842Z",
     "iopub.status.busy": "2021-03-05T06:53:42.222177Z",
     "iopub.status.idle": "2021-03-05T06:53:42.225687Z",
     "shell.execute_reply": "2021-03-05T06:53:42.225143Z"
    },
    "papermill": {
     "duration": 0.048946,
     "end_time": "2021-03-05T06:53:42.225829",
     "exception": false,
     "start_time": "2021-03-05T06:53:42.176883",
     "status": "completed"
    },
    "tags": []
   },
   "outputs": [],
   "source": [
    "sc = StandardScaler()"
   ]
  },
  {
   "cell_type": "code",
   "execution_count": 26,
   "metadata": {
    "execution": {
     "iopub.execute_input": "2021-03-05T06:53:42.313069Z",
     "iopub.status.busy": "2021-03-05T06:53:42.312372Z",
     "iopub.status.idle": "2021-03-05T06:53:42.318721Z",
     "shell.execute_reply": "2021-03-05T06:53:42.318133Z"
    },
    "papermill": {
     "duration": 0.052071,
     "end_time": "2021-03-05T06:53:42.318867",
     "exception": false,
     "start_time": "2021-03-05T06:53:42.266796",
     "status": "completed"
    },
    "tags": []
   },
   "outputs": [],
   "source": [
    "x_train_1 = sc.fit_transform(x_train)"
   ]
  },
  {
   "cell_type": "code",
   "execution_count": 27,
   "metadata": {
    "execution": {
     "iopub.execute_input": "2021-03-05T06:53:42.408558Z",
     "iopub.status.busy": "2021-03-05T06:53:42.407449Z",
     "iopub.status.idle": "2021-03-05T06:53:42.412551Z",
     "shell.execute_reply": "2021-03-05T06:53:42.411823Z"
    },
    "papermill": {
     "duration": 0.05225,
     "end_time": "2021-03-05T06:53:42.412715",
     "exception": false,
     "start_time": "2021-03-05T06:53:42.360465",
     "status": "completed"
    },
    "tags": []
   },
   "outputs": [],
   "source": [
    "x_test_1 = sc.fit_transform(x_test)"
   ]
  },
  {
   "cell_type": "markdown",
   "metadata": {
    "papermill": {
     "duration": 0.041284,
     "end_time": "2021-03-05T06:53:42.495611",
     "exception": false,
     "start_time": "2021-03-05T06:53:42.454327",
     "status": "completed"
    },
    "tags": []
   },
   "source": [
    "# Using SVM"
   ]
  },
  {
   "cell_type": "code",
   "execution_count": 28,
   "metadata": {
    "execution": {
     "iopub.execute_input": "2021-03-05T06:53:42.586794Z",
     "iopub.status.busy": "2021-03-05T06:53:42.586001Z",
     "iopub.status.idle": "2021-03-05T06:53:42.704097Z",
     "shell.execute_reply": "2021-03-05T06:53:42.703316Z"
    },
    "papermill": {
     "duration": 0.165958,
     "end_time": "2021-03-05T06:53:42.704268",
     "exception": false,
     "start_time": "2021-03-05T06:53:42.538310",
     "status": "completed"
    },
    "tags": []
   },
   "outputs": [],
   "source": [
    "from sklearn.svm import SVC"
   ]
  },
  {
   "cell_type": "code",
   "execution_count": 29,
   "metadata": {
    "execution": {
     "iopub.execute_input": "2021-03-05T06:53:42.792503Z",
     "iopub.status.busy": "2021-03-05T06:53:42.791827Z",
     "iopub.status.idle": "2021-03-05T06:53:42.794894Z",
     "shell.execute_reply": "2021-03-05T06:53:42.794211Z"
    },
    "papermill": {
     "duration": 0.048906,
     "end_time": "2021-03-05T06:53:42.795040",
     "exception": false,
     "start_time": "2021-03-05T06:53:42.746134",
     "status": "completed"
    },
    "tags": []
   },
   "outputs": [],
   "source": [
    "classifier = SVC(random_state = 0, kernel = 'linear')"
   ]
  },
  {
   "cell_type": "code",
   "execution_count": 30,
   "metadata": {
    "execution": {
     "iopub.execute_input": "2021-03-05T06:53:42.888162Z",
     "iopub.status.busy": "2021-03-05T06:53:42.887464Z",
     "iopub.status.idle": "2021-03-05T06:53:42.974856Z",
     "shell.execute_reply": "2021-03-05T06:53:42.974045Z"
    },
    "papermill": {
     "duration": 0.136594,
     "end_time": "2021-03-05T06:53:42.975022",
     "exception": false,
     "start_time": "2021-03-05T06:53:42.838428",
     "status": "completed"
    },
    "tags": []
   },
   "outputs": [
    {
     "data": {
      "text/plain": [
       "SVC(kernel='linear', random_state=0)"
      ]
     },
     "execution_count": 30,
     "metadata": {},
     "output_type": "execute_result"
    }
   ],
   "source": [
    "classifier.fit(x_train_1, y_train)"
   ]
  },
  {
   "cell_type": "code",
   "execution_count": 31,
   "metadata": {
    "execution": {
     "iopub.execute_input": "2021-03-05T06:53:43.067201Z",
     "iopub.status.busy": "2021-03-05T06:53:43.065946Z",
     "iopub.status.idle": "2021-03-05T06:53:43.089785Z",
     "shell.execute_reply": "2021-03-05T06:53:43.090339Z"
    },
    "papermill": {
     "duration": 0.072456,
     "end_time": "2021-03-05T06:53:43.090534",
     "exception": false,
     "start_time": "2021-03-05T06:53:43.018078",
     "status": "completed"
    },
    "tags": []
   },
   "outputs": [],
   "source": [
    "y_pred = classifier.predict(x_test_1)"
   ]
  },
  {
   "cell_type": "code",
   "execution_count": 32,
   "metadata": {
    "execution": {
     "iopub.execute_input": "2021-03-05T06:53:43.181699Z",
     "iopub.status.busy": "2021-03-05T06:53:43.181026Z",
     "iopub.status.idle": "2021-03-05T06:53:43.185017Z",
     "shell.execute_reply": "2021-03-05T06:53:43.184428Z"
    },
    "papermill": {
     "duration": 0.05023,
     "end_time": "2021-03-05T06:53:43.185210",
     "exception": false,
     "start_time": "2021-03-05T06:53:43.134980",
     "status": "completed"
    },
    "tags": []
   },
   "outputs": [],
   "source": [
    "from sklearn.metrics import confusion_matrix"
   ]
  },
  {
   "cell_type": "code",
   "execution_count": 33,
   "metadata": {
    "execution": {
     "iopub.execute_input": "2021-03-05T06:53:43.275624Z",
     "iopub.status.busy": "2021-03-05T06:53:43.274872Z",
     "iopub.status.idle": "2021-03-05T06:53:43.285349Z",
     "shell.execute_reply": "2021-03-05T06:53:43.284761Z"
    },
    "papermill": {
     "duration": 0.058118,
     "end_time": "2021-03-05T06:53:43.285525",
     "exception": false,
     "start_time": "2021-03-05T06:53:43.227407",
     "status": "completed"
    },
    "tags": []
   },
   "outputs": [
    {
     "name": "stdout",
     "output_type": "stream",
     "text": [
      "[[1203    0]\n",
      " [  75    0]]\n"
     ]
    }
   ],
   "source": [
    "cm = confusion_matrix(y_test, y_pred)\n",
    "print(cm)"
   ]
  },
  {
   "cell_type": "code",
   "execution_count": 34,
   "metadata": {
    "execution": {
     "iopub.execute_input": "2021-03-05T06:53:43.376815Z",
     "iopub.status.busy": "2021-03-05T06:53:43.376119Z",
     "iopub.status.idle": "2021-03-05T06:53:43.379578Z",
     "shell.execute_reply": "2021-03-05T06:53:43.378995Z"
    },
    "papermill": {
     "duration": 0.051253,
     "end_time": "2021-03-05T06:53:43.379746",
     "exception": false,
     "start_time": "2021-03-05T06:53:43.328493",
     "status": "completed"
    },
    "tags": []
   },
   "outputs": [],
   "source": [
    "from sklearn.metrics import accuracy_score"
   ]
  },
  {
   "cell_type": "code",
   "execution_count": 35,
   "metadata": {
    "execution": {
     "iopub.execute_input": "2021-03-05T06:53:43.474020Z",
     "iopub.status.busy": "2021-03-05T06:53:43.471897Z",
     "iopub.status.idle": "2021-03-05T06:53:43.478554Z",
     "shell.execute_reply": "2021-03-05T06:53:43.477868Z"
    },
    "papermill": {
     "duration": 0.055639,
     "end_time": "2021-03-05T06:53:43.478706",
     "exception": false,
     "start_time": "2021-03-05T06:53:43.423067",
     "status": "completed"
    },
    "tags": []
   },
   "outputs": [
    {
     "data": {
      "text/plain": [
       "0.9413145539906104"
      ]
     },
     "execution_count": 35,
     "metadata": {},
     "output_type": "execute_result"
    }
   ],
   "source": [
    "acc = accuracy_score(y_test, y_pred)\n",
    "acc"
   ]
  },
  {
   "cell_type": "markdown",
   "metadata": {
    "papermill": {
     "duration": 0.043243,
     "end_time": "2021-03-05T06:53:43.565591",
     "exception": false,
     "start_time": "2021-03-05T06:53:43.522348",
     "status": "completed"
    },
    "tags": []
   },
   "source": [
    "# Using Decision Tree Classifier"
   ]
  },
  {
   "cell_type": "code",
   "execution_count": 36,
   "metadata": {
    "execution": {
     "iopub.execute_input": "2021-03-05T06:53:43.657733Z",
     "iopub.status.busy": "2021-03-05T06:53:43.657002Z",
     "iopub.status.idle": "2021-03-05T06:53:43.778969Z",
     "shell.execute_reply": "2021-03-05T06:53:43.778078Z"
    },
    "papermill": {
     "duration": 0.169748,
     "end_time": "2021-03-05T06:53:43.779130",
     "exception": false,
     "start_time": "2021-03-05T06:53:43.609382",
     "status": "completed"
    },
    "tags": []
   },
   "outputs": [],
   "source": [
    "from sklearn.tree import DecisionTreeClassifier"
   ]
  },
  {
   "cell_type": "code",
   "execution_count": 37,
   "metadata": {
    "execution": {
     "iopub.execute_input": "2021-03-05T06:53:43.874054Z",
     "iopub.status.busy": "2021-03-05T06:53:43.873156Z",
     "iopub.status.idle": "2021-03-05T06:53:43.876847Z",
     "shell.execute_reply": "2021-03-05T06:53:43.876265Z"
    },
    "papermill": {
     "duration": 0.052328,
     "end_time": "2021-03-05T06:53:43.877012",
     "exception": false,
     "start_time": "2021-03-05T06:53:43.824684",
     "status": "completed"
    },
    "tags": []
   },
   "outputs": [],
   "source": [
    "dc = DecisionTreeClassifier(criterion = 'entropy')"
   ]
  },
  {
   "cell_type": "code",
   "execution_count": 38,
   "metadata": {
    "execution": {
     "iopub.execute_input": "2021-03-05T06:53:43.972967Z",
     "iopub.status.busy": "2021-03-05T06:53:43.972230Z",
     "iopub.status.idle": "2021-03-05T06:53:43.993686Z",
     "shell.execute_reply": "2021-03-05T06:53:43.993017Z"
    },
    "papermill": {
     "duration": 0.072756,
     "end_time": "2021-03-05T06:53:43.993850",
     "exception": false,
     "start_time": "2021-03-05T06:53:43.921094",
     "status": "completed"
    },
    "tags": []
   },
   "outputs": [
    {
     "data": {
      "text/plain": [
       "DecisionTreeClassifier(criterion='entropy')"
      ]
     },
     "execution_count": 38,
     "metadata": {},
     "output_type": "execute_result"
    }
   ],
   "source": [
    "dc.fit(x_train_1, y_train)"
   ]
  },
  {
   "cell_type": "code",
   "execution_count": 39,
   "metadata": {
    "execution": {
     "iopub.execute_input": "2021-03-05T06:53:44.090819Z",
     "iopub.status.busy": "2021-03-05T06:53:44.089732Z",
     "iopub.status.idle": "2021-03-05T06:53:44.092280Z",
     "shell.execute_reply": "2021-03-05T06:53:44.092945Z"
    },
    "papermill": {
     "duration": 0.055387,
     "end_time": "2021-03-05T06:53:44.093156",
     "exception": false,
     "start_time": "2021-03-05T06:53:44.037769",
     "status": "completed"
    },
    "tags": []
   },
   "outputs": [],
   "source": [
    "pred = dc.predict(x_test_1)"
   ]
  },
  {
   "cell_type": "code",
   "execution_count": 40,
   "metadata": {
    "execution": {
     "iopub.execute_input": "2021-03-05T06:53:44.187914Z",
     "iopub.status.busy": "2021-03-05T06:53:44.186927Z",
     "iopub.status.idle": "2021-03-05T06:53:44.195951Z",
     "shell.execute_reply": "2021-03-05T06:53:44.195261Z"
    },
    "papermill": {
     "duration": 0.056953,
     "end_time": "2021-03-05T06:53:44.196094",
     "exception": false,
     "start_time": "2021-03-05T06:53:44.139141",
     "status": "completed"
    },
    "tags": []
   },
   "outputs": [
    {
     "name": "stdout",
     "output_type": "stream",
     "text": [
      "[[1136   67]\n",
      " [  66    9]]\n"
     ]
    }
   ],
   "source": [
    "cm1 = confusion_matrix(y_test, pred)\n",
    "print(cm1)"
   ]
  },
  {
   "cell_type": "code",
   "execution_count": 41,
   "metadata": {
    "execution": {
     "iopub.execute_input": "2021-03-05T06:53:44.292166Z",
     "iopub.status.busy": "2021-03-05T06:53:44.291169Z",
     "iopub.status.idle": "2021-03-05T06:53:44.297859Z",
     "shell.execute_reply": "2021-03-05T06:53:44.297151Z"
    },
    "papermill": {
     "duration": 0.057348,
     "end_time": "2021-03-05T06:53:44.298023",
     "exception": false,
     "start_time": "2021-03-05T06:53:44.240675",
     "status": "completed"
    },
    "tags": []
   },
   "outputs": [
    {
     "data": {
      "text/plain": [
       "0.8959311424100157"
      ]
     },
     "execution_count": 41,
     "metadata": {},
     "output_type": "execute_result"
    }
   ],
   "source": [
    "acc1 = accuracy_score(y_test, pred)\n",
    "acc1"
   ]
  },
  {
   "cell_type": "code",
   "execution_count": 42,
   "metadata": {
    "execution": {
     "iopub.execute_input": "2021-03-05T06:53:44.412790Z",
     "iopub.status.busy": "2021-03-05T06:53:44.410487Z",
     "iopub.status.idle": "2021-03-05T06:54:05.883827Z",
     "shell.execute_reply": "2021-03-05T06:54:05.883255Z"
    },
    "papermill": {
     "duration": 21.540628,
     "end_time": "2021-03-05T06:54:05.883974",
     "exception": false,
     "start_time": "2021-03-05T06:53:44.343346",
     "status": "completed"
    },
    "tags": []
   },
   "outputs": [
    {
     "data": {
      "text/plain": [
       "[Text(205.5589398734177, 531.2454545454545, 'X[16] <= 0.585\\nentropy = 0.267\\nsamples = 3832\\nvalue = [3658, 174]'),\n",
       " Text(45.42088607594936, 506.53636363636366, 'X[16] <= 0.054\\nentropy = 0.098\\nsamples = 2615\\nvalue = [2582, 33]'),\n",
       " Text(17.265822784810126, 481.82727272727277, 'X[20] <= -0.655\\nentropy = 0.035\\nsamples = 1887\\nvalue = [1880, 7]'),\n",
       " Text(14.126582278481012, 457.1181818181818, 'entropy = 0.0\\nsamples = 738\\nvalue = [738, 0]'),\n",
       " Text(20.40506329113924, 457.1181818181818, 'X[14] <= 0.278\\nentropy = 0.054\\nsamples = 1149\\nvalue = [1142, 7]'),\n",
       " Text(17.265822784810126, 432.40909090909093, 'X[19] <= -1.048\\nentropy = 0.085\\nsamples = 656\\nvalue = [649, 7]'),\n",
       " Text(6.2784810126582276, 407.70000000000005, 'X[19] <= -1.056\\nentropy = 0.619\\nsamples = 13\\nvalue = [11, 2]'),\n",
       " Text(3.1392405063291138, 382.9909090909091, 'entropy = 0.0\\nsamples = 9\\nvalue = [9, 0]'),\n",
       " Text(9.417721518987342, 382.9909090909091, 'X[0] <= -0.168\\nentropy = 1.0\\nsamples = 4\\nvalue = [2, 2]'),\n",
       " Text(6.2784810126582276, 358.28181818181815, 'entropy = 0.0\\nsamples = 2\\nvalue = [2, 0]'),\n",
       " Text(12.556962025316455, 358.28181818181815, 'entropy = 0.0\\nsamples = 2\\nvalue = [0, 2]'),\n",
       " Text(28.253164556962023, 407.70000000000005, 'X[20] <= 0.136\\nentropy = 0.066\\nsamples = 643\\nvalue = [638, 5]'),\n",
       " Text(25.11392405063291, 382.9909090909091, 'X[20] <= 0.077\\nentropy = 0.107\\nsamples = 353\\nvalue = [348, 5]'),\n",
       " Text(18.835443037974684, 358.28181818181815, 'X[19] <= -0.485\\nentropy = 0.073\\nsamples = 338\\nvalue = [335, 3]'),\n",
       " Text(15.696202531645568, 333.5727272727273, 'X[19] <= -0.489\\nentropy = 0.166\\nsamples = 122\\nvalue = [119, 3]'),\n",
       " Text(12.556962025316455, 308.8636363636364, 'X[20] <= -0.642\\nentropy = 0.121\\nsamples = 121\\nvalue = [119, 2]'),\n",
       " Text(6.2784810126582276, 284.1545454545455, 'X[16] <= -0.411\\nentropy = 0.918\\nsamples = 3\\nvalue = [2, 1]'),\n",
       " Text(3.1392405063291138, 259.44545454545454, 'entropy = 0.0\\nsamples = 2\\nvalue = [2, 0]'),\n",
       " Text(9.417721518987342, 259.44545454545454, 'entropy = 0.0\\nsamples = 1\\nvalue = [0, 1]'),\n",
       " Text(18.835443037974684, 284.1545454545455, 'X[16] <= -1.847\\nentropy = 0.071\\nsamples = 118\\nvalue = [117, 1]'),\n",
       " Text(15.696202531645568, 259.44545454545454, 'X[10] <= 0.013\\nentropy = 0.918\\nsamples = 3\\nvalue = [2, 1]'),\n",
       " Text(12.556962025316455, 234.73636363636365, 'entropy = 0.0\\nsamples = 1\\nvalue = [0, 1]'),\n",
       " Text(18.835443037974684, 234.73636363636365, 'entropy = 0.0\\nsamples = 2\\nvalue = [2, 0]'),\n",
       " Text(21.974683544303797, 259.44545454545454, 'entropy = 0.0\\nsamples = 115\\nvalue = [115, 0]'),\n",
       " Text(18.835443037974684, 308.8636363636364, 'entropy = 0.0\\nsamples = 1\\nvalue = [0, 1]'),\n",
       " Text(21.974683544303797, 333.5727272727273, 'entropy = 0.0\\nsamples = 216\\nvalue = [216, 0]'),\n",
       " Text(31.392405063291136, 358.28181818181815, 'X[15] <= 0.953\\nentropy = 0.567\\nsamples = 15\\nvalue = [13, 2]'),\n",
       " Text(28.253164556962023, 333.5727272727273, 'entropy = 0.0\\nsamples = 10\\nvalue = [10, 0]'),\n",
       " Text(34.53164556962025, 333.5727272727273, 'X[16] <= -0.566\\nentropy = 0.971\\nsamples = 5\\nvalue = [3, 2]'),\n",
       " Text(31.392405063291136, 308.8636363636364, 'entropy = 0.0\\nsamples = 2\\nvalue = [2, 0]'),\n",
       " Text(37.67088607594937, 308.8636363636364, 'X[3] <= 0.332\\nentropy = 0.918\\nsamples = 3\\nvalue = [1, 2]'),\n",
       " Text(34.53164556962025, 284.1545454545455, 'entropy = 0.0\\nsamples = 2\\nvalue = [0, 2]'),\n",
       " Text(40.81012658227848, 284.1545454545455, 'entropy = 0.0\\nsamples = 1\\nvalue = [1, 0]'),\n",
       " Text(31.392405063291136, 382.9909090909091, 'entropy = 0.0\\nsamples = 290\\nvalue = [290, 0]'),\n",
       " Text(23.544303797468352, 432.40909090909093, 'entropy = 0.0\\nsamples = 493\\nvalue = [493, 0]'),\n",
       " Text(73.5759493670886, 481.82727272727277, 'X[20] <= -0.446\\nentropy = 0.222\\nsamples = 728\\nvalue = [702, 26]'),\n",
       " Text(47.088607594936704, 457.1181818181818, 'X[20] <= -1.099\\nentropy = 0.063\\nsamples = 136\\nvalue = [135, 1]'),\n",
       " Text(43.949367088607595, 432.40909090909093, 'X[20] <= -1.126\\nentropy = 0.31\\nsamples = 18\\nvalue = [17, 1]'),\n",
       " Text(40.81012658227848, 407.70000000000005, 'entropy = 0.0\\nsamples = 17\\nvalue = [17, 0]'),\n",
       " Text(47.088607594936704, 407.70000000000005, 'entropy = 0.0\\nsamples = 1\\nvalue = [0, 1]'),\n",
       " Text(50.22784810126582, 432.40909090909093, 'entropy = 0.0\\nsamples = 118\\nvalue = [118, 0]'),\n",
       " Text(100.0632911392405, 457.1181818181818, 'X[20] <= 0.391\\nentropy = 0.252\\nsamples = 592\\nvalue = [567, 25]'),\n",
       " Text(72.9873417721519, 432.40909090909093, 'X[20] <= 0.09\\nentropy = 0.336\\nsamples = 306\\nvalue = [287, 19]'),\n",
       " Text(53.36708860759494, 407.70000000000005, 'X[16] <= 0.32\\nentropy = 0.252\\nsamples = 214\\nvalue = [205, 9]'),\n",
       " Text(50.22784810126582, 382.9909090909091, 'entropy = 0.0\\nsamples = 92\\nvalue = [92, 0]'),\n",
       " Text(56.506329113924046, 382.9909090909091, 'X[19] <= -0.388\\nentropy = 0.38\\nsamples = 122\\nvalue = [113, 9]'),\n",
       " Text(50.22784810126582, 358.28181818181815, 'X[19] <= -0.727\\nentropy = 0.144\\nsamples = 49\\nvalue = [48, 1]'),\n",
       " Text(47.088607594936704, 333.5727272727273, 'X[19] <= -0.759\\nentropy = 0.323\\nsamples = 17\\nvalue = [16, 1]'),\n",
       " Text(43.949367088607595, 308.8636363636364, 'entropy = 0.0\\nsamples = 16\\nvalue = [16, 0]'),\n",
       " Text(50.22784810126582, 308.8636363636364, 'entropy = 0.0\\nsamples = 1\\nvalue = [0, 1]'),\n",
       " Text(53.36708860759494, 333.5727272727273, 'entropy = 0.0\\nsamples = 32\\nvalue = [32, 0]'),\n",
       " Text(62.78481012658227, 358.28181818181815, 'X[19] <= -0.369\\nentropy = 0.499\\nsamples = 73\\nvalue = [65, 8]'),\n",
       " Text(59.64556962025316, 333.5727272727273, 'entropy = 0.0\\nsamples = 1\\nvalue = [0, 1]'),\n",
       " Text(65.92405063291139, 333.5727272727273, 'X[19] <= 1.7\\nentropy = 0.46\\nsamples = 72\\nvalue = [65, 7]'),\n",
       " Text(62.78481012658227, 308.8636363636364, 'X[19] <= 1.617\\nentropy = 0.531\\nsamples = 58\\nvalue = [51, 7]'),\n",
       " Text(59.64556962025316, 284.1545454545455, 'X[17] <= 1.351\\nentropy = 0.485\\nsamples = 57\\nvalue = [51, 6]'),\n",
       " Text(56.506329113924046, 259.44545454545454, 'X[16] <= 0.364\\nentropy = 0.559\\nsamples = 46\\nvalue = [40, 6]'),\n",
       " Text(47.088607594936704, 234.73636363636365, 'X[0] <= -0.168\\nentropy = 0.971\\nsamples = 5\\nvalue = [3, 2]'),\n",
       " Text(43.949367088607595, 210.0272727272727, 'entropy = 0.0\\nsamples = 2\\nvalue = [2, 0]'),\n",
       " Text(50.22784810126582, 210.0272727272727, 'X[19] <= -0.198\\nentropy = 0.918\\nsamples = 3\\nvalue = [1, 2]'),\n",
       " Text(47.088607594936704, 185.3181818181818, 'entropy = 0.0\\nsamples = 1\\nvalue = [1, 0]'),\n",
       " Text(53.36708860759494, 185.3181818181818, 'entropy = 0.0\\nsamples = 2\\nvalue = [0, 2]'),\n",
       " Text(65.92405063291139, 234.73636363636365, 'X[11] <= -0.013\\nentropy = 0.461\\nsamples = 41\\nvalue = [37, 4]'),\n",
       " Text(62.78481012658227, 210.0272727272727, 'X[20] <= -0.42\\nentropy = 0.684\\nsamples = 22\\nvalue = [18, 4]'),\n",
       " Text(59.64556962025316, 185.3181818181818, 'entropy = 0.0\\nsamples = 1\\nvalue = [0, 1]'),\n",
       " Text(65.92405063291139, 185.3181818181818, 'X[16] <= 0.408\\nentropy = 0.592\\nsamples = 21\\nvalue = [18, 3]'),\n",
       " Text(62.78481012658227, 160.60909090909092, 'entropy = 0.0\\nsamples = 1\\nvalue = [0, 1]'),\n",
       " Text(69.0632911392405, 160.60909090909092, 'X[5] <= 1.127\\nentropy = 0.469\\nsamples = 20\\nvalue = [18, 2]'),\n",
       " Text(62.78481012658227, 135.89999999999998, 'X[20] <= 0.012\\nentropy = 0.31\\nsamples = 18\\nvalue = [17, 1]'),\n",
       " Text(59.64556962025316, 111.19090909090909, 'entropy = 0.0\\nsamples = 15\\nvalue = [15, 0]'),\n",
       " Text(65.92405063291139, 111.19090909090909, 'X[1] <= 0.168\\nentropy = 0.918\\nsamples = 3\\nvalue = [2, 1]'),\n",
       " Text(62.78481012658227, 86.4818181818182, 'entropy = 0.0\\nsamples = 2\\nvalue = [2, 0]'),\n",
       " Text(69.0632911392405, 86.4818181818182, 'entropy = 0.0\\nsamples = 1\\nvalue = [0, 1]'),\n",
       " Text(75.34177215189874, 135.89999999999998, 'X[12] <= 0.424\\nentropy = 1.0\\nsamples = 2\\nvalue = [1, 1]'),\n",
       " Text(72.20253164556962, 111.19090909090909, 'entropy = 0.0\\nsamples = 1\\nvalue = [1, 0]'),\n",
       " Text(78.48101265822784, 111.19090909090909, 'entropy = 0.0\\nsamples = 1\\nvalue = [0, 1]'),\n",
       " Text(69.0632911392405, 210.0272727272727, 'entropy = 0.0\\nsamples = 19\\nvalue = [19, 0]'),\n",
       " Text(62.78481012658227, 259.44545454545454, 'entropy = 0.0\\nsamples = 11\\nvalue = [11, 0]'),\n",
       " Text(65.92405063291139, 284.1545454545455, 'entropy = 0.0\\nsamples = 1\\nvalue = [0, 1]'),\n",
       " Text(69.0632911392405, 308.8636363636364, 'entropy = 0.0\\nsamples = 14\\nvalue = [14, 0]'),\n",
       " Text(92.60759493670885, 407.70000000000005, 'X[16] <= 0.32\\nentropy = 0.496\\nsamples = 92\\nvalue = [82, 10]'),\n",
       " Text(84.75949367088607, 382.9909090909091, 'X[19] <= 1.19\\nentropy = 0.764\\nsamples = 36\\nvalue = [28, 8]'),\n",
       " Text(81.62025316455696, 358.28181818181815, 'X[19] <= -0.002\\nentropy = 0.722\\nsamples = 35\\nvalue = [28, 7]'),\n",
       " Text(78.48101265822784, 333.5727272727273, 'X[19] <= -0.095\\nentropy = 0.84\\nsamples = 26\\nvalue = [19, 7]'),\n",
       " Text(75.34177215189874, 308.8636363636364, 'X[20] <= 0.247\\nentropy = 0.738\\nsamples = 24\\nvalue = [19, 5]'),\n",
       " Text(72.20253164556962, 284.1545454545455, 'X[11] <= -0.013\\nentropy = 0.98\\nsamples = 12\\nvalue = [7, 5]'),\n",
       " Text(69.0632911392405, 259.44545454545454, 'entropy = 0.0\\nsamples = 2\\nvalue = [0, 2]'),\n",
       " Text(75.34177215189874, 259.44545454545454, 'X[14] <= 0.278\\nentropy = 0.881\\nsamples = 10\\nvalue = [7, 3]'),\n",
       " Text(72.20253164556962, 234.73636363636365, 'entropy = 0.0\\nsamples = 4\\nvalue = [4, 0]'),\n",
       " Text(78.48101265822784, 234.73636363636365, 'X[20] <= 0.129\\nentropy = 1.0\\nsamples = 6\\nvalue = [3, 3]'),\n",
       " Text(75.34177215189874, 210.0272727272727, 'entropy = 0.0\\nsamples = 2\\nvalue = [0, 2]'),\n",
       " Text(81.62025316455696, 210.0272727272727, 'X[20] <= 0.234\\nentropy = 0.811\\nsamples = 4\\nvalue = [3, 1]'),\n",
       " Text(78.48101265822784, 185.3181818181818, 'entropy = 0.0\\nsamples = 3\\nvalue = [3, 0]'),\n",
       " Text(84.75949367088607, 185.3181818181818, 'entropy = 0.0\\nsamples = 1\\nvalue = [0, 1]'),\n",
       " Text(78.48101265822784, 284.1545454545455, 'entropy = 0.0\\nsamples = 12\\nvalue = [12, 0]'),\n",
       " Text(81.62025316455696, 308.8636363636364, 'entropy = 0.0\\nsamples = 2\\nvalue = [0, 2]'),\n",
       " Text(84.75949367088607, 333.5727272727273, 'entropy = 0.0\\nsamples = 9\\nvalue = [9, 0]'),\n",
       " Text(87.89873417721519, 358.28181818181815, 'entropy = 0.0\\nsamples = 1\\nvalue = [0, 1]'),\n",
       " Text(100.45569620253164, 382.9909090909091, 'X[19] <= -0.943\\nentropy = 0.222\\nsamples = 56\\nvalue = [54, 2]'),\n",
       " Text(94.17721518987341, 358.28181818181815, 'X[12] <= 0.424\\nentropy = 1.0\\nsamples = 2\\nvalue = [1, 1]'),\n",
       " Text(91.0379746835443, 333.5727272727273, 'entropy = 0.0\\nsamples = 1\\nvalue = [1, 0]'),\n",
       " Text(97.31645569620252, 333.5727272727273, 'entropy = 0.0\\nsamples = 1\\nvalue = [0, 1]'),\n",
       " Text(106.73417721518987, 358.28181818181815, 'X[15] <= 0.953\\nentropy = 0.133\\nsamples = 54\\nvalue = [53, 1]'),\n",
       " Text(103.59493670886076, 333.5727272727273, 'entropy = 0.0\\nsamples = 42\\nvalue = [42, 0]'),\n",
       " Text(109.87341772151898, 333.5727272727273, 'X[5] <= 1.127\\nentropy = 0.414\\nsamples = 12\\nvalue = [11, 1]'),\n",
       " Text(106.73417721518987, 308.8636363636364, 'entropy = 0.0\\nsamples = 9\\nvalue = [9, 0]'),\n",
       " Text(113.01265822784809, 308.8636363636364, 'X[20] <= 0.273\\nentropy = 0.918\\nsamples = 3\\nvalue = [2, 1]'),\n",
       " Text(109.87341772151898, 284.1545454545455, 'entropy = 0.0\\nsamples = 2\\nvalue = [2, 0]'),\n",
       " Text(116.15189873417721, 284.1545454545455, 'entropy = 0.0\\nsamples = 1\\nvalue = [0, 1]'),\n",
       " Text(127.1392405063291, 432.40909090909093, 'X[20] <= 1.436\\nentropy = 0.147\\nsamples = 286\\nvalue = [280, 6]'),\n",
       " Text(116.15189873417721, 407.70000000000005, 'X[19] <= 1.31\\nentropy = 0.045\\nsamples = 200\\nvalue = [199, 1]'),\n",
       " Text(113.01265822784809, 382.9909090909091, 'entropy = 0.0\\nsamples = 173\\nvalue = [173, 0]'),\n",
       " Text(119.29113924050633, 382.9909090909091, 'X[19] <= 1.474\\nentropy = 0.229\\nsamples = 27\\nvalue = [26, 1]'),\n",
       " Text(116.15189873417721, 358.28181818181815, 'entropy = 0.0\\nsamples = 1\\nvalue = [0, 1]'),\n",
       " Text(122.43037974683544, 358.28181818181815, 'entropy = 0.0\\nsamples = 26\\nvalue = [26, 0]'),\n",
       " Text(138.126582278481, 407.70000000000005, 'X[20] <= 1.652\\nentropy = 0.32\\nsamples = 86\\nvalue = [81, 5]'),\n",
       " Text(131.84810126582278, 382.9909090909091, 'X[11] <= -0.013\\nentropy = 0.742\\nsamples = 19\\nvalue = [15, 4]'),\n",
       " Text(128.70886075949366, 358.28181818181815, 'entropy = 0.0\\nsamples = 7\\nvalue = [7, 0]'),\n",
       " Text(134.9873417721519, 358.28181818181815, 'X[18] <= 1.962\\nentropy = 0.918\\nsamples = 12\\nvalue = [8, 4]'),\n",
       " Text(131.84810126582278, 333.5727272727273, 'X[16] <= 0.453\\nentropy = 0.845\\nsamples = 11\\nvalue = [8, 3]'),\n",
       " Text(125.56962025316454, 308.8636363636364, 'X[7] <= -0.145\\nentropy = 1.0\\nsamples = 4\\nvalue = [2, 2]'),\n",
       " Text(122.43037974683544, 284.1545454545455, 'X[19] <= -0.74\\nentropy = 0.918\\nsamples = 3\\nvalue = [2, 1]'),\n",
       " Text(119.29113924050633, 259.44545454545454, 'entropy = 0.0\\nsamples = 1\\nvalue = [0, 1]'),\n",
       " Text(125.56962025316454, 259.44545454545454, 'entropy = 0.0\\nsamples = 2\\nvalue = [2, 0]'),\n",
       " Text(128.70886075949366, 284.1545454545455, 'entropy = 0.0\\nsamples = 1\\nvalue = [0, 1]'),\n",
       " Text(138.126582278481, 308.8636363636364, 'X[20] <= 1.502\\nentropy = 0.592\\nsamples = 7\\nvalue = [6, 1]'),\n",
       " Text(134.9873417721519, 284.1545454545455, 'X[17] <= 1.351\\nentropy = 1.0\\nsamples = 2\\nvalue = [1, 1]'),\n",
       " Text(131.84810126582278, 259.44545454545454, 'entropy = 0.0\\nsamples = 1\\nvalue = [0, 1]'),\n",
       " Text(138.126582278481, 259.44545454545454, 'entropy = 0.0\\nsamples = 1\\nvalue = [1, 0]'),\n",
       " Text(141.26582278481013, 284.1545454545455, 'entropy = 0.0\\nsamples = 5\\nvalue = [5, 0]'),\n",
       " Text(138.126582278481, 333.5727272727273, 'entropy = 0.0\\nsamples = 1\\nvalue = [0, 1]'),\n",
       " Text(144.40506329113924, 382.9909090909091, 'X[19] <= 2.589\\nentropy = 0.112\\nsamples = 67\\nvalue = [66, 1]'),\n",
       " Text(141.26582278481013, 358.28181818181815, 'entropy = 0.0\\nsamples = 63\\nvalue = [63, 0]'),\n",
       " Text(147.54430379746836, 358.28181818181815, 'X[19] <= 2.628\\nentropy = 0.811\\nsamples = 4\\nvalue = [3, 1]'),\n",
       " Text(144.40506329113924, 333.5727272727273, 'entropy = 0.0\\nsamples = 1\\nvalue = [0, 1]'),\n",
       " Text(150.68354430379748, 333.5727272727273, 'entropy = 0.0\\nsamples = 3\\nvalue = [3, 0]'),\n",
       " Text(365.69699367088606, 506.53636363636366, 'X[16] <= 1.338\\nentropy = 0.517\\nsamples = 1217\\nvalue = [1076, 141]'),\n",
       " Text(260.0174050632911, 481.82727272727277, 'X[19] <= 1.618\\nentropy = 0.399\\nsamples = 808\\nvalue = [744, 64]'),\n",
       " Text(219.45253164556962, 457.1181818181818, 'X[3] <= 0.332\\nentropy = 0.317\\nsamples = 626\\nvalue = [590, 36]'),\n",
       " Text(191.68987341772151, 432.40909090909093, 'X[14] <= 0.278\\nentropy = 0.287\\nsamples = 579\\nvalue = [550, 29]'),\n",
       " Text(173.83544303797467, 407.70000000000005, 'X[16] <= 1.25\\nentropy = 0.359\\nsamples = 381\\nvalue = [355, 26]'),\n",
       " Text(170.69620253164555, 382.9909090909091, 'X[16] <= 0.63\\nentropy = 0.383\\nsamples = 348\\nvalue = [322, 26]'),\n",
       " Text(167.55696202531644, 358.28181818181815, 'entropy = 0.0\\nsamples = 28\\nvalue = [28, 0]'),\n",
       " Text(173.83544303797467, 358.28181818181815, 'X[19] <= -0.821\\nentropy = 0.407\\nsamples = 320\\nvalue = [294, 26]'),\n",
       " Text(156.96202531645568, 333.5727272727273, 'X[18] <= 1.962\\nentropy = 0.131\\nsamples = 55\\nvalue = [54, 1]'),\n",
       " Text(153.82278481012656, 308.8636363636364, 'entropy = 0.0\\nsamples = 49\\nvalue = [49, 0]'),\n",
       " Text(160.1012658227848, 308.8636363636364, 'X[20] <= 0.214\\nentropy = 0.65\\nsamples = 6\\nvalue = [5, 1]'),\n",
       " Text(156.96202531645568, 284.1545454545455, 'entropy = 0.0\\nsamples = 5\\nvalue = [5, 0]'),\n",
       " Text(163.2405063291139, 284.1545454545455, 'entropy = 0.0\\nsamples = 1\\nvalue = [0, 1]'),\n",
       " Text(190.70886075949366, 333.5727272727273, 'X[19] <= -0.814\\nentropy = 0.451\\nsamples = 265\\nvalue = [240, 25]'),\n",
       " Text(187.56962025316454, 308.8636363636364, 'entropy = 0.0\\nsamples = 1\\nvalue = [0, 1]'),\n",
       " Text(193.84810126582278, 308.8636363636364, 'X[0] <= -0.168\\nentropy = 0.439\\nsamples = 264\\nvalue = [240, 24]'),\n",
       " Text(169.51898734177215, 284.1545454545455, 'X[5] <= 1.127\\nentropy = 0.563\\nsamples = 106\\nvalue = [92, 14]'),\n",
       " Text(166.37974683544303, 259.44545454545454, 'X[16] <= 0.718\\nentropy = 0.611\\nsamples = 93\\nvalue = [79, 14]'),\n",
       " Text(149.1139240506329, 234.73636363636365, 'X[19] <= -0.407\\nentropy = 0.946\\nsamples = 11\\nvalue = [7, 4]'),\n",
       " Text(142.83544303797467, 210.0272727272727, 'X[10] <= 0.013\\nentropy = 0.811\\nsamples = 4\\nvalue = [1, 3]'),\n",
       " Text(139.69620253164555, 185.3181818181818, 'entropy = 0.0\\nsamples = 3\\nvalue = [0, 3]'),\n",
       " Text(145.9746835443038, 185.3181818181818, 'entropy = 0.0\\nsamples = 1\\nvalue = [1, 0]'),\n",
       " Text(155.39240506329114, 210.0272727272727, 'X[20] <= 1.469\\nentropy = 0.592\\nsamples = 7\\nvalue = [6, 1]'),\n",
       " Text(152.25316455696202, 185.3181818181818, 'entropy = 0.0\\nsamples = 6\\nvalue = [6, 0]'),\n",
       " Text(158.53164556962025, 185.3181818181818, 'entropy = 0.0\\nsamples = 1\\nvalue = [0, 1]'),\n",
       " Text(183.64556962025316, 234.73636363636365, 'X[19] <= 0.142\\nentropy = 0.535\\nsamples = 82\\nvalue = [72, 10]'),\n",
       " Text(174.2278481012658, 210.0272727272727, 'X[16] <= 1.205\\nentropy = 0.379\\nsamples = 68\\nvalue = [63, 5]'),\n",
       " Text(164.81012658227849, 185.3181818181818, 'X[19] <= -0.609\\nentropy = 0.276\\nsamples = 63\\nvalue = [60, 3]'),\n",
       " Text(155.39240506329114, 160.60909090909092, 'X[19] <= -0.647\\nentropy = 0.764\\nsamples = 9\\nvalue = [7, 2]'),\n",
       " Text(152.25316455696202, 135.89999999999998, 'entropy = 0.0\\nsamples = 6\\nvalue = [6, 0]'),\n",
       " Text(158.53164556962025, 135.89999999999998, 'X[20] <= -0.008\\nentropy = 0.918\\nsamples = 3\\nvalue = [1, 2]'),\n",
       " Text(155.39240506329114, 111.19090909090909, 'entropy = 0.0\\nsamples = 2\\nvalue = [0, 2]'),\n",
       " Text(161.67088607594937, 111.19090909090909, 'entropy = 0.0\\nsamples = 1\\nvalue = [1, 0]'),\n",
       " Text(174.2278481012658, 160.60909090909092, 'X[16] <= 0.763\\nentropy = 0.133\\nsamples = 54\\nvalue = [53, 1]'),\n",
       " Text(171.0886075949367, 135.89999999999998, 'X[20] <= 0.75\\nentropy = 0.592\\nsamples = 7\\nvalue = [6, 1]'),\n",
       " Text(167.94936708860757, 111.19090909090909, 'entropy = 0.0\\nsamples = 6\\nvalue = [6, 0]'),\n",
       " Text(174.2278481012658, 111.19090909090909, 'entropy = 0.0\\nsamples = 1\\nvalue = [0, 1]'),\n",
       " Text(177.36708860759492, 135.89999999999998, 'entropy = 0.0\\nsamples = 47\\nvalue = [47, 0]'),\n",
       " Text(183.64556962025316, 185.3181818181818, 'X[20] <= -0.354\\nentropy = 0.971\\nsamples = 5\\nvalue = [3, 2]'),\n",
       " Text(180.50632911392404, 160.60909090909092, 'entropy = 0.0\\nsamples = 2\\nvalue = [2, 0]'),\n",
       " Text(186.78481012658227, 160.60909090909092, 'X[20] <= 1.05\\nentropy = 0.918\\nsamples = 3\\nvalue = [1, 2]'),\n",
       " Text(183.64556962025316, 135.89999999999998, 'entropy = 0.0\\nsamples = 2\\nvalue = [0, 2]'),\n",
       " Text(189.9240506329114, 135.89999999999998, 'entropy = 0.0\\nsamples = 1\\nvalue = [1, 0]'),\n",
       " Text(193.0632911392405, 210.0272727272727, 'X[19] <= 0.161\\nentropy = 0.94\\nsamples = 14\\nvalue = [9, 5]'),\n",
       " Text(189.9240506329114, 185.3181818181818, 'entropy = 0.0\\nsamples = 2\\nvalue = [0, 2]'),\n",
       " Text(196.20253164556962, 185.3181818181818, 'X[16] <= 0.851\\nentropy = 0.811\\nsamples = 12\\nvalue = [9, 3]'),\n",
       " Text(193.0632911392405, 160.60909090909092, 'entropy = 0.0\\nsamples = 6\\nvalue = [6, 0]'),\n",
       " Text(199.34177215189874, 160.60909090909092, 'X[16] <= 1.028\\nentropy = 1.0\\nsamples = 6\\nvalue = [3, 3]'),\n",
       " Text(196.20253164556962, 135.89999999999998, 'X[17] <= 1.351\\nentropy = 0.811\\nsamples = 4\\nvalue = [1, 3]'),\n",
       " Text(193.0632911392405, 111.19090909090909, 'entropy = 0.0\\nsamples = 3\\nvalue = [0, 3]'),\n",
       " Text(199.34177215189874, 111.19090909090909, 'entropy = 0.0\\nsamples = 1\\nvalue = [1, 0]'),\n",
       " Text(202.48101265822783, 135.89999999999998, 'entropy = 0.0\\nsamples = 2\\nvalue = [2, 0]'),\n",
       " Text(172.65822784810126, 259.44545454545454, 'entropy = 0.0\\nsamples = 13\\nvalue = [13, 0]'),\n",
       " Text(218.1772151898734, 284.1545454545455, 'X[20] <= -0.675\\nentropy = 0.34\\nsamples = 158\\nvalue = [148, 10]'),\n",
       " Text(215.0379746835443, 259.44545454545454, 'entropy = 0.0\\nsamples = 27\\nvalue = [27, 0]'),\n",
       " Text(221.31645569620252, 259.44545454545454, 'X[20] <= -0.583\\nentropy = 0.389\\nsamples = 131\\nvalue = [121, 10]'),\n",
       " Text(218.1772151898734, 234.73636363636365, 'entropy = 0.0\\nsamples = 2\\nvalue = [0, 2]'),\n",
       " Text(224.45569620253164, 234.73636363636365, 'X[19] <= -0.364\\nentropy = 0.335\\nsamples = 129\\nvalue = [121, 8]'),\n",
       " Text(218.1772151898734, 210.0272727272727, 'X[16] <= 0.718\\nentropy = 0.135\\nsamples = 53\\nvalue = [52, 1]'),\n",
       " Text(215.0379746835443, 185.3181818181818, 'X[19] <= -0.626\\nentropy = 0.469\\nsamples = 10\\nvalue = [9, 1]'),\n",
       " Text(211.89873417721518, 160.60909090909092, 'X[20] <= -0.048\\nentropy = 1.0\\nsamples = 2\\nvalue = [1, 1]'),\n",
       " Text(208.75949367088606, 135.89999999999998, 'entropy = 0.0\\nsamples = 1\\nvalue = [1, 0]'),\n",
       " Text(215.0379746835443, 135.89999999999998, 'entropy = 0.0\\nsamples = 1\\nvalue = [0, 1]'),\n",
       " Text(218.1772151898734, 160.60909090909092, 'entropy = 0.0\\nsamples = 8\\nvalue = [8, 0]'),\n",
       " Text(221.31645569620252, 185.3181818181818, 'entropy = 0.0\\nsamples = 43\\nvalue = [43, 0]'),\n",
       " Text(230.73417721518987, 210.0272727272727, 'X[19] <= -0.356\\nentropy = 0.443\\nsamples = 76\\nvalue = [69, 7]'),\n",
       " Text(227.59493670886076, 185.3181818181818, 'entropy = 0.0\\nsamples = 1\\nvalue = [0, 1]'),\n",
       " Text(233.873417721519, 185.3181818181818, 'X[16] <= 1.028\\nentropy = 0.402\\nsamples = 75\\nvalue = [69, 6]'),\n",
       " Text(230.73417721518987, 160.60909090909092, 'X[19] <= 0.256\\nentropy = 0.529\\nsamples = 50\\nvalue = [44, 6]'),\n",
       " Text(227.59493670886076, 135.89999999999998, 'X[19] <= 0.234\\nentropy = 0.661\\nsamples = 35\\nvalue = [29, 6]'),\n",
       " Text(224.45569620253164, 111.19090909090909, 'X[20] <= -0.008\\nentropy = 0.602\\nsamples = 34\\nvalue = [29, 5]'),\n",
       " Text(215.0379746835443, 86.4818181818182, 'X[16] <= 0.718\\nentropy = 0.918\\nsamples = 12\\nvalue = [8, 4]'),\n",
       " Text(211.89873417721518, 61.77272727272725, 'entropy = 0.0\\nsamples = 4\\nvalue = [4, 0]'),\n",
       " Text(218.1772151898734, 61.77272727272725, 'X[20] <= -0.354\\nentropy = 1.0\\nsamples = 8\\nvalue = [4, 4]'),\n",
       " Text(215.0379746835443, 37.06363636363636, 'entropy = 0.0\\nsamples = 2\\nvalue = [2, 0]'),\n",
       " Text(221.31645569620252, 37.06363636363636, 'X[19] <= -0.007\\nentropy = 0.918\\nsamples = 6\\nvalue = [2, 4]'),\n",
       " Text(218.1772151898734, 12.354545454545473, 'entropy = 0.0\\nsamples = 4\\nvalue = [0, 4]'),\n",
       " Text(224.45569620253164, 12.354545454545473, 'entropy = 0.0\\nsamples = 2\\nvalue = [2, 0]'),\n",
       " Text(233.873417721519, 86.4818181818182, 'X[16] <= 0.674\\nentropy = 0.267\\nsamples = 22\\nvalue = [21, 1]'),\n",
       " Text(230.73417721518987, 61.77272727272725, 'X[11] <= -0.013\\nentropy = 1.0\\nsamples = 2\\nvalue = [1, 1]'),\n",
       " Text(227.59493670886076, 37.06363636363636, 'entropy = 0.0\\nsamples = 1\\nvalue = [1, 0]'),\n",
       " Text(233.873417721519, 37.06363636363636, 'entropy = 0.0\\nsamples = 1\\nvalue = [0, 1]'),\n",
       " Text(237.01265822784808, 61.77272727272725, 'entropy = 0.0\\nsamples = 20\\nvalue = [20, 0]'),\n",
       " Text(230.73417721518987, 111.19090909090909, 'entropy = 0.0\\nsamples = 1\\nvalue = [0, 1]'),\n",
       " Text(233.873417721519, 135.89999999999998, 'entropy = 0.0\\nsamples = 15\\nvalue = [15, 0]'),\n",
       " Text(237.01265822784808, 160.60909090909092, 'entropy = 0.0\\nsamples = 25\\nvalue = [25, 0]'),\n",
       " Text(176.9746835443038, 382.9909090909091, 'entropy = 0.0\\nsamples = 33\\nvalue = [33, 0]'),\n",
       " Text(209.54430379746833, 407.70000000000005, 'X[16] <= 1.25\\nentropy = 0.113\\nsamples = 198\\nvalue = [195, 3]'),\n",
       " Text(203.26582278481013, 382.9909090909091, 'X[16] <= 0.63\\nentropy = 0.049\\nsamples = 182\\nvalue = [181, 1]'),\n",
       " Text(200.126582278481, 358.28181818181815, 'X[17] <= 1.351\\nentropy = 0.242\\nsamples = 25\\nvalue = [24, 1]'),\n",
       " Text(196.9873417721519, 333.5727272727273, 'entropy = 0.0\\nsamples = 24\\nvalue = [24, 0]'),\n",
       " Text(203.26582278481013, 333.5727272727273, 'entropy = 0.0\\nsamples = 1\\nvalue = [0, 1]'),\n",
       " Text(206.40506329113924, 358.28181818181815, 'entropy = 0.0\\nsamples = 157\\nvalue = [157, 0]'),\n",
       " Text(215.82278481012656, 382.9909090909091, 'X[19] <= 0.499\\nentropy = 0.544\\nsamples = 16\\nvalue = [14, 2]'),\n",
       " Text(212.68354430379745, 358.28181818181815, 'X[20] <= 0.456\\nentropy = 0.353\\nsamples = 15\\nvalue = [14, 1]'),\n",
       " Text(209.54430379746833, 333.5727272727273, 'entropy = 0.0\\nsamples = 12\\nvalue = [12, 0]'),\n",
       " Text(215.82278481012656, 333.5727272727273, 'X[20] <= 0.75\\nentropy = 0.918\\nsamples = 3\\nvalue = [2, 1]'),\n",
       " Text(212.68354430379745, 308.8636363636364, 'entropy = 0.0\\nsamples = 1\\nvalue = [0, 1]'),\n",
       " Text(218.96202531645568, 308.8636363636364, 'entropy = 0.0\\nsamples = 2\\nvalue = [2, 0]'),\n",
       " Text(218.96202531645568, 358.28181818181815, 'entropy = 0.0\\nsamples = 1\\nvalue = [0, 1]'),\n",
       " Text(247.2151898734177, 432.40909090909093, 'X[20] <= 0.992\\nentropy = 0.607\\nsamples = 47\\nvalue = [40, 7]'),\n",
       " Text(237.79746835443038, 407.70000000000005, 'X[16] <= 1.05\\nentropy = 0.461\\nsamples = 41\\nvalue = [37, 4]'),\n",
       " Text(228.37974683544303, 382.9909090909091, 'X[12] <= 0.424\\nentropy = 0.211\\nsamples = 30\\nvalue = [29, 1]'),\n",
       " Text(225.2405063291139, 358.28181818181815, 'entropy = 0.0\\nsamples = 26\\nvalue = [26, 0]'),\n",
       " Text(231.51898734177215, 358.28181818181815, 'X[20] <= 0.162\\nentropy = 0.811\\nsamples = 4\\nvalue = [3, 1]'),\n",
       " Text(228.37974683544303, 333.5727272727273, 'entropy = 0.0\\nsamples = 3\\nvalue = [3, 0]'),\n",
       " Text(234.65822784810126, 333.5727272727273, 'entropy = 0.0\\nsamples = 1\\nvalue = [0, 1]'),\n",
       " Text(247.2151898734177, 382.9909090909091, 'X[19] <= -0.239\\nentropy = 0.845\\nsamples = 11\\nvalue = [8, 3]'),\n",
       " Text(244.07594936708858, 358.28181818181815, 'X[20] <= -0.145\\nentropy = 0.985\\nsamples = 7\\nvalue = [4, 3]'),\n",
       " Text(240.9367088607595, 333.5727272727273, 'entropy = 0.0\\nsamples = 2\\nvalue = [0, 2]'),\n",
       " Text(247.2151898734177, 333.5727272727273, 'X[8] <= 0.917\\nentropy = 0.722\\nsamples = 5\\nvalue = [4, 1]'),\n",
       " Text(244.07594936708858, 308.8636363636364, 'entropy = 0.0\\nsamples = 4\\nvalue = [4, 0]'),\n",
       " Text(250.35443037974682, 308.8636363636364, 'entropy = 0.0\\nsamples = 1\\nvalue = [0, 1]'),\n",
       " Text(250.35443037974682, 358.28181818181815, 'entropy = 0.0\\nsamples = 4\\nvalue = [4, 0]'),\n",
       " Text(256.63291139240505, 407.70000000000005, 'X[0] <= -0.168\\nentropy = 1.0\\nsamples = 6\\nvalue = [3, 3]'),\n",
       " Text(253.49367088607593, 382.9909090909091, 'entropy = 0.0\\nsamples = 3\\nvalue = [3, 0]'),\n",
       " Text(259.77215189873414, 382.9909090909091, 'entropy = 0.0\\nsamples = 3\\nvalue = [0, 3]'),\n",
       " Text(300.5822784810126, 457.1181818181818, 'X[7] <= -0.145\\nentropy = 0.619\\nsamples = 182\\nvalue = [154, 28]'),\n",
       " Text(275.46835443037975, 432.40909090909093, 'X[16] <= 1.205\\nentropy = 0.31\\nsamples = 72\\nvalue = [68, 4]'),\n",
       " Text(269.1898734177215, 407.70000000000005, 'X[19] <= 2.065\\nentropy = 0.121\\nsamples = 61\\nvalue = [60, 1]'),\n",
       " Text(266.05063291139237, 382.9909090909091, 'X[19] <= 2.015\\nentropy = 0.323\\nsamples = 17\\nvalue = [16, 1]'),\n",
       " Text(262.9113924050633, 358.28181818181815, 'entropy = 0.0\\nsamples = 16\\nvalue = [16, 0]'),\n",
       " Text(269.1898734177215, 358.28181818181815, 'entropy = 0.0\\nsamples = 1\\nvalue = [0, 1]'),\n",
       " Text(272.3291139240506, 382.9909090909091, 'entropy = 0.0\\nsamples = 44\\nvalue = [44, 0]'),\n",
       " Text(281.746835443038, 407.70000000000005, 'X[0] <= -0.168\\nentropy = 0.845\\nsamples = 11\\nvalue = [8, 3]'),\n",
       " Text(278.60759493670884, 382.9909090909091, 'entropy = 0.0\\nsamples = 6\\nvalue = [6, 0]'),\n",
       " Text(284.88607594936707, 382.9909090909091, 'X[19] <= 2.261\\nentropy = 0.971\\nsamples = 5\\nvalue = [2, 3]'),\n",
       " Text(281.746835443038, 358.28181818181815, 'entropy = 0.0\\nsamples = 2\\nvalue = [0, 2]'),\n",
       " Text(288.0253164556962, 358.28181818181815, 'X[20] <= 0.979\\nentropy = 0.918\\nsamples = 3\\nvalue = [2, 1]'),\n",
       " Text(284.88607594936707, 333.5727272727273, 'entropy = 0.0\\nsamples = 2\\nvalue = [2, 0]'),\n",
       " Text(291.1645569620253, 333.5727272727273, 'entropy = 0.0\\nsamples = 1\\nvalue = [0, 1]'),\n",
       " Text(325.69620253164555, 432.40909090909093, 'X[16] <= 1.028\\nentropy = 0.757\\nsamples = 110\\nvalue = [86, 24]'),\n",
       " Text(311.56962025316454, 407.70000000000005, 'X[1] <= 0.168\\nentropy = 0.627\\nsamples = 70\\nvalue = [59, 11]'),\n",
       " Text(303.72151898734177, 382.9909090909091, 'X[16] <= 0.63\\nentropy = 0.196\\nsamples = 33\\nvalue = [32, 1]'),\n",
       " Text(300.5822784810126, 358.28181818181815, 'X[20] <= 0.351\\nentropy = 0.722\\nsamples = 5\\nvalue = [4, 1]'),\n",
       " Text(297.44303797468353, 333.5727272727273, 'entropy = 0.0\\nsamples = 1\\nvalue = [0, 1]'),\n",
       " Text(303.72151898734177, 333.5727272727273, 'entropy = 0.0\\nsamples = 4\\nvalue = [4, 0]'),\n",
       " Text(306.86075949367086, 358.28181818181815, 'entropy = 0.0\\nsamples = 28\\nvalue = [28, 0]'),\n",
       " Text(319.4177215189873, 382.9909090909091, 'X[16] <= 0.94\\nentropy = 0.842\\nsamples = 37\\nvalue = [27, 10]'),\n",
       " Text(316.27848101265823, 358.28181818181815, 'X[15] <= 0.953\\nentropy = 0.918\\nsamples = 30\\nvalue = [20, 10]'),\n",
       " Text(310.0, 333.5727272727273, 'X[17] <= 1.351\\nentropy = 0.84\\nsamples = 26\\nvalue = [19, 7]'),\n",
       " Text(306.86075949367086, 308.8636363636364, 'X[20] <= 0.9\\nentropy = 0.964\\nsamples = 18\\nvalue = [11, 7]'),\n",
       " Text(303.72151898734177, 284.1545454545455, 'X[19] <= 2.743\\nentropy = 0.997\\nsamples = 15\\nvalue = [8, 7]'),\n",
       " Text(300.5822784810126, 259.44545454545454, 'X[10] <= 0.013\\nentropy = 0.996\\nsamples = 13\\nvalue = [6, 7]'),\n",
       " Text(294.3037974683544, 234.73636363636365, 'X[19] <= 2.09\\nentropy = 0.954\\nsamples = 8\\nvalue = [5, 3]'),\n",
       " Text(291.1645569620253, 210.0272727272727, 'entropy = 0.0\\nsamples = 3\\nvalue = [3, 0]'),\n",
       " Text(297.44303797468353, 210.0272727272727, 'X[19] <= 2.324\\nentropy = 0.971\\nsamples = 5\\nvalue = [2, 3]'),\n",
       " Text(294.3037974683544, 185.3181818181818, 'entropy = 0.0\\nsamples = 3\\nvalue = [0, 3]'),\n",
       " Text(300.5822784810126, 185.3181818181818, 'entropy = 0.0\\nsamples = 2\\nvalue = [2, 0]'),\n",
       " Text(306.86075949367086, 234.73636363636365, 'X[20] <= 0.763\\nentropy = 0.722\\nsamples = 5\\nvalue = [1, 4]'),\n",
       " Text(303.72151898734177, 210.0272727272727, 'entropy = 0.0\\nsamples = 4\\nvalue = [0, 4]'),\n",
       " Text(310.0, 210.0272727272727, 'entropy = 0.0\\nsamples = 1\\nvalue = [1, 0]'),\n",
       " Text(306.86075949367086, 259.44545454545454, 'entropy = 0.0\\nsamples = 2\\nvalue = [2, 0]'),\n",
       " Text(310.0, 284.1545454545455, 'entropy = 0.0\\nsamples = 3\\nvalue = [3, 0]'),\n",
       " Text(313.1392405063291, 308.8636363636364, 'entropy = 0.0\\nsamples = 8\\nvalue = [8, 0]'),\n",
       " Text(322.55696202531647, 333.5727272727273, 'X[16] <= 0.74\\nentropy = 0.811\\nsamples = 4\\nvalue = [1, 3]'),\n",
       " Text(319.4177215189873, 308.8636363636364, 'entropy = 0.0\\nsamples = 2\\nvalue = [0, 2]'),\n",
       " Text(325.69620253164555, 308.8636363636364, 'X[20] <= 1.07\\nentropy = 1.0\\nsamples = 2\\nvalue = [1, 1]'),\n",
       " Text(322.55696202531647, 284.1545454545455, 'entropy = 0.0\\nsamples = 1\\nvalue = [1, 0]'),\n",
       " Text(328.83544303797464, 284.1545454545455, 'entropy = 0.0\\nsamples = 1\\nvalue = [0, 1]'),\n",
       " Text(322.55696202531647, 358.28181818181815, 'entropy = 0.0\\nsamples = 7\\nvalue = [7, 0]'),\n",
       " Text(339.82278481012656, 407.70000000000005, 'X[19] <= 1.878\\nentropy = 0.91\\nsamples = 40\\nvalue = [27, 13]'),\n",
       " Text(336.6835443037975, 382.9909090909091, 'entropy = 0.0\\nsamples = 3\\nvalue = [0, 3]'),\n",
       " Text(342.9620253164557, 382.9909090909091, 'X[19] <= 2.506\\nentropy = 0.842\\nsamples = 37\\nvalue = [27, 10]'),\n",
       " Text(331.9746835443038, 358.28181818181815, 'X[20] <= 1.345\\nentropy = 0.323\\nsamples = 17\\nvalue = [16, 1]'),\n",
       " Text(328.83544303797464, 333.5727272727273, 'entropy = 0.0\\nsamples = 15\\nvalue = [15, 0]'),\n",
       " Text(335.1139240506329, 333.5727272727273, 'X[19] <= 2.193\\nentropy = 1.0\\nsamples = 2\\nvalue = [1, 1]'),\n",
       " Text(331.9746835443038, 308.8636363636364, 'entropy = 0.0\\nsamples = 1\\nvalue = [1, 0]'),\n",
       " Text(338.253164556962, 308.8636363636364, 'entropy = 0.0\\nsamples = 1\\nvalue = [0, 1]'),\n",
       " Text(353.9493670886076, 358.28181818181815, 'X[13] <= 0.86\\nentropy = 0.993\\nsamples = 20\\nvalue = [11, 9]'),\n",
       " Text(350.8101265822785, 333.5727272727273, 'X[19] <= 2.639\\nentropy = 0.937\\nsamples = 17\\nvalue = [11, 6]'),\n",
       " Text(344.53164556962025, 308.8636363636364, 'X[11] <= -0.013\\nentropy = 0.811\\nsamples = 4\\nvalue = [1, 3]'),\n",
       " Text(341.3924050632911, 284.1545454545455, 'entropy = 0.0\\nsamples = 1\\nvalue = [1, 0]'),\n",
       " Text(347.67088607594934, 284.1545454545455, 'entropy = 0.0\\nsamples = 3\\nvalue = [0, 3]'),\n",
       " Text(357.0886075949367, 308.8636363636364, 'X[19] <= 3.555\\nentropy = 0.779\\nsamples = 13\\nvalue = [10, 3]'),\n",
       " Text(353.9493670886076, 284.1545454545455, 'X[14] <= 0.278\\nentropy = 0.65\\nsamples = 12\\nvalue = [10, 2]'),\n",
       " Text(350.8101265822785, 259.44545454545454, 'entropy = 0.0\\nsamples = 6\\nvalue = [6, 0]'),\n",
       " Text(357.0886075949367, 259.44545454545454, 'X[20] <= -0.322\\nentropy = 0.918\\nsamples = 6\\nvalue = [4, 2]'),\n",
       " Text(353.9493670886076, 234.73636363636365, 'entropy = 0.0\\nsamples = 1\\nvalue = [0, 1]'),\n",
       " Text(360.2278481012658, 234.73636363636365, 'X[20] <= 1.012\\nentropy = 0.722\\nsamples = 5\\nvalue = [4, 1]'),\n",
       " Text(357.0886075949367, 210.0272727272727, 'entropy = 0.0\\nsamples = 3\\nvalue = [3, 0]'),\n",
       " Text(363.3670886075949, 210.0272727272727, 'X[0] <= -0.168\\nentropy = 1.0\\nsamples = 2\\nvalue = [1, 1]'),\n",
       " Text(360.2278481012658, 185.3181818181818, 'entropy = 0.0\\nsamples = 1\\nvalue = [0, 1]'),\n",
       " Text(366.50632911392404, 185.3181818181818, 'entropy = 0.0\\nsamples = 1\\nvalue = [1, 0]'),\n",
       " Text(360.2278481012658, 284.1545454545455, 'entropy = 0.0\\nsamples = 1\\nvalue = [0, 1]'),\n",
       " Text(357.0886075949367, 333.5727272727273, 'entropy = 0.0\\nsamples = 3\\nvalue = [0, 3]'),\n",
       " Text(471.376582278481, 481.82727272727277, 'X[7] <= -0.145\\nentropy = 0.698\\nsamples = 409\\nvalue = [332, 77]'),\n",
       " Text(433.8037974683544, 457.1181818181818, 'X[20] <= 0.678\\nentropy = 0.595\\nsamples = 222\\nvalue = [190, 32]'),\n",
       " Text(430.6645569620253, 432.40909090909093, 'X[19] <= 2.086\\nentropy = 0.648\\nsamples = 193\\nvalue = [161, 32]'),\n",
       " Text(410.0632911392405, 407.70000000000005, 'X[20] <= -0.015\\nentropy = 0.709\\nsamples = 160\\nvalue = [129, 31]'),\n",
       " Text(390.83544303797464, 382.9909090909091, 'X[19] <= -1.091\\nentropy = 0.592\\nsamples = 98\\nvalue = [84, 14]'),\n",
       " Text(387.69620253164555, 358.28181818181815, 'entropy = 0.0\\nsamples = 1\\nvalue = [0, 1]'),\n",
       " Text(393.9746835443038, 358.28181818181815, 'X[19] <= -0.871\\nentropy = 0.568\\nsamples = 97\\nvalue = [84, 13]'),\n",
       " Text(390.83544303797464, 333.5727272727273, 'entropy = 0.0\\nsamples = 16\\nvalue = [16, 0]'),\n",
       " Text(397.1139240506329, 333.5727272727273, 'X[16] <= 1.604\\nentropy = 0.635\\nsamples = 81\\nvalue = [68, 13]'),\n",
       " Text(380.63291139240505, 308.8636363636364, 'X[4] <= -0.332\\nentropy = 0.457\\nsamples = 52\\nvalue = [47, 5]'),\n",
       " Text(372.7848101265823, 284.1545454545455, 'X[20] <= -0.929\\nentropy = 0.918\\nsamples = 3\\nvalue = [1, 2]'),\n",
       " Text(369.6455696202531, 259.44545454545454, 'entropy = 0.0\\nsamples = 1\\nvalue = [1, 0]'),\n",
       " Text(375.92405063291136, 259.44545454545454, 'entropy = 0.0\\nsamples = 2\\nvalue = [0, 2]'),\n",
       " Text(388.4810126582278, 284.1545454545455, 'X[19] <= 1.931\\nentropy = 0.332\\nsamples = 49\\nvalue = [46, 3]'),\n",
       " Text(382.2025316455696, 259.44545454545454, 'X[16] <= 1.383\\nentropy = 0.154\\nsamples = 45\\nvalue = [44, 1]'),\n",
       " Text(379.0632911392405, 234.73636363636365, 'X[19] <= -0.595\\nentropy = 0.544\\nsamples = 8\\nvalue = [7, 1]'),\n",
       " Text(375.92405063291136, 210.0272727272727, 'X[10] <= 0.013\\nentropy = 1.0\\nsamples = 2\\nvalue = [1, 1]'),\n",
       " Text(372.7848101265823, 185.3181818181818, 'entropy = 0.0\\nsamples = 1\\nvalue = [0, 1]'),\n",
       " Text(379.0632911392405, 185.3181818181818, 'entropy = 0.0\\nsamples = 1\\nvalue = [1, 0]'),\n",
       " Text(382.2025316455696, 210.0272727272727, 'entropy = 0.0\\nsamples = 6\\nvalue = [6, 0]'),\n",
       " Text(385.34177215189874, 234.73636363636365, 'entropy = 0.0\\nsamples = 37\\nvalue = [37, 0]'),\n",
       " Text(394.75949367088606, 259.44545454545454, 'X[16] <= 1.427\\nentropy = 1.0\\nsamples = 4\\nvalue = [2, 2]'),\n",
       " Text(391.62025316455697, 234.73636363636365, 'entropy = 0.0\\nsamples = 2\\nvalue = [2, 0]'),\n",
       " Text(397.89873417721515, 234.73636363636365, 'entropy = 0.0\\nsamples = 2\\nvalue = [0, 2]'),\n",
       " Text(413.59493670886076, 308.8636363636364, 'X[20] <= -0.348\\nentropy = 0.85\\nsamples = 29\\nvalue = [21, 8]'),\n",
       " Text(410.4556962025316, 284.1545454545455, 'X[14] <= 0.278\\nentropy = 0.998\\nsamples = 17\\nvalue = [9, 8]'),\n",
       " Text(407.3164556962025, 259.44545454545454, 'X[19] <= -0.434\\nentropy = 0.89\\nsamples = 13\\nvalue = [9, 4]'),\n",
       " Text(404.1772151898734, 234.73636363636365, 'X[12] <= 0.424\\nentropy = 0.985\\nsamples = 7\\nvalue = [3, 4]'),\n",
       " Text(401.0379746835443, 210.0272727272727, 'entropy = 0.0\\nsamples = 2\\nvalue = [0, 2]'),\n",
       " Text(407.3164556962025, 210.0272727272727, 'X[20] <= -0.439\\nentropy = 0.971\\nsamples = 5\\nvalue = [3, 2]'),\n",
       " Text(404.1772151898734, 185.3181818181818, 'X[19] <= -0.608\\nentropy = 0.811\\nsamples = 4\\nvalue = [3, 1]'),\n",
       " Text(401.0379746835443, 160.60909090909092, 'entropy = 0.0\\nsamples = 3\\nvalue = [3, 0]'),\n",
       " Text(407.3164556962025, 160.60909090909092, 'entropy = 0.0\\nsamples = 1\\nvalue = [0, 1]'),\n",
       " Text(410.4556962025316, 185.3181818181818, 'entropy = 0.0\\nsamples = 1\\nvalue = [0, 1]'),\n",
       " Text(410.4556962025316, 234.73636363636365, 'entropy = 0.0\\nsamples = 6\\nvalue = [6, 0]'),\n",
       " Text(413.59493670886076, 259.44545454545454, 'entropy = 0.0\\nsamples = 4\\nvalue = [0, 4]'),\n",
       " Text(416.73417721518985, 284.1545454545455, 'entropy = 0.0\\nsamples = 12\\nvalue = [12, 0]'),\n",
       " Text(429.2911392405063, 382.9909090909091, 'X[19] <= -0.939\\nentropy = 0.847\\nsamples = 62\\nvalue = [45, 17]'),\n",
       " Text(419.873417721519, 358.28181818181815, 'X[19] <= -1.026\\nentropy = 0.65\\nsamples = 6\\nvalue = [1, 5]'),\n",
       " Text(416.73417721518985, 333.5727272727273, 'entropy = 0.0\\nsamples = 1\\nvalue = [1, 0]'),\n",
       " Text(423.0126582278481, 333.5727272727273, 'entropy = 0.0\\nsamples = 5\\nvalue = [0, 5]'),\n",
       " Text(438.70886075949363, 358.28181818181815, 'X[19] <= -0.359\\nentropy = 0.75\\nsamples = 56\\nvalue = [44, 12]'),\n",
       " Text(429.2911392405063, 333.5727272727273, 'X[20] <= 0.646\\nentropy = 0.414\\nsamples = 24\\nvalue = [22, 2]'),\n",
       " Text(426.1518987341772, 308.8636363636364, 'X[17] <= 1.351\\nentropy = 0.258\\nsamples = 23\\nvalue = [22, 1]'),\n",
       " Text(423.0126582278481, 284.1545454545455, 'entropy = 0.0\\nsamples = 19\\nvalue = [19, 0]'),\n",
       " Text(429.2911392405063, 284.1545454545455, 'X[10] <= 0.013\\nentropy = 0.811\\nsamples = 4\\nvalue = [3, 1]'),\n",
       " Text(426.1518987341772, 259.44545454545454, 'entropy = 0.0\\nsamples = 3\\nvalue = [3, 0]'),\n",
       " Text(432.4303797468354, 259.44545454545454, 'entropy = 0.0\\nsamples = 1\\nvalue = [0, 1]'),\n",
       " Text(432.4303797468354, 308.8636363636364, 'entropy = 0.0\\nsamples = 1\\nvalue = [0, 1]'),\n",
       " Text(448.126582278481, 333.5727272727273, 'X[20] <= 0.391\\nentropy = 0.896\\nsamples = 32\\nvalue = [22, 10]'),\n",
       " Text(438.70886075949363, 308.8636363636364, 'X[19] <= 0.015\\nentropy = 0.722\\nsamples = 25\\nvalue = [20, 5]'),\n",
       " Text(435.56962025316454, 284.1545454545455, 'entropy = 0.0\\nsamples = 11\\nvalue = [11, 0]'),\n",
       " Text(441.8481012658228, 284.1545454545455, 'X[20] <= 0.005\\nentropy = 0.94\\nsamples = 14\\nvalue = [9, 5]'),\n",
       " Text(438.70886075949363, 259.44545454545454, 'entropy = 0.0\\nsamples = 3\\nvalue = [0, 3]'),\n",
       " Text(444.98734177215186, 259.44545454545454, 'X[16] <= 1.515\\nentropy = 0.684\\nsamples = 11\\nvalue = [9, 2]'),\n",
       " Text(441.8481012658228, 234.73636363636365, 'X[20] <= 0.345\\nentropy = 0.918\\nsamples = 3\\nvalue = [1, 2]'),\n",
       " Text(438.70886075949363, 210.0272727272727, 'entropy = 0.0\\nsamples = 2\\nvalue = [0, 2]'),\n",
       " Text(444.98734177215186, 210.0272727272727, 'entropy = 0.0\\nsamples = 1\\nvalue = [1, 0]'),\n",
       " Text(448.126582278481, 234.73636363636365, 'entropy = 0.0\\nsamples = 8\\nvalue = [8, 0]'),\n",
       " Text(457.54430379746833, 308.8636363636364, 'X[19] <= 1.413\\nentropy = 0.863\\nsamples = 7\\nvalue = [2, 5]'),\n",
       " Text(454.40506329113924, 284.1545454545455, 'X[19] <= 0.055\\nentropy = 0.65\\nsamples = 6\\nvalue = [1, 5]'),\n",
       " Text(451.2658227848101, 259.44545454545454, 'entropy = 0.0\\nsamples = 3\\nvalue = [0, 3]'),\n",
       " Text(457.54430379746833, 259.44545454545454, 'X[16] <= 1.56\\nentropy = 0.918\\nsamples = 3\\nvalue = [1, 2]'),\n",
       " Text(454.40506329113924, 234.73636363636365, 'entropy = 0.0\\nsamples = 2\\nvalue = [0, 2]'),\n",
       " Text(460.6835443037974, 234.73636363636365, 'entropy = 0.0\\nsamples = 1\\nvalue = [1, 0]'),\n",
       " Text(460.6835443037974, 284.1545454545455, 'entropy = 0.0\\nsamples = 1\\nvalue = [1, 0]'),\n",
       " Text(451.2658227848101, 407.70000000000005, 'X[20] <= -0.296\\nentropy = 0.196\\nsamples = 33\\nvalue = [32, 1]'),\n",
       " Text(448.126582278481, 382.9909090909091, 'X[20] <= -0.367\\nentropy = 0.592\\nsamples = 7\\nvalue = [6, 1]'),\n",
       " Text(444.98734177215186, 358.28181818181815, 'entropy = 0.0\\nsamples = 6\\nvalue = [6, 0]'),\n",
       " Text(451.2658227848101, 358.28181818181815, 'entropy = 0.0\\nsamples = 1\\nvalue = [0, 1]'),\n",
       " Text(454.40506329113924, 382.9909090909091, 'entropy = 0.0\\nsamples = 26\\nvalue = [26, 0]'),\n",
       " Text(436.94303797468353, 432.40909090909093, 'entropy = 0.0\\nsamples = 29\\nvalue = [29, 0]'),\n",
       " Text(508.9493670886076, 457.1181818181818, 'X[19] <= -0.024\\nentropy = 0.796\\nsamples = 187\\nvalue = [142, 45]'),\n",
       " Text(488.15189873417717, 432.40909090909093, 'X[17] <= 1.351\\nentropy = 0.682\\nsamples = 105\\nvalue = [86, 19]'),\n",
       " Text(474.8101265822785, 407.70000000000005, 'X[11] <= -0.013\\nentropy = 0.552\\nsamples = 86\\nvalue = [75, 11]'),\n",
       " Text(466.96202531645565, 382.9909090909091, 'X[19] <= -1.015\\nentropy = 0.179\\nsamples = 37\\nvalue = [36, 1]'),\n",
       " Text(463.82278481012656, 358.28181818181815, 'X[14] <= 0.278\\nentropy = 1.0\\nsamples = 2\\nvalue = [1, 1]'),\n",
       " Text(460.6835443037974, 333.5727272727273, 'entropy = 0.0\\nsamples = 1\\nvalue = [1, 0]'),\n",
       " Text(466.96202531645565, 333.5727272727273, 'entropy = 0.0\\nsamples = 1\\nvalue = [0, 1]'),\n",
       " Text(470.1012658227848, 358.28181818181815, 'entropy = 0.0\\nsamples = 35\\nvalue = [35, 0]'),\n",
       " Text(482.65822784810126, 382.9909090909091, 'X[16] <= 1.471\\nentropy = 0.73\\nsamples = 49\\nvalue = [39, 10]'),\n",
       " Text(476.37974683544303, 358.28181818181815, 'X[14] <= 0.278\\nentropy = 0.991\\nsamples = 9\\nvalue = [5, 4]'),\n",
       " Text(473.2405063291139, 333.5727272727273, 'X[18] <= 1.962\\nentropy = 0.918\\nsamples = 6\\nvalue = [2, 4]'),\n",
       " Text(470.1012658227848, 308.8636363636364, 'X[20] <= -0.224\\nentropy = 0.722\\nsamples = 5\\nvalue = [1, 4]'),\n",
       " Text(466.96202531645565, 284.1545454545455, 'X[16] <= 1.405\\nentropy = 1.0\\nsamples = 2\\nvalue = [1, 1]'),\n",
       " Text(463.82278481012656, 259.44545454545454, 'entropy = 0.0\\nsamples = 1\\nvalue = [0, 1]'),\n",
       " Text(470.1012658227848, 259.44545454545454, 'entropy = 0.0\\nsamples = 1\\nvalue = [1, 0]'),\n",
       " Text(473.2405063291139, 284.1545454545455, 'entropy = 0.0\\nsamples = 3\\nvalue = [0, 3]'),\n",
       " Text(476.37974683544303, 308.8636363636364, 'entropy = 0.0\\nsamples = 1\\nvalue = [1, 0]'),\n",
       " Text(479.5189873417721, 333.5727272727273, 'entropy = 0.0\\nsamples = 3\\nvalue = [3, 0]'),\n",
       " Text(488.9367088607595, 358.28181818181815, 'X[13] <= 0.86\\nentropy = 0.61\\nsamples = 40\\nvalue = [34, 6]'),\n",
       " Text(485.79746835443035, 333.5727272727273, 'X[20] <= -0.929\\nentropy = 0.736\\nsamples = 29\\nvalue = [23, 6]'),\n",
       " Text(482.65822784810126, 308.8636363636364, 'entropy = 0.0\\nsamples = 1\\nvalue = [0, 1]'),\n",
       " Text(488.9367088607595, 308.8636363636364, 'X[19] <= -0.518\\nentropy = 0.677\\nsamples = 28\\nvalue = [23, 5]'),\n",
       " Text(485.79746835443035, 284.1545454545455, 'X[19] <= -0.545\\nentropy = 0.852\\nsamples = 18\\nvalue = [13, 5]'),\n",
       " Text(482.65822784810126, 259.44545454545454, 'X[19] <= -0.663\\nentropy = 0.787\\nsamples = 17\\nvalue = [13, 4]'),\n",
       " Text(479.5189873417721, 234.73636363636365, 'X[19] <= -0.739\\nentropy = 0.946\\nsamples = 11\\nvalue = [7, 4]'),\n",
       " Text(476.37974683544303, 210.0272727272727, 'X[20] <= 0.992\\nentropy = 0.764\\nsamples = 9\\nvalue = [7, 2]'),\n",
       " Text(473.2405063291139, 185.3181818181818, 'X[19] <= -1.028\\nentropy = 0.544\\nsamples = 8\\nvalue = [7, 1]'),\n",
       " Text(470.1012658227848, 160.60909090909092, 'X[12] <= 0.424\\nentropy = 0.918\\nsamples = 3\\nvalue = [2, 1]'),\n",
       " Text(466.96202531645565, 135.89999999999998, 'entropy = 0.0\\nsamples = 2\\nvalue = [2, 0]'),\n",
       " Text(473.2405063291139, 135.89999999999998, 'entropy = 0.0\\nsamples = 1\\nvalue = [0, 1]'),\n",
       " Text(476.37974683544303, 160.60909090909092, 'entropy = 0.0\\nsamples = 5\\nvalue = [5, 0]'),\n",
       " Text(479.5189873417721, 185.3181818181818, 'entropy = 0.0\\nsamples = 1\\nvalue = [0, 1]'),\n",
       " Text(482.65822784810126, 210.0272727272727, 'entropy = 0.0\\nsamples = 2\\nvalue = [0, 2]'),\n",
       " Text(485.79746835443035, 234.73636363636365, 'entropy = 0.0\\nsamples = 6\\nvalue = [6, 0]'),\n",
       " Text(488.9367088607595, 259.44545454545454, 'entropy = 0.0\\nsamples = 1\\nvalue = [0, 1]'),\n",
       " Text(492.0759493670886, 284.1545454545455, 'entropy = 0.0\\nsamples = 10\\nvalue = [10, 0]'),\n",
       " Text(492.0759493670886, 333.5727272727273, 'entropy = 0.0\\nsamples = 11\\nvalue = [11, 0]'),\n",
       " Text(501.4936708860759, 407.70000000000005, 'X[19] <= -0.913\\nentropy = 0.982\\nsamples = 19\\nvalue = [11, 8]'),\n",
       " Text(498.3544303797468, 382.9909090909091, 'entropy = 0.0\\nsamples = 5\\nvalue = [5, 0]'),\n",
       " Text(504.63291139240505, 382.9909090909091, 'X[19] <= -0.401\\nentropy = 0.985\\nsamples = 14\\nvalue = [6, 8]'),\n",
       " Text(501.4936708860759, 358.28181818181815, 'X[11] <= -0.013\\nentropy = 0.722\\nsamples = 10\\nvalue = [2, 8]'),\n",
       " Text(498.3544303797468, 333.5727272727273, 'entropy = 0.0\\nsamples = 5\\nvalue = [0, 5]'),\n",
       " Text(504.63291139240505, 333.5727272727273, 'X[19] <= -0.747\\nentropy = 0.971\\nsamples = 5\\nvalue = [2, 3]'),\n",
       " Text(501.4936708860759, 308.8636363636364, 'entropy = 0.0\\nsamples = 2\\nvalue = [0, 2]'),\n",
       " Text(507.77215189873414, 308.8636363636364, 'X[14] <= 0.278\\nentropy = 0.918\\nsamples = 3\\nvalue = [2, 1]'),\n",
       " Text(504.63291139240505, 284.1545454545455, 'entropy = 0.0\\nsamples = 1\\nvalue = [0, 1]'),\n",
       " Text(510.9113924050633, 284.1545454545455, 'entropy = 0.0\\nsamples = 2\\nvalue = [2, 0]'),\n",
       " Text(507.77215189873414, 358.28181818181815, 'entropy = 0.0\\nsamples = 4\\nvalue = [4, 0]'),\n",
       " Text(529.746835443038, 432.40909090909093, 'X[19] <= -0.006\\nentropy = 0.901\\nsamples = 82\\nvalue = [56, 26]'),\n",
       " Text(526.6075949367089, 407.70000000000005, 'entropy = 0.0\\nsamples = 2\\nvalue = [0, 2]'),\n",
       " Text(532.8860759493671, 407.70000000000005, 'X[16] <= 1.515\\nentropy = 0.881\\nsamples = 80\\nvalue = [56, 24]'),\n",
       " Text(520.3291139240506, 382.9909090909091, 'X[20] <= 0.567\\nentropy = 0.605\\nsamples = 27\\nvalue = [23, 4]'),\n",
       " Text(514.0506329113924, 358.28181818181815, 'X[12] <= 0.424\\nentropy = 0.267\\nsamples = 22\\nvalue = [21, 1]'),\n",
       " Text(510.9113924050633, 333.5727272727273, 'entropy = 0.0\\nsamples = 14\\nvalue = [14, 0]'),\n",
       " Text(517.1898734177215, 333.5727272727273, 'X[19] <= 1.893\\nentropy = 0.544\\nsamples = 8\\nvalue = [7, 1]'),\n",
       " Text(514.0506329113924, 308.8636363636364, 'entropy = 0.0\\nsamples = 6\\nvalue = [6, 0]'),\n",
       " Text(520.3291139240506, 308.8636363636364, 'X[16] <= 1.383\\nentropy = 1.0\\nsamples = 2\\nvalue = [1, 1]'),\n",
       " Text(517.1898734177215, 284.1545454545455, 'entropy = 0.0\\nsamples = 1\\nvalue = [1, 0]'),\n",
       " Text(523.4683544303797, 284.1545454545455, 'entropy = 0.0\\nsamples = 1\\nvalue = [0, 1]'),\n",
       " Text(526.6075949367089, 358.28181818181815, 'X[19] <= 2.148\\nentropy = 0.971\\nsamples = 5\\nvalue = [2, 3]'),\n",
       " Text(523.4683544303797, 333.5727272727273, 'entropy = 0.0\\nsamples = 2\\nvalue = [2, 0]'),\n",
       " Text(529.746835443038, 333.5727272727273, 'entropy = 0.0\\nsamples = 3\\nvalue = [0, 3]'),\n",
       " Text(545.4430379746835, 382.9909090909091, 'X[20] <= 0.489\\nentropy = 0.956\\nsamples = 53\\nvalue = [33, 20]'),\n",
       " Text(539.1645569620252, 358.28181818181815, 'X[19] <= 2.97\\nentropy = 0.993\\nsamples = 42\\nvalue = [23, 19]'),\n",
       " Text(536.0253164556962, 333.5727272727273, 'X[20] <= 0.404\\nentropy = 0.977\\nsamples = 39\\nvalue = [23, 16]'),\n",
       " Text(532.8860759493671, 308.8636363636364, 'X[19] <= 2.408\\nentropy = 0.944\\nsamples = 36\\nvalue = [23, 13]'),\n",
       " Text(529.746835443038, 284.1545454545455, 'X[20] <= -0.779\\nentropy = 0.981\\nsamples = 31\\nvalue = [18, 13]'),\n",
       " Text(526.6075949367089, 259.44545454545454, 'entropy = 0.0\\nsamples = 2\\nvalue = [0, 2]'),\n",
       " Text(532.8860759493671, 259.44545454545454, 'X[19] <= 2.393\\nentropy = 0.958\\nsamples = 29\\nvalue = [18, 11]'),\n",
       " Text(529.746835443038, 234.73636363636365, 'X[19] <= 2.221\\nentropy = 0.94\\nsamples = 28\\nvalue = [18, 10]'),\n",
       " Text(523.4683544303797, 210.0272727272727, 'X[19] <= 0.077\\nentropy = 0.985\\nsamples = 21\\nvalue = [12, 9]'),\n",
       " Text(520.3291139240506, 185.3181818181818, 'entropy = 0.0\\nsamples = 2\\nvalue = [2, 0]'),\n",
       " Text(526.6075949367089, 185.3181818181818, 'X[19] <= 0.215\\nentropy = 0.998\\nsamples = 19\\nvalue = [10, 9]'),\n",
       " Text(523.4683544303797, 160.60909090909092, 'entropy = 0.0\\nsamples = 3\\nvalue = [0, 3]'),\n",
       " Text(529.746835443038, 160.60909090909092, 'X[19] <= 0.471\\nentropy = 0.954\\nsamples = 16\\nvalue = [10, 6]'),\n",
       " Text(526.6075949367089, 135.89999999999998, 'entropy = 0.0\\nsamples = 4\\nvalue = [4, 0]'),\n",
       " Text(532.8860759493671, 135.89999999999998, 'X[20] <= -0.433\\nentropy = 1.0\\nsamples = 12\\nvalue = [6, 6]'),\n",
       " Text(529.746835443038, 111.19090909090909, 'entropy = 0.0\\nsamples = 3\\nvalue = [3, 0]'),\n",
       " Text(536.0253164556962, 111.19090909090909, 'X[20] <= -0.139\\nentropy = 0.918\\nsamples = 9\\nvalue = [3, 6]'),\n",
       " Text(532.8860759493671, 86.4818181818182, 'entropy = 0.0\\nsamples = 3\\nvalue = [0, 3]'),\n",
       " Text(539.1645569620252, 86.4818181818182, 'X[14] <= 0.278\\nentropy = 1.0\\nsamples = 6\\nvalue = [3, 3]'),\n",
       " Text(536.0253164556962, 61.77272727272725, 'X[16] <= 1.648\\nentropy = 0.811\\nsamples = 4\\nvalue = [1, 3]'),\n",
       " Text(532.8860759493671, 37.06363636363636, 'entropy = 0.0\\nsamples = 3\\nvalue = [0, 3]'),\n",
       " Text(539.1645569620252, 37.06363636363636, 'entropy = 0.0\\nsamples = 1\\nvalue = [1, 0]'),\n",
       " Text(542.3037974683544, 61.77272727272725, 'entropy = 0.0\\nsamples = 2\\nvalue = [2, 0]'),\n",
       " Text(536.0253164556962, 210.0272727272727, 'X[16] <= 1.648\\nentropy = 0.592\\nsamples = 7\\nvalue = [6, 1]'),\n",
       " Text(532.8860759493671, 185.3181818181818, 'entropy = 0.0\\nsamples = 6\\nvalue = [6, 0]'),\n",
       " Text(539.1645569620252, 185.3181818181818, 'entropy = 0.0\\nsamples = 1\\nvalue = [0, 1]'),\n",
       " Text(536.0253164556962, 234.73636363636365, 'entropy = 0.0\\nsamples = 1\\nvalue = [0, 1]'),\n",
       " Text(536.0253164556962, 284.1545454545455, 'entropy = 0.0\\nsamples = 5\\nvalue = [5, 0]'),\n",
       " Text(539.1645569620252, 308.8636363636364, 'entropy = 0.0\\nsamples = 3\\nvalue = [0, 3]'),\n",
       " Text(542.3037974683544, 333.5727272727273, 'entropy = 0.0\\nsamples = 3\\nvalue = [0, 3]'),\n",
       " Text(551.7215189873417, 358.28181818181815, 'X[4] <= -0.332\\nentropy = 0.439\\nsamples = 11\\nvalue = [10, 1]'),\n",
       " Text(548.5822784810126, 333.5727272727273, 'entropy = 0.0\\nsamples = 1\\nvalue = [0, 1]'),\n",
       " Text(554.8607594936709, 333.5727272727273, 'entropy = 0.0\\nsamples = 10\\nvalue = [10, 0]')]"
      ]
     },
     "execution_count": 42,
     "metadata": {},
     "output_type": "execute_result"
    },
    {
     "data": {
      "image/png": "[encoded data removed]",
      "text/plain": [
       "<Figure size 720x720 with 1 Axes>"
      ]
     },
     "metadata": {
      "needs_background": "light"
     },
     "output_type": "display_data"
    }
   ],
   "source": [
    "import sklearn\n",
    "fig = plt.figure(figsize = (10,10))\n",
    "sklearn.tree.plot_tree(dc, filled = True)"
   ]
  }
 ],
 "metadata": {
  "kernelspec": {
   "display_name": "Python 3",
   "language": "python",
   "name": "python3"
  },
  "language_info": {
   "codemirror_mode": {
    "name": "ipython",
    "version": 3
   },
   "file_extension": ".py",
   "mimetype": "text/x-python",
   "name": "python",
   "nbconvert_exporter": "python",
   "pygments_lexer": "ipython3",
   "version": "3.7.9"
  },
  "papermill": {
   "default_parameters": {},
   "duration": 35.557756,
   "end_time": "2021-03-05T06:54:06.643220",
   "environment_variables": {},
   "exception": null,
   "input_path": "__notebook__.ipynb",
   "output_path": "__notebook__.ipynb",
   "parameters": {},
   "start_time": "2021-03-05T06:53:31.085464",
   "version": "2.2.2"
  }
 },
 "nbformat": 4,
 "nbformat_minor": 4
}
