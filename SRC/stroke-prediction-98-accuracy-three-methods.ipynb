{
 "cells": [
  {
   "cell_type": "code",
   "execution_count": 13,
   "metadata": {
    "execution": {
     "iopub.execute_input": "2021-03-14T11:33:54.917880Z",
     "iopub.status.busy": "2021-03-14T11:33:54.917312Z",
     "iopub.status.idle": "2021-03-14T11:33:56.166268Z",
     "shell.execute_reply": "2021-03-14T11:33:56.166797Z"
    },
    "papermill": {
     "duration": 1.303231,
     "end_time": "2021-03-14T11:33:56.167115",
     "exception": false,
     "start_time": "2021-03-14T11:33:54.863884",
     "status": "completed"
    },
    "tags": []
   },
   "outputs": [],
   "source": [
    "import pandas as pd\n",
    "import numpy as np\n",
    "import seaborn as sns\n",
    "import matplotlib.pyplot as plt\n",
    "from sklearn import tree\n",
    "from sklearn.tree import DecisionTreeClassifier\n",
    "from sklearn.metrics import f1_score"
   ]
  },
  {
   "cell_type": "code",
   "execution_count": 14,
   "metadata": {
    "execution": {
     "iopub.execute_input": "2021-03-14T11:33:56.258405Z",
     "iopub.status.busy": "2021-03-14T11:33:56.257859Z",
     "iopub.status.idle": "2021-03-14T11:33:56.288476Z",
     "shell.execute_reply": "2021-03-14T11:33:56.288978Z"
    },
    "papermill": {
     "duration": 0.077636,
     "end_time": "2021-03-14T11:33:56.289132",
     "exception": false,
     "start_time": "2021-03-14T11:33:56.211496",
     "status": "completed"
    },
    "tags": []
   },
   "outputs": [],
   "source": [
    "# reading csv file\n",
    "stroke_data = pd.read_csv('healthcare-dataset-stroke-data.csv')"
   ]
  },
  {
   "cell_type": "code",
   "execution_count": 15,
   "metadata": {
    "execution": {
     "iopub.execute_input": "2021-03-14T11:33:56.380281Z",
     "iopub.status.busy": "2021-03-14T11:33:56.379756Z",
     "iopub.status.idle": "2021-03-14T11:33:56.411182Z",
     "shell.execute_reply": "2021-03-14T11:33:56.411744Z"
    },
    "papermill": {
     "duration": 0.079487,
     "end_time": "2021-03-14T11:33:56.411909",
     "exception": false,
     "start_time": "2021-03-14T11:33:56.332422",
     "status": "completed"
    },
    "tags": []
   },
   "outputs": [
    {
     "data": {
      "text/html": [
       "<div>\n",
       "<style scoped>\n",
       "    .dataframe tbody tr th:only-of-type {\n",
       "        vertical-align: middle;\n",
       "    }\n",
       "\n",
       "    .dataframe tbody tr th {\n",
       "        vertical-align: top;\n",
       "    }\n",
       "\n",
       "    .dataframe thead th {\n",
       "        text-align: right;\n",
       "    }\n",
       "</style>\n",
       "<table border=\"1\" class=\"dataframe\">\n",
       "  <thead>\n",
       "    <tr style=\"text-align: right;\">\n",
       "      <th></th>\n",
       "      <th>id</th>\n",
       "      <th>gender</th>\n",
       "      <th>age</th>\n",
       "      <th>hypertension</th>\n",
       "      <th>heart_disease</th>\n",
       "      <th>ever_married</th>\n",
       "      <th>work_type</th>\n",
       "      <th>Residence_type</th>\n",
       "      <th>avg_glucose_level</th>\n",
       "      <th>bmi</th>\n",
       "      <th>smoking_status</th>\n",
       "      <th>stroke</th>\n",
       "    </tr>\n",
       "  </thead>\n",
       "  <tbody>\n",
       "    <tr>\n",
       "      <th>0</th>\n",
       "      <td>9046</td>\n",
       "      <td>Male</td>\n",
       "      <td>67.0</td>\n",
       "      <td>0</td>\n",
       "      <td>1</td>\n",
       "      <td>Yes</td>\n",
       "      <td>Private</td>\n",
       "      <td>Urban</td>\n",
       "      <td>228.69</td>\n",
       "      <td>36.6</td>\n",
       "      <td>formerly smoked</td>\n",
       "      <td>1</td>\n",
       "    </tr>\n",
       "    <tr>\n",
       "      <th>1</th>\n",
       "      <td>51676</td>\n",
       "      <td>Female</td>\n",
       "      <td>61.0</td>\n",
       "      <td>0</td>\n",
       "      <td>0</td>\n",
       "      <td>Yes</td>\n",
       "      <td>Self-employed</td>\n",
       "      <td>Rural</td>\n",
       "      <td>202.21</td>\n",
       "      <td>NaN</td>\n",
       "      <td>never smoked</td>\n",
       "      <td>1</td>\n",
       "    </tr>\n",
       "    <tr>\n",
       "      <th>2</th>\n",
       "      <td>31112</td>\n",
       "      <td>Male</td>\n",
       "      <td>80.0</td>\n",
       "      <td>0</td>\n",
       "      <td>1</td>\n",
       "      <td>Yes</td>\n",
       "      <td>Private</td>\n",
       "      <td>Rural</td>\n",
       "      <td>105.92</td>\n",
       "      <td>32.5</td>\n",
       "      <td>never smoked</td>\n",
       "      <td>1</td>\n",
       "    </tr>\n",
       "    <tr>\n",
       "      <th>3</th>\n",
       "      <td>60182</td>\n",
       "      <td>Female</td>\n",
       "      <td>49.0</td>\n",
       "      <td>0</td>\n",
       "      <td>0</td>\n",
       "      <td>Yes</td>\n",
       "      <td>Private</td>\n",
       "      <td>Urban</td>\n",
       "      <td>171.23</td>\n",
       "      <td>34.4</td>\n",
       "      <td>smokes</td>\n",
       "      <td>1</td>\n",
       "    </tr>\n",
       "    <tr>\n",
       "      <th>4</th>\n",
       "      <td>1665</td>\n",
       "      <td>Female</td>\n",
       "      <td>79.0</td>\n",
       "      <td>1</td>\n",
       "      <td>0</td>\n",
       "      <td>Yes</td>\n",
       "      <td>Self-employed</td>\n",
       "      <td>Rural</td>\n",
       "      <td>174.12</td>\n",
       "      <td>24.0</td>\n",
       "      <td>never smoked</td>\n",
       "      <td>1</td>\n",
       "    </tr>\n",
       "  </tbody>\n",
       "</table>\n",
       "</div>"
      ],
      "text/plain": [
       "      id  gender   age  hypertension  heart_disease ever_married  \\\n",
       "0   9046    Male  67.0             0              1          Yes   \n",
       "1  51676  Female  61.0             0              0          Yes   \n",
       "2  31112    Male  80.0             0              1          Yes   \n",
       "3  60182  Female  49.0             0              0          Yes   \n",
       "4   1665  Female  79.0             1              0          Yes   \n",
       "\n",
       "       work_type Residence_type  avg_glucose_level   bmi   smoking_status  \\\n",
       "0        Private          Urban             228.69  36.6  formerly smoked   \n",
       "1  Self-employed          Rural             202.21   NaN     never smoked   \n",
       "2        Private          Rural             105.92  32.5     never smoked   \n",
       "3        Private          Urban             171.23  34.4           smokes   \n",
       "4  Self-employed          Rural             174.12  24.0     never smoked   \n",
       "\n",
       "   stroke  \n",
       "0       1  \n",
       "1       1  \n",
       "2       1  \n",
       "3       1  \n",
       "4       1  "
      ]
     },
     "execution_count": 15,
     "metadata": {},
     "output_type": "execute_result"
    }
   ],
   "source": [
    "# checking the first five element\n",
    "stroke_data.head()"
   ]
  },
  {
   "cell_type": "code",
   "execution_count": 16,
   "metadata": {
    "execution": {
     "iopub.execute_input": "2021-03-14T11:33:56.507499Z",
     "iopub.status.busy": "2021-03-14T11:33:56.506858Z",
     "iopub.status.idle": "2021-03-14T11:33:56.511248Z",
     "shell.execute_reply": "2021-03-14T11:33:56.511809Z"
    },
    "papermill": {
     "duration": 0.053876,
     "end_time": "2021-03-14T11:33:56.511964",
     "exception": false,
     "start_time": "2021-03-14T11:33:56.458088",
     "status": "completed"
    },
    "tags": []
   },
   "outputs": [
    {
     "data": {
      "text/plain": [
       "(5110, 12)"
      ]
     },
     "execution_count": 16,
     "metadata": {},
     "output_type": "execute_result"
    }
   ],
   "source": [
    "# shape of data\n",
    "stroke_data.shape"
   ]
  },
  {
   "cell_type": "code",
   "execution_count": 17,
   "metadata": {
    "execution": {
     "iopub.execute_input": "2021-03-14T11:33:56.616541Z",
     "iopub.status.busy": "2021-03-14T11:33:56.615967Z",
     "iopub.status.idle": "2021-03-14T11:33:56.634359Z",
     "shell.execute_reply": "2021-03-14T11:33:56.634792Z"
    },
    "papermill": {
     "duration": 0.071398,
     "end_time": "2021-03-14T11:33:56.634935",
     "exception": false,
     "start_time": "2021-03-14T11:33:56.563537",
     "status": "completed"
    },
    "tags": []
   },
   "outputs": [
    {
     "name": "stdout",
     "output_type": "stream",
     "text": [
      "<class 'pandas.core.frame.DataFrame'>\n",
      "RangeIndex: 5110 entries, 0 to 5109\n",
      "Data columns (total 12 columns):\n",
      " #   Column             Non-Null Count  Dtype  \n",
      "---  ------             --------------  -----  \n",
      " 0   id                 5110 non-null   int64  \n",
      " 1   gender             5110 non-null   object \n",
      " 2   age                5110 non-null   float64\n",
      " 3   hypertension       5110 non-null   int64  \n",
      " 4   heart_disease      5110 non-null   int64  \n",
      " 5   ever_married       5110 non-null   object \n",
      " 6   work_type          5110 non-null   object \n",
      " 7   Residence_type     5110 non-null   object \n",
      " 8   avg_glucose_level  5110 non-null   float64\n",
      " 9   bmi                4909 non-null   float64\n",
      " 10  smoking_status     5110 non-null   object \n",
      " 11  stroke             5110 non-null   int64  \n",
      "dtypes: float64(3), int64(4), object(5)\n",
      "memory usage: 479.2+ KB\n"
     ]
    }
   ],
   "source": [
    "# gathering the information\n",
    "stroke_data.info()"
   ]
  },
  {
   "cell_type": "code",
   "execution_count": 18,
   "metadata": {
    "execution": {
     "iopub.execute_input": "2021-03-14T11:33:56.735298Z",
     "iopub.status.busy": "2021-03-14T11:33:56.734492Z",
     "iopub.status.idle": "2021-03-14T11:33:56.760744Z",
     "shell.execute_reply": "2021-03-14T11:33:56.761199Z"
    },
    "papermill": {
     "duration": 0.079714,
     "end_time": "2021-03-14T11:33:56.761350",
     "exception": false,
     "start_time": "2021-03-14T11:33:56.681636",
     "status": "completed"
    },
    "tags": []
   },
   "outputs": [
    {
     "data": {
      "text/html": [
       "<div>\n",
       "<style scoped>\n",
       "    .dataframe tbody tr th:only-of-type {\n",
       "        vertical-align: middle;\n",
       "    }\n",
       "\n",
       "    .dataframe tbody tr th {\n",
       "        vertical-align: top;\n",
       "    }\n",
       "\n",
       "    .dataframe thead th {\n",
       "        text-align: right;\n",
       "    }\n",
       "</style>\n",
       "<table border=\"1\" class=\"dataframe\">\n",
       "  <thead>\n",
       "    <tr style=\"text-align: right;\">\n",
       "      <th></th>\n",
       "      <th>id</th>\n",
       "      <th>age</th>\n",
       "      <th>hypertension</th>\n",
       "      <th>heart_disease</th>\n",
       "      <th>avg_glucose_level</th>\n",
       "      <th>bmi</th>\n",
       "      <th>stroke</th>\n",
       "    </tr>\n",
       "  </thead>\n",
       "  <tbody>\n",
       "    <tr>\n",
       "      <th>count</th>\n",
       "      <td>5110.000000</td>\n",
       "      <td>5110.000000</td>\n",
       "      <td>5110.000000</td>\n",
       "      <td>5110.000000</td>\n",
       "      <td>5110.000000</td>\n",
       "      <td>4909.000000</td>\n",
       "      <td>5110.000000</td>\n",
       "    </tr>\n",
       "    <tr>\n",
       "      <th>mean</th>\n",
       "      <td>36517.829354</td>\n",
       "      <td>43.226614</td>\n",
       "      <td>0.097456</td>\n",
       "      <td>0.054012</td>\n",
       "      <td>106.147677</td>\n",
       "      <td>28.893237</td>\n",
       "      <td>0.048728</td>\n",
       "    </tr>\n",
       "    <tr>\n",
       "      <th>std</th>\n",
       "      <td>21161.721625</td>\n",
       "      <td>22.612647</td>\n",
       "      <td>0.296607</td>\n",
       "      <td>0.226063</td>\n",
       "      <td>45.283560</td>\n",
       "      <td>7.854067</td>\n",
       "      <td>0.215320</td>\n",
       "    </tr>\n",
       "    <tr>\n",
       "      <th>min</th>\n",
       "      <td>67.000000</td>\n",
       "      <td>0.080000</td>\n",
       "      <td>0.000000</td>\n",
       "      <td>0.000000</td>\n",
       "      <td>55.120000</td>\n",
       "      <td>10.300000</td>\n",
       "      <td>0.000000</td>\n",
       "    </tr>\n",
       "    <tr>\n",
       "      <th>25%</th>\n",
       "      <td>17741.250000</td>\n",
       "      <td>25.000000</td>\n",
       "      <td>0.000000</td>\n",
       "      <td>0.000000</td>\n",
       "      <td>77.245000</td>\n",
       "      <td>23.500000</td>\n",
       "      <td>0.000000</td>\n",
       "    </tr>\n",
       "    <tr>\n",
       "      <th>50%</th>\n",
       "      <td>36932.000000</td>\n",
       "      <td>45.000000</td>\n",
       "      <td>0.000000</td>\n",
       "      <td>0.000000</td>\n",
       "      <td>91.885000</td>\n",
       "      <td>28.100000</td>\n",
       "      <td>0.000000</td>\n",
       "    </tr>\n",
       "    <tr>\n",
       "      <th>75%</th>\n",
       "      <td>54682.000000</td>\n",
       "      <td>61.000000</td>\n",
       "      <td>0.000000</td>\n",
       "      <td>0.000000</td>\n",
       "      <td>114.090000</td>\n",
       "      <td>33.100000</td>\n",
       "      <td>0.000000</td>\n",
       "    </tr>\n",
       "    <tr>\n",
       "      <th>max</th>\n",
       "      <td>72940.000000</td>\n",
       "      <td>82.000000</td>\n",
       "      <td>1.000000</td>\n",
       "      <td>1.000000</td>\n",
       "      <td>271.740000</td>\n",
       "      <td>97.600000</td>\n",
       "      <td>1.000000</td>\n",
       "    </tr>\n",
       "  </tbody>\n",
       "</table>\n",
       "</div>"
      ],
      "text/plain": [
       "                 id          age  hypertension  heart_disease  \\\n",
       "count   5110.000000  5110.000000   5110.000000    5110.000000   \n",
       "mean   36517.829354    43.226614      0.097456       0.054012   \n",
       "std    21161.721625    22.612647      0.296607       0.226063   \n",
       "min       67.000000     0.080000      0.000000       0.000000   \n",
       "25%    17741.250000    25.000000      0.000000       0.000000   \n",
       "50%    36932.000000    45.000000      0.000000       0.000000   \n",
       "75%    54682.000000    61.000000      0.000000       0.000000   \n",
       "max    72940.000000    82.000000      1.000000       1.000000   \n",
       "\n",
       "       avg_glucose_level          bmi       stroke  \n",
       "count        5110.000000  4909.000000  5110.000000  \n",
       "mean          106.147677    28.893237     0.048728  \n",
       "std            45.283560     7.854067     0.215320  \n",
       "min            55.120000    10.300000     0.000000  \n",
       "25%            77.245000    23.500000     0.000000  \n",
       "50%            91.885000    28.100000     0.000000  \n",
       "75%           114.090000    33.100000     0.000000  \n",
       "max           271.740000    97.600000     1.000000  "
      ]
     },
     "execution_count": 18,
     "metadata": {},
     "output_type": "execute_result"
    }
   ],
   "source": [
    "stroke_data.describe()"
   ]
  },
  {
   "cell_type": "code",
   "execution_count": 19,
   "metadata": {
    "execution": {
     "iopub.execute_input": "2021-03-14T11:33:56.858711Z",
     "iopub.status.busy": "2021-03-14T11:33:56.858162Z",
     "iopub.status.idle": "2021-03-14T11:33:56.866936Z",
     "shell.execute_reply": "2021-03-14T11:33:56.867402Z"
    },
    "papermill": {
     "duration": 0.059282,
     "end_time": "2021-03-14T11:33:56.867534",
     "exception": false,
     "start_time": "2021-03-14T11:33:56.808252",
     "status": "completed"
    },
    "tags": []
   },
   "outputs": [
    {
     "data": {
      "text/plain": [
       "id                     0\n",
       "gender                 0\n",
       "age                    0\n",
       "hypertension           0\n",
       "heart_disease          0\n",
       "ever_married           0\n",
       "work_type              0\n",
       "Residence_type         0\n",
       "avg_glucose_level      0\n",
       "bmi                  201\n",
       "smoking_status         0\n",
       "stroke                 0\n",
       "dtype: int64"
      ]
     },
     "execution_count": 19,
     "metadata": {},
     "output_type": "execute_result"
    }
   ],
   "source": [
    "# checking the null value of every column\n",
    "stroke_data.isnull().sum()"
   ]
  },
  {
   "cell_type": "code",
   "execution_count": 20,
   "metadata": {
    "execution": {
     "iopub.execute_input": "2021-03-14T11:33:56.965949Z",
     "iopub.status.busy": "2021-03-14T11:33:56.965411Z",
     "iopub.status.idle": "2021-03-14T11:33:56.994295Z",
     "shell.execute_reply": "2021-03-14T11:33:56.994732Z"
    },
    "papermill": {
     "duration": 0.078962,
     "end_time": "2021-03-14T11:33:56.994866",
     "exception": false,
     "start_time": "2021-03-14T11:33:56.915904",
     "status": "completed"
    },
    "tags": []
   },
   "outputs": [],
   "source": [
    "# since bmi has many null value we will replace it with mean\n",
    "stroke_data=stroke_data.replace(to_replace=np.nan,value=stroke_data.mean())"
   ]
  },
  {
   "cell_type": "code",
   "execution_count": 21,
   "metadata": {
    "execution": {
     "iopub.execute_input": "2021-03-14T11:33:57.092397Z",
     "iopub.status.busy": "2021-03-14T11:33:57.091876Z",
     "iopub.status.idle": "2021-03-14T11:33:57.100517Z",
     "shell.execute_reply": "2021-03-14T11:33:57.100877Z"
    },
    "papermill": {
     "duration": 0.059277,
     "end_time": "2021-03-14T11:33:57.101007",
     "exception": false,
     "start_time": "2021-03-14T11:33:57.041730",
     "status": "completed"
    },
    "scrolled": true,
    "tags": []
   },
   "outputs": [
    {
     "data": {
      "text/plain": [
       "id                   0\n",
       "gender               0\n",
       "age                  0\n",
       "hypertension         0\n",
       "heart_disease        0\n",
       "ever_married         0\n",
       "work_type            0\n",
       "Residence_type       0\n",
       "avg_glucose_level    0\n",
       "bmi                  0\n",
       "smoking_status       0\n",
       "stroke               0\n",
       "dtype: int64"
      ]
     },
     "execution_count": 21,
     "metadata": {},
     "output_type": "execute_result"
    }
   ],
   "source": [
    "# checking null values\n",
    "stroke_data.isnull().sum()"
   ]
  },
  {
   "cell_type": "code",
   "execution_count": 22,
   "metadata": {
    "execution": {
     "iopub.execute_input": "2021-03-14T11:33:57.199062Z",
     "iopub.status.busy": "2021-03-14T11:33:57.198561Z",
     "iopub.status.idle": "2021-03-14T11:33:57.205481Z",
     "shell.execute_reply": "2021-03-14T11:33:57.205872Z"
    },
    "papermill": {
     "duration": 0.056612,
     "end_time": "2021-03-14T11:33:57.206009",
     "exception": false,
     "start_time": "2021-03-14T11:33:57.149397",
     "status": "completed"
    },
    "tags": []
   },
   "outputs": [],
   "source": [
    "correlation=stroke_data.corr()"
   ]
  },
  {
   "cell_type": "code",
   "execution_count": 23,
   "metadata": {
    "execution": {
     "iopub.execute_input": "2021-03-14T11:33:57.318478Z",
     "iopub.status.busy": "2021-03-14T11:33:57.317901Z",
     "iopub.status.idle": "2021-03-14T11:33:57.809487Z",
     "shell.execute_reply": "2021-03-14T11:33:57.810000Z"
    },
    "papermill": {
     "duration": 0.557122,
     "end_time": "2021-03-14T11:33:57.810145",
     "exception": false,
     "start_time": "2021-03-14T11:33:57.253023",
     "status": "completed"
    },
    "tags": []
   },
   "outputs": [
    {
     "data": {
      "text/plain": [
       "<matplotlib.axes._subplots.AxesSubplot at 0x7fed5117ca10>"
      ]
     },
     "execution_count": 23,
     "metadata": {},
     "output_type": "execute_result"
    },
    {
     "data": {
      "image/png": "[encoded data removed]",
      "text/plain": [
       "<Figure size 432x288 with 2 Axes>"
      ]
     },
     "metadata": {
      "needs_background": "light"
     },
     "output_type": "display_data"
    }
   ],
   "source": [
    "sns.heatmap(correlation,annot=True)"
   ]
  },
  {
   "cell_type": "code",
   "execution_count": 24,
   "metadata": {
    "execution": {
     "iopub.execute_input": "2021-03-14T11:33:57.914184Z",
     "iopub.status.busy": "2021-03-14T11:33:57.913165Z",
     "iopub.status.idle": "2021-03-14T11:33:57.930571Z",
     "shell.execute_reply": "2021-03-14T11:33:57.930975Z"
    },
    "papermill": {
     "duration": 0.070596,
     "end_time": "2021-03-14T11:33:57.931123",
     "exception": false,
     "start_time": "2021-03-14T11:33:57.860527",
     "status": "completed"
    },
    "tags": []
   },
   "outputs": [
    {
     "data": {
      "text/plain": [
       "id                   5110\n",
       "gender                  3\n",
       "age                   104\n",
       "hypertension            2\n",
       "heart_disease           2\n",
       "ever_married            2\n",
       "work_type               5\n",
       "Residence_type          2\n",
       "avg_glucose_level    3979\n",
       "bmi                   419\n",
       "smoking_status          4\n",
       "stroke                  2\n",
       "dtype: int64"
      ]
     },
     "execution_count": 24,
     "metadata": {},
     "output_type": "execute_result"
    }
   ],
   "source": [
    "stroke_data.nunique()"
   ]
  },
  {
   "cell_type": "code",
   "execution_count": 25,
   "metadata": {
    "execution": {
     "iopub.execute_input": "2021-03-14T11:33:58.038821Z",
     "iopub.status.busy": "2021-03-14T11:33:58.038010Z",
     "iopub.status.idle": "2021-03-14T11:33:58.043670Z",
     "shell.execute_reply": "2021-03-14T11:33:58.044057Z"
    },
    "papermill": {
     "duration": 0.057741,
     "end_time": "2021-03-14T11:33:58.044198",
     "exception": false,
     "start_time": "2021-03-14T11:33:57.986457",
     "status": "completed"
    },
    "tags": []
   },
   "outputs": [
    {
     "data": {
      "text/plain": [
       "array(['formerly smoked', 'never smoked', 'smokes', 'Unknown'],\n",
       "      dtype=object)"
      ]
     },
     "execution_count": 25,
     "metadata": {},
     "output_type": "execute_result"
    }
   ],
   "source": [
    "stroke_data['smoking_status'].unique()"
   ]
  },
  {
   "cell_type": "code",
   "execution_count": 26,
   "metadata": {
    "execution": {
     "iopub.execute_input": "2021-03-14T11:33:58.148946Z",
     "iopub.status.busy": "2021-03-14T11:33:58.148102Z",
     "iopub.status.idle": "2021-03-14T11:33:58.152341Z",
     "shell.execute_reply": "2021-03-14T11:33:58.152822Z"
    },
    "papermill": {
     "duration": 0.059104,
     "end_time": "2021-03-14T11:33:58.152963",
     "exception": false,
     "start_time": "2021-03-14T11:33:58.093859",
     "status": "completed"
    },
    "tags": []
   },
   "outputs": [
    {
     "data": {
      "text/plain": [
       "array(['Urban', 'Rural'], dtype=object)"
      ]
     },
     "execution_count": 26,
     "metadata": {},
     "output_type": "execute_result"
    }
   ],
   "source": [
    "stroke_data['Residence_type'].unique()"
   ]
  },
  {
   "cell_type": "code",
   "execution_count": 27,
   "metadata": {
    "execution": {
     "iopub.execute_input": "2021-03-14T11:33:58.258201Z",
     "iopub.status.busy": "2021-03-14T11:33:58.257724Z",
     "iopub.status.idle": "2021-03-14T11:33:58.260861Z",
     "shell.execute_reply": "2021-03-14T11:33:58.260296Z"
    },
    "papermill": {
     "duration": 0.057713,
     "end_time": "2021-03-14T11:33:58.260984",
     "exception": false,
     "start_time": "2021-03-14T11:33:58.203271",
     "status": "completed"
    },
    "tags": []
   },
   "outputs": [
    {
     "data": {
      "text/plain": [
       "array(['Private', 'Self-employed', 'Govt_job', 'children', 'Never_worked'],\n",
       "      dtype=object)"
      ]
     },
     "execution_count": 27,
     "metadata": {},
     "output_type": "execute_result"
    }
   ],
   "source": [
    "stroke_data['work_type'].unique()"
   ]
  },
  {
   "cell_type": "code",
   "execution_count": 28,
   "metadata": {
    "execution": {
     "iopub.execute_input": "2021-03-14T11:33:58.364994Z",
     "iopub.status.busy": "2021-03-14T11:33:58.364468Z",
     "iopub.status.idle": "2021-03-14T11:33:58.369324Z",
     "shell.execute_reply": "2021-03-14T11:33:58.369878Z"
    },
    "papermill": {
     "duration": 0.058615,
     "end_time": "2021-03-14T11:33:58.370026",
     "exception": false,
     "start_time": "2021-03-14T11:33:58.311411",
     "status": "completed"
    },
    "tags": []
   },
   "outputs": [
    {
     "data": {
      "text/plain": [
       "array(['Yes', 'No'], dtype=object)"
      ]
     },
     "execution_count": 28,
     "metadata": {},
     "output_type": "execute_result"
    }
   ],
   "source": [
    "stroke_data['ever_married'].unique()"
   ]
  },
  {
   "cell_type": "code",
   "execution_count": 29,
   "metadata": {
    "execution": {
     "iopub.execute_input": "2021-03-14T11:33:58.473512Z",
     "iopub.status.busy": "2021-03-14T11:33:58.472901Z",
     "iopub.status.idle": "2021-03-14T11:33:58.477914Z",
     "shell.execute_reply": "2021-03-14T11:33:58.478437Z"
    },
    "papermill": {
     "duration": 0.057486,
     "end_time": "2021-03-14T11:33:58.478610",
     "exception": false,
     "start_time": "2021-03-14T11:33:58.421124",
     "status": "completed"
    },
    "tags": []
   },
   "outputs": [
    {
     "data": {
      "text/plain": [
       "array(['Male', 'Female', 'Other'], dtype=object)"
      ]
     },
     "execution_count": 29,
     "metadata": {},
     "output_type": "execute_result"
    }
   ],
   "source": [
    "stroke_data['gender'].unique()"
   ]
  },
  {
   "cell_type": "code",
   "execution_count": 30,
   "metadata": {
    "execution": {
     "iopub.execute_input": "2021-03-14T11:33:58.584830Z",
     "iopub.status.busy": "2021-03-14T11:33:58.584293Z",
     "iopub.status.idle": "2021-03-14T11:33:58.708150Z",
     "shell.execute_reply": "2021-03-14T11:33:58.708658Z"
    },
    "papermill": {
     "duration": 0.177705,
     "end_time": "2021-03-14T11:33:58.708801",
     "exception": false,
     "start_time": "2021-03-14T11:33:58.531096",
     "status": "completed"
    },
    "tags": []
   },
   "outputs": [
    {
     "data": {
      "text/plain": [
       "<matplotlib.axes._subplots.AxesSubplot at 0x7fed55c81e90>"
      ]
     },
     "execution_count": 30,
     "metadata": {},
     "output_type": "execute_result"
    },
    {
     "data": {
      "image/png": "[encoded data removed]",
      "text/plain": [
       "<Figure size 432x288 with 1 Axes>"
      ]
     },
     "metadata": {
      "needs_background": "light"
     },
     "output_type": "display_data"
    }
   ],
   "source": [
    "# count of smoking status\n",
    "sns.countplot(x=stroke_data['smoking_status'])"
   ]
  },
  {
   "cell_type": "code",
   "execution_count": 31,
   "metadata": {
    "execution": {
     "iopub.execute_input": "2021-03-14T11:33:58.814619Z",
     "iopub.status.busy": "2021-03-14T11:33:58.814123Z",
     "iopub.status.idle": "2021-03-14T11:33:58.819669Z",
     "shell.execute_reply": "2021-03-14T11:33:58.820150Z"
    },
    "papermill": {
     "duration": 0.059981,
     "end_time": "2021-03-14T11:33:58.820273",
     "exception": false,
     "start_time": "2021-03-14T11:33:58.760292",
     "status": "completed"
    },
    "tags": []
   },
   "outputs": [],
   "source": [
    "# as for clarification we will treat 'Unknown' as a null value and replace it\n",
    "stroke_data['smoking_status'].replace(to_replace='Unknown',value=stroke_data['smoking_status'].mode()[0],inplace=True)"
   ]
  },
  {
   "cell_type": "code",
   "execution_count": 32,
   "metadata": {
    "execution": {
     "iopub.execute_input": "2021-03-14T11:33:58.934433Z",
     "iopub.status.busy": "2021-03-14T11:33:58.933877Z",
     "iopub.status.idle": "2021-03-14T11:33:59.035357Z",
     "shell.execute_reply": "2021-03-14T11:33:59.035789Z"
    },
    "papermill": {
     "duration": 0.160174,
     "end_time": "2021-03-14T11:33:59.035944",
     "exception": false,
     "start_time": "2021-03-14T11:33:58.875770",
     "status": "completed"
    },
    "tags": []
   },
   "outputs": [
    {
     "data": {
      "text/plain": [
       "<matplotlib.axes._subplots.AxesSubplot at 0x7fed556412d0>"
      ]
     },
     "execution_count": 32,
     "metadata": {},
     "output_type": "execute_result"
    },
    {
     "data": {
      "image/png": "[encoded data removed]",
      "text/plain": [
       "<Figure size 432x288 with 1 Axes>"
      ]
     },
     "metadata": {
      "needs_background": "light"
     },
     "output_type": "display_data"
    }
   ],
   "source": [
    "sns.countplot(x=stroke_data['Residence_type'])"
   ]
  },
  {
   "cell_type": "code",
   "execution_count": 33,
   "metadata": {
    "execution": {
     "iopub.execute_input": "2021-03-14T11:33:59.150791Z",
     "iopub.status.busy": "2021-03-14T11:33:59.150211Z",
     "iopub.status.idle": "2021-03-14T11:33:59.271310Z",
     "shell.execute_reply": "2021-03-14T11:33:59.271843Z"
    },
    "papermill": {
     "duration": 0.181656,
     "end_time": "2021-03-14T11:33:59.272015",
     "exception": false,
     "start_time": "2021-03-14T11:33:59.090359",
     "status": "completed"
    },
    "tags": []
   },
   "outputs": [
    {
     "data": {
      "text/plain": [
       "<matplotlib.axes._subplots.AxesSubplot at 0x7fed55b40b90>"
      ]
     },
     "execution_count": 33,
     "metadata": {},
     "output_type": "execute_result"
    },
    {
     "data": {
      "image/png": "[encoded data removed]",
      "text/plain": [
       "<Figure size 432x288 with 1 Axes>"
      ]
     },
     "metadata": {
      "needs_background": "light"
     },
     "output_type": "display_data"
    }
   ],
   "source": [
    "sns.countplot(x=stroke_data['work_type'])"
   ]
  },
  {
   "cell_type": "code",
   "execution_count": 34,
   "metadata": {
    "execution": {
     "iopub.execute_input": "2021-03-14T11:33:59.384744Z",
     "iopub.status.busy": "2021-03-14T11:33:59.384244Z",
     "iopub.status.idle": "2021-03-14T11:33:59.489875Z",
     "shell.execute_reply": "2021-03-14T11:33:59.489433Z"
    },
    "papermill": {
     "duration": 0.162588,
     "end_time": "2021-03-14T11:33:59.489996",
     "exception": false,
     "start_time": "2021-03-14T11:33:59.327408",
     "status": "completed"
    },
    "tags": []
   },
   "outputs": [
    {
     "data": {
      "text/plain": [
       "<matplotlib.axes._subplots.AxesSubplot at 0x7fed55ec6290>"
      ]
     },
     "execution_count": 34,
     "metadata": {},
     "output_type": "execute_result"
    },
    {
     "data": {
      "image/png": "[encoded data removed]",
      "text/plain": [
       "<Figure size 432x288 with 1 Axes>"
      ]
     },
     "metadata": {
      "needs_background": "light"
     },
     "output_type": "display_data"
    }
   ],
   "source": [
    "sns.countplot(x=stroke_data['ever_married'])"
   ]
  },
  {
   "cell_type": "code",
   "execution_count": 35,
   "metadata": {
    "execution": {
     "iopub.execute_input": "2021-03-14T11:33:59.610534Z",
     "iopub.status.busy": "2021-03-14T11:33:59.609956Z",
     "iopub.status.idle": "2021-03-14T11:33:59.721612Z",
     "shell.execute_reply": "2021-03-14T11:33:59.721015Z"
    },
    "papermill": {
     "duration": 0.175826,
     "end_time": "2021-03-14T11:33:59.721739",
     "exception": false,
     "start_time": "2021-03-14T11:33:59.545913",
     "status": "completed"
    },
    "tags": []
   },
   "outputs": [
    {
     "data": {
      "text/plain": [
       "<matplotlib.axes._subplots.AxesSubplot at 0x7fed55fd0b10>"
      ]
     },
     "execution_count": 35,
     "metadata": {},
     "output_type": "execute_result"
    },
    {
     "data": {
      "image/png": "[encoded data removed]",
      "text/plain": [
       "<Figure size 432x288 with 1 Axes>"
      ]
     },
     "metadata": {
      "needs_background": "light"
     },
     "output_type": "display_data"
    }
   ],
   "source": [
    "sns.countplot(x=stroke_data['gender'])"
   ]
  },
  {
   "cell_type": "code",
   "execution_count": 36,
   "metadata": {
    "execution": {
     "iopub.execute_input": "2021-03-14T11:33:59.855575Z",
     "iopub.status.busy": "2021-03-14T11:33:59.854577Z",
     "iopub.status.idle": "2021-03-14T11:33:59.978630Z",
     "shell.execute_reply": "2021-03-14T11:33:59.977869Z"
    },
    "papermill": {
     "duration": 0.194471,
     "end_time": "2021-03-14T11:33:59.978824",
     "exception": false,
     "start_time": "2021-03-14T11:33:59.784353",
     "status": "completed"
    },
    "tags": []
   },
   "outputs": [
    {
     "data": {
      "text/plain": [
       "<matplotlib.axes._subplots.AxesSubplot at 0x7fed560f2c50>"
      ]
     },
     "execution_count": 36,
     "metadata": {},
     "output_type": "execute_result"
    },
    {
     "data": {
      "image/png": "[encoded data removed]",
      "text/plain": [
       "<Figure size 432x288 with 1 Axes>"
      ]
     },
     "metadata": {
      "needs_background": "light"
     },
     "output_type": "display_data"
    }
   ],
   "source": [
    "sns.countplot(x=stroke_data['heart_disease'])"
   ]
  },
  {
   "cell_type": "code",
   "execution_count": 37,
   "metadata": {
    "execution": {
     "iopub.execute_input": "2021-03-14T11:34:00.187857Z",
     "iopub.status.busy": "2021-03-14T11:34:00.186836Z",
     "iopub.status.idle": "2021-03-14T11:34:00.280020Z",
     "shell.execute_reply": "2021-03-14T11:34:00.280431Z"
    },
    "papermill": {
     "duration": 0.218895,
     "end_time": "2021-03-14T11:34:00.280584",
     "exception": false,
     "start_time": "2021-03-14T11:34:00.061689",
     "status": "completed"
    },
    "tags": []
   },
   "outputs": [
    {
     "data": {
      "text/plain": [
       "<matplotlib.axes._subplots.AxesSubplot at 0x7fed561f56d0>"
      ]
     },
     "execution_count": 37,
     "metadata": {},
     "output_type": "execute_result"
    },
    {
     "data": {
      "image/png": "[encoded data removed]",
      "text/plain": [
       "<Figure size 432x288 with 1 Axes>"
      ]
     },
     "metadata": {
      "needs_background": "light"
     },
     "output_type": "display_data"
    }
   ],
   "source": [
    "sns.countplot(x=stroke_data['hypertension'])"
   ]
  },
  {
   "cell_type": "code",
   "execution_count": 38,
   "metadata": {
    "execution": {
     "iopub.execute_input": "2021-03-14T11:34:00.419713Z",
     "iopub.status.busy": "2021-03-14T11:34:00.417796Z",
     "iopub.status.idle": "2021-03-14T11:34:00.494038Z",
     "shell.execute_reply": "2021-03-14T11:34:00.494435Z"
    },
    "papermill": {
     "duration": 0.155161,
     "end_time": "2021-03-14T11:34:00.494583",
     "exception": false,
     "start_time": "2021-03-14T11:34:00.339422",
     "status": "completed"
    },
    "tags": []
   },
   "outputs": [
    {
     "data": {
      "text/plain": [
       "<matplotlib.axes._subplots.AxesSubplot at 0x7fed562c69d0>"
      ]
     },
     "execution_count": 38,
     "metadata": {},
     "output_type": "execute_result"
    },
    {
     "data": {
      "image/png": "[encoded data removed]",
      "text/plain": [
       "<Figure size 432x288 with 1 Axes>"
      ]
     },
     "metadata": {
      "needs_background": "light"
     },
     "output_type": "display_data"
    }
   ],
   "source": [
    "sns.boxplot(x='bmi',data=stroke_data)"
   ]
  },
  {
   "cell_type": "code",
   "execution_count": 39,
   "metadata": {
    "execution": {
     "iopub.execute_input": "2021-03-14T11:34:00.621453Z",
     "iopub.status.busy": "2021-03-14T11:34:00.620716Z",
     "iopub.status.idle": "2021-03-14T11:34:00.623614Z",
     "shell.execute_reply": "2021-03-14T11:34:00.623045Z"
    },
    "papermill": {
     "duration": 0.0697,
     "end_time": "2021-03-14T11:34:00.623733",
     "exception": false,
     "start_time": "2021-03-14T11:34:00.554033",
     "status": "completed"
    },
    "tags": []
   },
   "outputs": [],
   "source": [
    "def remove_outliers(data):\n",
    "    arr=[]\n",
    "    #print(max(list(data)))\n",
    "    q1=np.percentile(data,25)\n",
    "    q3=np.percentile(data,75)\n",
    "    iqr=q3-q1\n",
    "    mi=q1-(1.5*iqr)\n",
    "    ma=q3+(1.5*iqr)\n",
    "    #print(mi,ma)\n",
    "    for i in list(data):\n",
    "        if i<mi:\n",
    "            i=mi\n",
    "            arr.append(i)\n",
    "        elif i>ma:\n",
    "            i=ma\n",
    "            arr.append(i)\n",
    "        else:\n",
    "            arr.append(i)\n",
    "    #print(max(arr))\n",
    "    return arr\n"
   ]
  },
  {
   "cell_type": "code",
   "execution_count": 40,
   "metadata": {
    "execution": {
     "iopub.execute_input": "2021-03-14T11:34:00.748075Z",
     "iopub.status.busy": "2021-03-14T11:34:00.747287Z",
     "iopub.status.idle": "2021-03-14T11:34:00.755291Z",
     "shell.execute_reply": "2021-03-14T11:34:00.754706Z"
    },
    "papermill": {
     "duration": 0.071093,
     "end_time": "2021-03-14T11:34:00.755425",
     "exception": false,
     "start_time": "2021-03-14T11:34:00.684332",
     "status": "completed"
    },
    "tags": []
   },
   "outputs": [],
   "source": [
    "stroke_data['bmi']=remove_outliers(stroke_data['bmi'])"
   ]
  },
  {
   "cell_type": "code",
   "execution_count": 41,
   "metadata": {
    "execution": {
     "iopub.execute_input": "2021-03-14T11:34:00.893591Z",
     "iopub.status.busy": "2021-03-14T11:34:00.881985Z",
     "iopub.status.idle": "2021-03-14T11:34:00.983410Z",
     "shell.execute_reply": "2021-03-14T11:34:00.982960Z"
    },
    "papermill": {
     "duration": 0.167801,
     "end_time": "2021-03-14T11:34:00.983529",
     "exception": false,
     "start_time": "2021-03-14T11:34:00.815728",
     "status": "completed"
    },
    "tags": []
   },
   "outputs": [
    {
     "data": {
      "text/plain": [
       "<matplotlib.axes._subplots.AxesSubplot at 0x7fed565480d0>"
      ]
     },
     "execution_count": 41,
     "metadata": {},
     "output_type": "execute_result"
    },
    {
     "data": {
      "image/png": "[encoded data removed]",
      "text/plain": [
       "<Figure size 432x288 with 1 Axes>"
      ]
     },
     "metadata": {
      "needs_background": "light"
     },
     "output_type": "display_data"
    }
   ],
   "source": [
    "sns.boxplot(x='bmi',data=stroke_data)"
   ]
  },
  {
   "cell_type": "code",
   "execution_count": 42,
   "metadata": {
    "execution": {
     "iopub.execute_input": "2021-03-14T11:34:01.124382Z",
     "iopub.status.busy": "2021-03-14T11:34:01.123719Z",
     "iopub.status.idle": "2021-03-14T11:34:01.127456Z",
     "shell.execute_reply": "2021-03-14T11:34:01.126935Z"
    },
    "papermill": {
     "duration": 0.082271,
     "end_time": "2021-03-14T11:34:01.127589",
     "exception": false,
     "start_time": "2021-03-14T11:34:01.045318",
     "status": "completed"
    },
    "tags": []
   },
   "outputs": [
    {
     "data": {
      "text/html": [
       "<div>\n",
       "<style scoped>\n",
       "    .dataframe tbody tr th:only-of-type {\n",
       "        vertical-align: middle;\n",
       "    }\n",
       "\n",
       "    .dataframe tbody tr th {\n",
       "        vertical-align: top;\n",
       "    }\n",
       "\n",
       "    .dataframe thead th {\n",
       "        text-align: right;\n",
       "    }\n",
       "</style>\n",
       "<table border=\"1\" class=\"dataframe\">\n",
       "  <thead>\n",
       "    <tr style=\"text-align: right;\">\n",
       "      <th></th>\n",
       "      <th>id</th>\n",
       "      <th>gender</th>\n",
       "      <th>age</th>\n",
       "      <th>hypertension</th>\n",
       "      <th>heart_disease</th>\n",
       "      <th>ever_married</th>\n",
       "      <th>work_type</th>\n",
       "      <th>Residence_type</th>\n",
       "      <th>avg_glucose_level</th>\n",
       "      <th>bmi</th>\n",
       "      <th>smoking_status</th>\n",
       "      <th>stroke</th>\n",
       "    </tr>\n",
       "  </thead>\n",
       "  <tbody>\n",
       "    <tr>\n",
       "      <th>0</th>\n",
       "      <td>9046</td>\n",
       "      <td>Male</td>\n",
       "      <td>67.0</td>\n",
       "      <td>0</td>\n",
       "      <td>1</td>\n",
       "      <td>Yes</td>\n",
       "      <td>Private</td>\n",
       "      <td>Urban</td>\n",
       "      <td>228.69</td>\n",
       "      <td>36.600000</td>\n",
       "      <td>formerly smoked</td>\n",
       "      <td>1</td>\n",
       "    </tr>\n",
       "    <tr>\n",
       "      <th>1</th>\n",
       "      <td>51676</td>\n",
       "      <td>Female</td>\n",
       "      <td>61.0</td>\n",
       "      <td>0</td>\n",
       "      <td>0</td>\n",
       "      <td>Yes</td>\n",
       "      <td>Self-employed</td>\n",
       "      <td>Rural</td>\n",
       "      <td>202.21</td>\n",
       "      <td>28.893237</td>\n",
       "      <td>never smoked</td>\n",
       "      <td>1</td>\n",
       "    </tr>\n",
       "    <tr>\n",
       "      <th>2</th>\n",
       "      <td>31112</td>\n",
       "      <td>Male</td>\n",
       "      <td>80.0</td>\n",
       "      <td>0</td>\n",
       "      <td>1</td>\n",
       "      <td>Yes</td>\n",
       "      <td>Private</td>\n",
       "      <td>Rural</td>\n",
       "      <td>105.92</td>\n",
       "      <td>32.500000</td>\n",
       "      <td>never smoked</td>\n",
       "      <td>1</td>\n",
       "    </tr>\n",
       "    <tr>\n",
       "      <th>3</th>\n",
       "      <td>60182</td>\n",
       "      <td>Female</td>\n",
       "      <td>49.0</td>\n",
       "      <td>0</td>\n",
       "      <td>0</td>\n",
       "      <td>Yes</td>\n",
       "      <td>Private</td>\n",
       "      <td>Urban</td>\n",
       "      <td>171.23</td>\n",
       "      <td>34.400000</td>\n",
       "      <td>smokes</td>\n",
       "      <td>1</td>\n",
       "    </tr>\n",
       "    <tr>\n",
       "      <th>4</th>\n",
       "      <td>1665</td>\n",
       "      <td>Female</td>\n",
       "      <td>79.0</td>\n",
       "      <td>1</td>\n",
       "      <td>0</td>\n",
       "      <td>Yes</td>\n",
       "      <td>Self-employed</td>\n",
       "      <td>Rural</td>\n",
       "      <td>174.12</td>\n",
       "      <td>24.000000</td>\n",
       "      <td>never smoked</td>\n",
       "      <td>1</td>\n",
       "    </tr>\n",
       "  </tbody>\n",
       "</table>\n",
       "</div>"
      ],
      "text/plain": [
       "      id  gender   age  hypertension  heart_disease ever_married  \\\n",
       "0   9046    Male  67.0             0              1          Yes   \n",
       "1  51676  Female  61.0             0              0          Yes   \n",
       "2  31112    Male  80.0             0              1          Yes   \n",
       "3  60182  Female  49.0             0              0          Yes   \n",
       "4   1665  Female  79.0             1              0          Yes   \n",
       "\n",
       "       work_type Residence_type  avg_glucose_level        bmi  \\\n",
       "0        Private          Urban             228.69  36.600000   \n",
       "1  Self-employed          Rural             202.21  28.893237   \n",
       "2        Private          Rural             105.92  32.500000   \n",
       "3        Private          Urban             171.23  34.400000   \n",
       "4  Self-employed          Rural             174.12  24.000000   \n",
       "\n",
       "    smoking_status  stroke  \n",
       "0  formerly smoked       1  \n",
       "1     never smoked       1  \n",
       "2     never smoked       1  \n",
       "3           smokes       1  \n",
       "4     never smoked       1  "
      ]
     },
     "execution_count": 42,
     "metadata": {},
     "output_type": "execute_result"
    }
   ],
   "source": [
    "stroke_data.head()"
   ]
  },
  {
   "cell_type": "code",
   "execution_count": 43,
   "metadata": {
    "execution": {
     "iopub.execute_input": "2021-03-14T11:34:01.268088Z",
     "iopub.status.busy": "2021-03-14T11:34:01.256417Z",
     "iopub.status.idle": "2021-03-14T11:34:01.345589Z",
     "shell.execute_reply": "2021-03-14T11:34:01.345154Z"
    },
    "papermill": {
     "duration": 0.156058,
     "end_time": "2021-03-14T11:34:01.345728",
     "exception": false,
     "start_time": "2021-03-14T11:34:01.189670",
     "status": "completed"
    },
    "tags": []
   },
   "outputs": [
    {
     "data": {
      "text/plain": [
       "<matplotlib.axes._subplots.AxesSubplot at 0x7fed5660d850>"
      ]
     },
     "execution_count": 43,
     "metadata": {},
     "output_type": "execute_result"
    },
    {
     "data": {
      "image/png": "[encoded data removed]",
      "text/plain": [
       "<Figure size 432x288 with 1 Axes>"
      ]
     },
     "metadata": {
      "needs_background": "light"
     },
     "output_type": "display_data"
    }
   ],
   "source": [
    "sns.boxplot(x='avg_glucose_level',data=stroke_data)"
   ]
  },
  {
   "cell_type": "code",
   "execution_count": 44,
   "metadata": {
    "execution": {
     "iopub.execute_input": "2021-03-14T11:34:01.472251Z",
     "iopub.status.busy": "2021-03-14T11:34:01.471767Z",
     "iopub.status.idle": "2021-03-14T11:34:01.478968Z",
     "shell.execute_reply": "2021-03-14T11:34:01.479330Z"
    },
    "papermill": {
     "duration": 0.071663,
     "end_time": "2021-03-14T11:34:01.479498",
     "exception": false,
     "start_time": "2021-03-14T11:34:01.407835",
     "status": "completed"
    },
    "tags": []
   },
   "outputs": [],
   "source": [
    "stroke_data['avg_glucose_level']=remove_outliers(stroke_data['avg_glucose_level'])"
   ]
  },
  {
   "cell_type": "code",
   "execution_count": 45,
   "metadata": {
    "execution": {
     "iopub.execute_input": "2021-03-14T11:34:01.656055Z",
     "iopub.status.busy": "2021-03-14T11:34:01.640605Z",
     "iopub.status.idle": "2021-03-14T11:34:01.787635Z",
     "shell.execute_reply": "2021-03-14T11:34:01.787130Z"
    },
    "papermill": {
     "duration": 0.243993,
     "end_time": "2021-03-14T11:34:01.787777",
     "exception": false,
     "start_time": "2021-03-14T11:34:01.543784",
     "status": "completed"
    },
    "tags": []
   },
   "outputs": [
    {
     "data": {
      "text/plain": [
       "<matplotlib.axes._subplots.AxesSubplot at 0x7fed5665ee10>"
      ]
     },
     "execution_count": 45,
     "metadata": {},
     "output_type": "execute_result"
    },
    {
     "data": {
      "image/png": "[encoded data removed]",
      "text/plain": [
       "<Figure size 432x288 with 1 Axes>"
      ]
     },
     "metadata": {
      "needs_background": "light"
     },
     "output_type": "display_data"
    }
   ],
   "source": [
    "sns.boxplot(x='avg_glucose_level',data=stroke_data)"
   ]
  },
  {
   "cell_type": "code",
   "execution_count": 46,
   "metadata": {
    "execution": {
     "iopub.execute_input": "2021-03-14T11:34:01.955590Z",
     "iopub.status.busy": "2021-03-14T11:34:01.952705Z",
     "iopub.status.idle": "2021-03-14T11:34:02.139113Z",
     "shell.execute_reply": "2021-03-14T11:34:02.139798Z"
    },
    "papermill": {
     "duration": 0.284973,
     "end_time": "2021-03-14T11:34:02.139976",
     "exception": false,
     "start_time": "2021-03-14T11:34:01.855003",
     "status": "completed"
    },
    "tags": []
   },
   "outputs": [
    {
     "data": {
      "text/plain": [
       "<matplotlib.axes._subplots.AxesSubplot at 0x7fed5673aad0>"
      ]
     },
     "execution_count": 46,
     "metadata": {},
     "output_type": "execute_result"
    },
    {
     "data": {
      "image/png": "[encoded data removed]",
      "text/plain": [
       "<Figure size 432x288 with 1 Axes>"
      ]
     },
     "metadata": {
      "needs_background": "light"
     },
     "output_type": "display_data"
    }
   ],
   "source": [
    "# relation between age and stroke\n",
    "sns.countplot(x='work_type',hue='stroke',data=stroke_data)"
   ]
  },
  {
   "cell_type": "markdown",
   "metadata": {
    "papermill": {
     "duration": 0.067698,
     "end_time": "2021-03-14T11:34:02.270630",
     "exception": false,
     "start_time": "2021-03-14T11:34:02.202932",
     "status": "completed"
    },
    "tags": []
   },
   "source": []
  },
  {
   "cell_type": "code",
   "execution_count": 47,
   "metadata": {
    "execution": {
     "iopub.execute_input": "2021-03-14T11:34:02.407879Z",
     "iopub.status.busy": "2021-03-14T11:34:02.406996Z",
     "iopub.status.idle": "2021-03-14T11:34:02.612138Z",
     "shell.execute_reply": "2021-03-14T11:34:02.612603Z"
    },
    "papermill": {
     "duration": 0.275032,
     "end_time": "2021-03-14T11:34:02.612812",
     "exception": false,
     "start_time": "2021-03-14T11:34:02.337780",
     "status": "completed"
    },
    "tags": []
   },
   "outputs": [
    {
     "data": {
      "text/plain": [
       "<matplotlib.axes._subplots.AxesSubplot at 0x7fed569793d0>"
      ]
     },
     "execution_count": 47,
     "metadata": {},
     "output_type": "execute_result"
    },
    {
     "data": {
      "image/png": "[encoded data removed]",
      "text/plain": [
       "<Figure size 432x288 with 1 Axes>"
      ]
     },
     "metadata": {
      "needs_background": "light"
     },
     "output_type": "display_data"
    }
   ],
   "source": [
    "# relationship between smoking status and stroke\n",
    "sns.countplot(hue='hypertension',x='stroke',data=stroke_data)\n"
   ]
  },
  {
   "cell_type": "code",
   "execution_count": 48,
   "metadata": {
    "execution": {
     "iopub.execute_input": "2021-03-14T11:34:02.745226Z",
     "iopub.status.busy": "2021-03-14T11:34:02.744325Z",
     "iopub.status.idle": "2021-03-14T11:34:02.914364Z",
     "shell.execute_reply": "2021-03-14T11:34:02.914836Z"
    },
    "papermill": {
     "duration": 0.235956,
     "end_time": "2021-03-14T11:34:02.914981",
     "exception": false,
     "start_time": "2021-03-14T11:34:02.679025",
     "status": "completed"
    },
    "tags": []
   },
   "outputs": [
    {
     "data": {
      "text/plain": [
       "<matplotlib.axes._subplots.AxesSubplot at 0x7fed56994a90>"
      ]
     },
     "execution_count": 48,
     "metadata": {},
     "output_type": "execute_result"
    },
    {
     "data": {
      "image/png": "[encoded data removed]",
      "text/plain": [
       "<Figure size 432x288 with 1 Axes>"
      ]
     },
     "metadata": {
      "needs_background": "light"
     },
     "output_type": "display_data"
    }
   ],
   "source": [
    "sns.countplot(x='work_type',hue='stroke',data=stroke_data)"
   ]
  },
  {
   "cell_type": "code",
   "execution_count": 49,
   "metadata": {
    "execution": {
     "iopub.execute_input": "2021-03-14T11:34:03.051888Z",
     "iopub.status.busy": "2021-03-14T11:34:03.051023Z",
     "iopub.status.idle": "2021-03-14T11:34:03.176944Z",
     "shell.execute_reply": "2021-03-14T11:34:03.177510Z"
    },
    "papermill": {
     "duration": 0.196026,
     "end_time": "2021-03-14T11:34:03.177693",
     "exception": false,
     "start_time": "2021-03-14T11:34:02.981667",
     "status": "completed"
    },
    "tags": []
   },
   "outputs": [
    {
     "data": {
      "text/plain": [
       "<matplotlib.axes._subplots.AxesSubplot at 0x7fed56aedf90>"
      ]
     },
     "execution_count": 49,
     "metadata": {},
     "output_type": "execute_result"
    },
    {
     "data": {
      "image/png": "[encoded data removed]",
      "text/plain": [
       "<Figure size 432x288 with 1 Axes>"
      ]
     },
     "metadata": {
      "needs_background": "light"
     },
     "output_type": "display_data"
    }
   ],
   "source": [
    "sns.countplot(x='heart_disease',hue='stroke',data=stroke_data)"
   ]
  },
  {
   "cell_type": "code",
   "execution_count": 50,
   "metadata": {
    "execution": {
     "iopub.execute_input": "2021-03-14T11:34:03.316742Z",
     "iopub.status.busy": "2021-03-14T11:34:03.315970Z",
     "iopub.status.idle": "2021-03-14T11:34:03.319763Z",
     "shell.execute_reply": "2021-03-14T11:34:03.319234Z"
    },
    "papermill": {
     "duration": 0.075715,
     "end_time": "2021-03-14T11:34:03.319890",
     "exception": false,
     "start_time": "2021-03-14T11:34:03.244175",
     "status": "completed"
    },
    "tags": []
   },
   "outputs": [
    {
     "data": {
      "text/plain": [
       "Index(['id', 'gender', 'age', 'hypertension', 'heart_disease', 'ever_married',\n",
       "       'work_type', 'Residence_type', 'avg_glucose_level', 'bmi',\n",
       "       'smoking_status', 'stroke'],\n",
       "      dtype='object')"
      ]
     },
     "execution_count": 50,
     "metadata": {},
     "output_type": "execute_result"
    }
   ],
   "source": [
    "stroke_data.columns"
   ]
  },
  {
   "cell_type": "code",
   "execution_count": 51,
   "metadata": {
    "execution": {
     "iopub.execute_input": "2021-03-14T11:34:03.463742Z",
     "iopub.status.busy": "2021-03-14T11:34:03.463077Z",
     "iopub.status.idle": "2021-03-14T11:34:03.465670Z",
     "shell.execute_reply": "2021-03-14T11:34:03.465056Z"
    },
    "papermill": {
     "duration": 0.075678,
     "end_time": "2021-03-14T11:34:03.465797",
     "exception": false,
     "start_time": "2021-03-14T11:34:03.390119",
     "status": "completed"
    },
    "tags": []
   },
   "outputs": [],
   "source": [
    "from sklearn.preprocessing import LabelEncoder"
   ]
  },
  {
   "cell_type": "code",
   "execution_count": 52,
   "metadata": {
    "execution": {
     "iopub.execute_input": "2021-03-14T11:34:03.611529Z",
     "iopub.status.busy": "2021-03-14T11:34:03.610969Z",
     "iopub.status.idle": "2021-03-14T11:34:03.614002Z",
     "shell.execute_reply": "2021-03-14T11:34:03.613555Z"
    },
    "papermill": {
     "duration": 0.076297,
     "end_time": "2021-03-14T11:34:03.614113",
     "exception": false,
     "start_time": "2021-03-14T11:34:03.537816",
     "status": "completed"
    },
    "tags": []
   },
   "outputs": [],
   "source": [
    "label_encoder=LabelEncoder()"
   ]
  },
  {
   "cell_type": "code",
   "execution_count": 53,
   "metadata": {
    "execution": {
     "iopub.execute_input": "2021-03-14T11:34:03.750798Z",
     "iopub.status.busy": "2021-03-14T11:34:03.750234Z",
     "iopub.status.idle": "2021-03-14T11:34:03.765518Z",
     "shell.execute_reply": "2021-03-14T11:34:03.765060Z"
    },
    "papermill": {
     "duration": 0.084108,
     "end_time": "2021-03-14T11:34:03.765639",
     "exception": false,
     "start_time": "2021-03-14T11:34:03.681531",
     "status": "completed"
    },
    "tags": []
   },
   "outputs": [],
   "source": [
    "data=stroke_data.apply(label_encoder.fit_transform)"
   ]
  },
  {
   "cell_type": "code",
   "execution_count": 54,
   "metadata": {
    "execution": {
     "iopub.execute_input": "2021-03-14T11:34:03.908181Z",
     "iopub.status.busy": "2021-03-14T11:34:03.907627Z",
     "iopub.status.idle": "2021-03-14T11:34:03.911864Z",
     "shell.execute_reply": "2021-03-14T11:34:03.912237Z"
    },
    "papermill": {
     "duration": 0.081352,
     "end_time": "2021-03-14T11:34:03.912369",
     "exception": false,
     "start_time": "2021-03-14T11:34:03.831017",
     "status": "completed"
    },
    "tags": []
   },
   "outputs": [
    {
     "data": {
      "text/html": [
       "<div>\n",
       "<style scoped>\n",
       "    .dataframe tbody tr th:only-of-type {\n",
       "        vertical-align: middle;\n",
       "    }\n",
       "\n",
       "    .dataframe tbody tr th {\n",
       "        vertical-align: top;\n",
       "    }\n",
       "\n",
       "    .dataframe thead th {\n",
       "        text-align: right;\n",
       "    }\n",
       "</style>\n",
       "<table border=\"1\" class=\"dataframe\">\n",
       "  <thead>\n",
       "    <tr style=\"text-align: right;\">\n",
       "      <th></th>\n",
       "      <th>id</th>\n",
       "      <th>gender</th>\n",
       "      <th>age</th>\n",
       "      <th>hypertension</th>\n",
       "      <th>heart_disease</th>\n",
       "      <th>ever_married</th>\n",
       "      <th>work_type</th>\n",
       "      <th>Residence_type</th>\n",
       "      <th>avg_glucose_level</th>\n",
       "      <th>bmi</th>\n",
       "      <th>smoking_status</th>\n",
       "      <th>stroke</th>\n",
       "    </tr>\n",
       "  </thead>\n",
       "  <tbody>\n",
       "    <tr>\n",
       "      <th>0</th>\n",
       "      <td>671</td>\n",
       "      <td>1</td>\n",
       "      <td>88</td>\n",
       "      <td>0</td>\n",
       "      <td>1</td>\n",
       "      <td>1</td>\n",
       "      <td>2</td>\n",
       "      <td>1</td>\n",
       "      <td>3374</td>\n",
       "      <td>240</td>\n",
       "      <td>0</td>\n",
       "      <td>1</td>\n",
       "    </tr>\n",
       "    <tr>\n",
       "      <th>1</th>\n",
       "      <td>3610</td>\n",
       "      <td>0</td>\n",
       "      <td>82</td>\n",
       "      <td>0</td>\n",
       "      <td>0</td>\n",
       "      <td>1</td>\n",
       "      <td>3</td>\n",
       "      <td>0</td>\n",
       "      <td>3374</td>\n",
       "      <td>162</td>\n",
       "      <td>1</td>\n",
       "      <td>1</td>\n",
       "    </tr>\n",
       "    <tr>\n",
       "      <th>2</th>\n",
       "      <td>2151</td>\n",
       "      <td>1</td>\n",
       "      <td>101</td>\n",
       "      <td>0</td>\n",
       "      <td>1</td>\n",
       "      <td>1</td>\n",
       "      <td>2</td>\n",
       "      <td>0</td>\n",
       "      <td>2483</td>\n",
       "      <td>199</td>\n",
       "      <td>1</td>\n",
       "      <td>1</td>\n",
       "    </tr>\n",
       "    <tr>\n",
       "      <th>3</th>\n",
       "      <td>4226</td>\n",
       "      <td>0</td>\n",
       "      <td>70</td>\n",
       "      <td>0</td>\n",
       "      <td>0</td>\n",
       "      <td>1</td>\n",
       "      <td>2</td>\n",
       "      <td>1</td>\n",
       "      <td>3374</td>\n",
       "      <td>218</td>\n",
       "      <td>2</td>\n",
       "      <td>1</td>\n",
       "    </tr>\n",
       "    <tr>\n",
       "      <th>4</th>\n",
       "      <td>114</td>\n",
       "      <td>0</td>\n",
       "      <td>100</td>\n",
       "      <td>1</td>\n",
       "      <td>0</td>\n",
       "      <td>1</td>\n",
       "      <td>3</td>\n",
       "      <td>0</td>\n",
       "      <td>3374</td>\n",
       "      <td>113</td>\n",
       "      <td>1</td>\n",
       "      <td>1</td>\n",
       "    </tr>\n",
       "  </tbody>\n",
       "</table>\n",
       "</div>"
      ],
      "text/plain": [
       "     id  gender  age  hypertension  heart_disease  ever_married  work_type  \\\n",
       "0   671       1   88             0              1             1          2   \n",
       "1  3610       0   82             0              0             1          3   \n",
       "2  2151       1  101             0              1             1          2   \n",
       "3  4226       0   70             0              0             1          2   \n",
       "4   114       0  100             1              0             1          3   \n",
       "\n",
       "   Residence_type  avg_glucose_level  bmi  smoking_status  stroke  \n",
       "0               1               3374  240               0       1  \n",
       "1               0               3374  162               1       1  \n",
       "2               0               2483  199               1       1  \n",
       "3               1               3374  218               2       1  \n",
       "4               0               3374  113               1       1  "
      ]
     },
     "execution_count": 54,
     "metadata": {},
     "output_type": "execute_result"
    }
   ],
   "source": [
    "data.head()"
   ]
  },
  {
   "cell_type": "code",
   "execution_count": 55,
   "metadata": {
    "execution": {
     "iopub.execute_input": "2021-03-14T11:34:04.055960Z",
     "iopub.status.busy": "2021-03-14T11:34:04.055017Z",
     "iopub.status.idle": "2021-03-14T11:34:04.058845Z",
     "shell.execute_reply": "2021-03-14T11:34:04.059301Z"
    },
    "papermill": {
     "duration": 0.079852,
     "end_time": "2021-03-14T11:34:04.059484",
     "exception": false,
     "start_time": "2021-03-14T11:34:03.979632",
     "status": "completed"
    },
    "tags": []
   },
   "outputs": [
    {
     "data": {
      "text/plain": [
       "array([0, 1, 2])"
      ]
     },
     "execution_count": 55,
     "metadata": {},
     "output_type": "execute_result"
    }
   ],
   "source": [
    "data['smoking_status'].unique()"
   ]
  },
  {
   "cell_type": "code",
   "execution_count": 56,
   "metadata": {
    "execution": {
     "iopub.execute_input": "2021-03-14T11:34:04.204918Z",
     "iopub.status.busy": "2021-03-14T11:34:04.204353Z",
     "iopub.status.idle": "2021-03-14T11:34:04.223767Z",
     "shell.execute_reply": "2021-03-14T11:34:04.224154Z"
    },
    "papermill": {
     "duration": 0.092562,
     "end_time": "2021-03-14T11:34:04.224295",
     "exception": false,
     "start_time": "2021-03-14T11:34:04.131733",
     "status": "completed"
    },
    "tags": []
   },
   "outputs": [
    {
     "data": {
      "text/html": [
       "<div>\n",
       "<style scoped>\n",
       "    .dataframe tbody tr th:only-of-type {\n",
       "        vertical-align: middle;\n",
       "    }\n",
       "\n",
       "    .dataframe tbody tr th {\n",
       "        vertical-align: top;\n",
       "    }\n",
       "\n",
       "    .dataframe thead th {\n",
       "        text-align: right;\n",
       "    }\n",
       "</style>\n",
       "<table border=\"1\" class=\"dataframe\">\n",
       "  <thead>\n",
       "    <tr style=\"text-align: right;\">\n",
       "      <th></th>\n",
       "      <th>id</th>\n",
       "      <th>gender</th>\n",
       "      <th>age</th>\n",
       "      <th>hypertension</th>\n",
       "      <th>heart_disease</th>\n",
       "      <th>ever_married</th>\n",
       "      <th>work_type</th>\n",
       "      <th>Residence_type</th>\n",
       "      <th>avg_glucose_level</th>\n",
       "      <th>bmi</th>\n",
       "      <th>smoking_status</th>\n",
       "      <th>stroke</th>\n",
       "    </tr>\n",
       "  </thead>\n",
       "  <tbody>\n",
       "    <tr>\n",
       "      <th>id</th>\n",
       "      <td>1.000000</td>\n",
       "      <td>0.002617</td>\n",
       "      <td>0.002116</td>\n",
       "      <td>0.003553</td>\n",
       "      <td>-0.001205</td>\n",
       "      <td>0.013654</td>\n",
       "      <td>-0.015510</td>\n",
       "      <td>-0.001142</td>\n",
       "      <td>-0.044590</td>\n",
       "      <td>0.006102</td>\n",
       "      <td>-0.004641</td>\n",
       "      <td>0.006499</td>\n",
       "    </tr>\n",
       "    <tr>\n",
       "      <th>gender</th>\n",
       "      <td>0.002617</td>\n",
       "      <td>1.000000</td>\n",
       "      <td>-0.030616</td>\n",
       "      <td>0.020994</td>\n",
       "      <td>0.085447</td>\n",
       "      <td>-0.031005</td>\n",
       "      <td>0.056422</td>\n",
       "      <td>-0.006738</td>\n",
       "      <td>0.048455</td>\n",
       "      <td>-0.023634</td>\n",
       "      <td>-0.022364</td>\n",
       "      <td>0.008929</td>\n",
       "    </tr>\n",
       "    <tr>\n",
       "      <th>age</th>\n",
       "      <td>0.002116</td>\n",
       "      <td>-0.030616</td>\n",
       "      <td>1.000000</td>\n",
       "      <td>0.273891</td>\n",
       "      <td>0.260691</td>\n",
       "      <td>0.678447</td>\n",
       "      <td>-0.370303</td>\n",
       "      <td>0.013461</td>\n",
       "      <td>0.130598</td>\n",
       "      <td>0.359657</td>\n",
       "      <td>-0.108570</td>\n",
       "      <td>0.242122</td>\n",
       "    </tr>\n",
       "    <tr>\n",
       "      <th>hypertension</th>\n",
       "      <td>0.003553</td>\n",
       "      <td>0.020994</td>\n",
       "      <td>0.273891</td>\n",
       "      <td>1.000000</td>\n",
       "      <td>0.108306</td>\n",
       "      <td>0.164243</td>\n",
       "      <td>-0.051761</td>\n",
       "      <td>-0.007913</td>\n",
       "      <td>0.110322</td>\n",
       "      <td>0.156619</td>\n",
       "      <td>-0.019199</td>\n",
       "      <td>0.127904</td>\n",
       "    </tr>\n",
       "    <tr>\n",
       "      <th>heart_disease</th>\n",
       "      <td>-0.001205</td>\n",
       "      <td>0.085447</td>\n",
       "      <td>0.260691</td>\n",
       "      <td>0.108306</td>\n",
       "      <td>1.000000</td>\n",
       "      <td>0.114644</td>\n",
       "      <td>-0.028023</td>\n",
       "      <td>0.003092</td>\n",
       "      <td>0.101032</td>\n",
       "      <td>0.047025</td>\n",
       "      <td>-0.016367</td>\n",
       "      <td>0.134914</td>\n",
       "    </tr>\n",
       "    <tr>\n",
       "      <th>ever_married</th>\n",
       "      <td>0.013654</td>\n",
       "      <td>-0.031005</td>\n",
       "      <td>0.678447</td>\n",
       "      <td>0.164243</td>\n",
       "      <td>0.114644</td>\n",
       "      <td>1.000000</td>\n",
       "      <td>-0.352722</td>\n",
       "      <td>0.006261</td>\n",
       "      <td>0.092743</td>\n",
       "      <td>0.358054</td>\n",
       "      <td>-0.046820</td>\n",
       "      <td>0.108340</td>\n",
       "    </tr>\n",
       "    <tr>\n",
       "      <th>work_type</th>\n",
       "      <td>-0.015510</td>\n",
       "      <td>0.056422</td>\n",
       "      <td>-0.370303</td>\n",
       "      <td>-0.051761</td>\n",
       "      <td>-0.028023</td>\n",
       "      <td>-0.352722</td>\n",
       "      <td>1.000000</td>\n",
       "      <td>-0.007316</td>\n",
       "      <td>-0.021705</td>\n",
       "      <td>-0.317836</td>\n",
       "      <td>-0.020051</td>\n",
       "      <td>-0.032316</td>\n",
       "    </tr>\n",
       "    <tr>\n",
       "      <th>Residence_type</th>\n",
       "      <td>-0.001142</td>\n",
       "      <td>-0.006738</td>\n",
       "      <td>0.013461</td>\n",
       "      <td>-0.007913</td>\n",
       "      <td>0.003092</td>\n",
       "      <td>0.006261</td>\n",
       "      <td>-0.007316</td>\n",
       "      <td>1.000000</td>\n",
       "      <td>-0.013046</td>\n",
       "      <td>0.004348</td>\n",
       "      <td>0.012160</td>\n",
       "      <td>0.015458</td>\n",
       "    </tr>\n",
       "    <tr>\n",
       "      <th>avg_glucose_level</th>\n",
       "      <td>-0.044590</td>\n",
       "      <td>0.048455</td>\n",
       "      <td>0.130598</td>\n",
       "      <td>0.110322</td>\n",
       "      <td>0.101032</td>\n",
       "      <td>0.092743</td>\n",
       "      <td>-0.021705</td>\n",
       "      <td>-0.013046</td>\n",
       "      <td>1.000000</td>\n",
       "      <td>0.106721</td>\n",
       "      <td>-0.012065</td>\n",
       "      <td>0.079385</td>\n",
       "    </tr>\n",
       "    <tr>\n",
       "      <th>bmi</th>\n",
       "      <td>0.006102</td>\n",
       "      <td>-0.023634</td>\n",
       "      <td>0.359657</td>\n",
       "      <td>0.156619</td>\n",
       "      <td>0.047025</td>\n",
       "      <td>0.358054</td>\n",
       "      <td>-0.317836</td>\n",
       "      <td>0.004348</td>\n",
       "      <td>0.106721</td>\n",
       "      <td>1.000000</td>\n",
       "      <td>-0.017851</td>\n",
       "      <td>0.045694</td>\n",
       "    </tr>\n",
       "    <tr>\n",
       "      <th>smoking_status</th>\n",
       "      <td>-0.004641</td>\n",
       "      <td>-0.022364</td>\n",
       "      <td>-0.108570</td>\n",
       "      <td>-0.019199</td>\n",
       "      <td>-0.016367</td>\n",
       "      <td>-0.046820</td>\n",
       "      <td>-0.020051</td>\n",
       "      <td>0.012160</td>\n",
       "      <td>-0.012065</td>\n",
       "      <td>-0.017851</td>\n",
       "      <td>1.000000</td>\n",
       "      <td>-0.037057</td>\n",
       "    </tr>\n",
       "    <tr>\n",
       "      <th>stroke</th>\n",
       "      <td>0.006499</td>\n",
       "      <td>0.008929</td>\n",
       "      <td>0.242122</td>\n",
       "      <td>0.127904</td>\n",
       "      <td>0.134914</td>\n",
       "      <td>0.108340</td>\n",
       "      <td>-0.032316</td>\n",
       "      <td>0.015458</td>\n",
       "      <td>0.079385</td>\n",
       "      <td>0.045694</td>\n",
       "      <td>-0.037057</td>\n",
       "      <td>1.000000</td>\n",
       "    </tr>\n",
       "  </tbody>\n",
       "</table>\n",
       "</div>"
      ],
      "text/plain": [
       "                         id    gender       age  hypertension  heart_disease  \\\n",
       "id                 1.000000  0.002617  0.002116      0.003553      -0.001205   \n",
       "gender             0.002617  1.000000 -0.030616      0.020994       0.085447   \n",
       "age                0.002116 -0.030616  1.000000      0.273891       0.260691   \n",
       "hypertension       0.003553  0.020994  0.273891      1.000000       0.108306   \n",
       "heart_disease     -0.001205  0.085447  0.260691      0.108306       1.000000   \n",
       "ever_married       0.013654 -0.031005  0.678447      0.164243       0.114644   \n",
       "work_type         -0.015510  0.056422 -0.370303     -0.051761      -0.028023   \n",
       "Residence_type    -0.001142 -0.006738  0.013461     -0.007913       0.003092   \n",
       "avg_glucose_level -0.044590  0.048455  0.130598      0.110322       0.101032   \n",
       "bmi                0.006102 -0.023634  0.359657      0.156619       0.047025   \n",
       "smoking_status    -0.004641 -0.022364 -0.108570     -0.019199      -0.016367   \n",
       "stroke             0.006499  0.008929  0.242122      0.127904       0.134914   \n",
       "\n",
       "                   ever_married  work_type  Residence_type  avg_glucose_level  \\\n",
       "id                     0.013654  -0.015510       -0.001142          -0.044590   \n",
       "gender                -0.031005   0.056422       -0.006738           0.048455   \n",
       "age                    0.678447  -0.370303        0.013461           0.130598   \n",
       "hypertension           0.164243  -0.051761       -0.007913           0.110322   \n",
       "heart_disease          0.114644  -0.028023        0.003092           0.101032   \n",
       "ever_married           1.000000  -0.352722        0.006261           0.092743   \n",
       "work_type             -0.352722   1.000000       -0.007316          -0.021705   \n",
       "Residence_type         0.006261  -0.007316        1.000000          -0.013046   \n",
       "avg_glucose_level      0.092743  -0.021705       -0.013046           1.000000   \n",
       "bmi                    0.358054  -0.317836        0.004348           0.106721   \n",
       "smoking_status        -0.046820  -0.020051        0.012160          -0.012065   \n",
       "stroke                 0.108340  -0.032316        0.015458           0.079385   \n",
       "\n",
       "                        bmi  smoking_status    stroke  \n",
       "id                 0.006102       -0.004641  0.006499  \n",
       "gender            -0.023634       -0.022364  0.008929  \n",
       "age                0.359657       -0.108570  0.242122  \n",
       "hypertension       0.156619       -0.019199  0.127904  \n",
       "heart_disease      0.047025       -0.016367  0.134914  \n",
       "ever_married       0.358054       -0.046820  0.108340  \n",
       "work_type         -0.317836       -0.020051 -0.032316  \n",
       "Residence_type     0.004348        0.012160  0.015458  \n",
       "avg_glucose_level  0.106721       -0.012065  0.079385  \n",
       "bmi                1.000000       -0.017851  0.045694  \n",
       "smoking_status    -0.017851        1.000000 -0.037057  \n",
       "stroke             0.045694       -0.037057  1.000000  "
      ]
     },
     "execution_count": 56,
     "metadata": {},
     "output_type": "execute_result"
    }
   ],
   "source": [
    "correl=data.corr(method='pearson')\n",
    "#sns.heatmap(correl,annot=True)\n",
    "correl"
   ]
  },
  {
   "cell_type": "code",
   "execution_count": 57,
   "metadata": {
    "execution": {
     "iopub.execute_input": "2021-03-14T11:34:04.370572Z",
     "iopub.status.busy": "2021-03-14T11:34:04.369953Z",
     "iopub.status.idle": "2021-03-14T11:34:04.371869Z",
     "shell.execute_reply": "2021-03-14T11:34:04.372292Z"
    },
    "papermill": {
     "duration": 0.077476,
     "end_time": "2021-03-14T11:34:04.372446",
     "exception": false,
     "start_time": "2021-03-14T11:34:04.294970",
     "status": "completed"
    },
    "tags": []
   },
   "outputs": [],
   "source": [
    "data.drop(['id'],axis=1,inplace=True)"
   ]
  },
  {
   "cell_type": "code",
   "execution_count": 58,
   "metadata": {
    "execution": {
     "iopub.execute_input": "2021-03-14T11:34:04.514196Z",
     "iopub.status.busy": "2021-03-14T11:34:04.513633Z",
     "iopub.status.idle": "2021-03-14T11:34:04.523900Z",
     "shell.execute_reply": "2021-03-14T11:34:04.524305Z"
    },
    "papermill": {
     "duration": 0.081576,
     "end_time": "2021-03-14T11:34:04.524477",
     "exception": false,
     "start_time": "2021-03-14T11:34:04.442901",
     "status": "completed"
    },
    "tags": []
   },
   "outputs": [
    {
     "data": {
      "text/html": [
       "<div>\n",
       "<style scoped>\n",
       "    .dataframe tbody tr th:only-of-type {\n",
       "        vertical-align: middle;\n",
       "    }\n",
       "\n",
       "    .dataframe tbody tr th {\n",
       "        vertical-align: top;\n",
       "    }\n",
       "\n",
       "    .dataframe thead th {\n",
       "        text-align: right;\n",
       "    }\n",
       "</style>\n",
       "<table border=\"1\" class=\"dataframe\">\n",
       "  <thead>\n",
       "    <tr style=\"text-align: right;\">\n",
       "      <th></th>\n",
       "      <th>gender</th>\n",
       "      <th>age</th>\n",
       "      <th>hypertension</th>\n",
       "      <th>heart_disease</th>\n",
       "      <th>ever_married</th>\n",
       "      <th>work_type</th>\n",
       "      <th>Residence_type</th>\n",
       "      <th>avg_glucose_level</th>\n",
       "      <th>bmi</th>\n",
       "      <th>smoking_status</th>\n",
       "      <th>stroke</th>\n",
       "    </tr>\n",
       "  </thead>\n",
       "  <tbody>\n",
       "    <tr>\n",
       "      <th>0</th>\n",
       "      <td>1</td>\n",
       "      <td>88</td>\n",
       "      <td>0</td>\n",
       "      <td>1</td>\n",
       "      <td>1</td>\n",
       "      <td>2</td>\n",
       "      <td>1</td>\n",
       "      <td>3374</td>\n",
       "      <td>240</td>\n",
       "      <td>0</td>\n",
       "      <td>1</td>\n",
       "    </tr>\n",
       "    <tr>\n",
       "      <th>1</th>\n",
       "      <td>0</td>\n",
       "      <td>82</td>\n",
       "      <td>0</td>\n",
       "      <td>0</td>\n",
       "      <td>1</td>\n",
       "      <td>3</td>\n",
       "      <td>0</td>\n",
       "      <td>3374</td>\n",
       "      <td>162</td>\n",
       "      <td>1</td>\n",
       "      <td>1</td>\n",
       "    </tr>\n",
       "    <tr>\n",
       "      <th>2</th>\n",
       "      <td>1</td>\n",
       "      <td>101</td>\n",
       "      <td>0</td>\n",
       "      <td>1</td>\n",
       "      <td>1</td>\n",
       "      <td>2</td>\n",
       "      <td>0</td>\n",
       "      <td>2483</td>\n",
       "      <td>199</td>\n",
       "      <td>1</td>\n",
       "      <td>1</td>\n",
       "    </tr>\n",
       "    <tr>\n",
       "      <th>3</th>\n",
       "      <td>0</td>\n",
       "      <td>70</td>\n",
       "      <td>0</td>\n",
       "      <td>0</td>\n",
       "      <td>1</td>\n",
       "      <td>2</td>\n",
       "      <td>1</td>\n",
       "      <td>3374</td>\n",
       "      <td>218</td>\n",
       "      <td>2</td>\n",
       "      <td>1</td>\n",
       "    </tr>\n",
       "    <tr>\n",
       "      <th>4</th>\n",
       "      <td>0</td>\n",
       "      <td>100</td>\n",
       "      <td>1</td>\n",
       "      <td>0</td>\n",
       "      <td>1</td>\n",
       "      <td>3</td>\n",
       "      <td>0</td>\n",
       "      <td>3374</td>\n",
       "      <td>113</td>\n",
       "      <td>1</td>\n",
       "      <td>1</td>\n",
       "    </tr>\n",
       "  </tbody>\n",
       "</table>\n",
       "</div>"
      ],
      "text/plain": [
       "   gender  age  hypertension  heart_disease  ever_married  work_type  \\\n",
       "0       1   88             0              1             1          2   \n",
       "1       0   82             0              0             1          3   \n",
       "2       1  101             0              1             1          2   \n",
       "3       0   70             0              0             1          2   \n",
       "4       0  100             1              0             1          3   \n",
       "\n",
       "   Residence_type  avg_glucose_level  bmi  smoking_status  stroke  \n",
       "0               1               3374  240               0       1  \n",
       "1               0               3374  162               1       1  \n",
       "2               0               2483  199               1       1  \n",
       "3               1               3374  218               2       1  \n",
       "4               0               3374  113               1       1  "
      ]
     },
     "execution_count": 58,
     "metadata": {},
     "output_type": "execute_result"
    }
   ],
   "source": [
    "data.head()"
   ]
  },
  {
   "cell_type": "code",
   "execution_count": 59,
   "metadata": {
    "execution": {
     "iopub.execute_input": "2021-03-14T11:34:04.670343Z",
     "iopub.status.busy": "2021-03-14T11:34:04.669771Z",
     "iopub.status.idle": "2021-03-14T11:34:04.672724Z",
     "shell.execute_reply": "2021-03-14T11:34:04.673182Z"
    },
    "papermill": {
     "duration": 0.076818,
     "end_time": "2021-03-14T11:34:04.673313",
     "exception": false,
     "start_time": "2021-03-14T11:34:04.596495",
     "status": "completed"
    },
    "scrolled": true,
    "tags": []
   },
   "outputs": [],
   "source": [
    "from sklearn.model_selection import train_test_split"
   ]
  },
  {
   "cell_type": "code",
   "execution_count": 60,
   "metadata": {
    "execution": {
     "iopub.execute_input": "2021-03-14T11:34:04.817118Z",
     "iopub.status.busy": "2021-03-14T11:34:04.816512Z",
     "iopub.status.idle": "2021-03-14T11:34:04.821087Z",
     "shell.execute_reply": "2021-03-14T11:34:04.821506Z"
    },
    "papermill": {
     "duration": 0.077169,
     "end_time": "2021-03-14T11:34:04.821640",
     "exception": false,
     "start_time": "2021-03-14T11:34:04.744471",
     "status": "completed"
    },
    "tags": []
   },
   "outputs": [],
   "source": [
    "x=data.drop('stroke',axis=1)\n",
    "y=data['stroke']"
   ]
  },
  {
   "cell_type": "code",
   "execution_count": 61,
   "metadata": {
    "execution": {
     "iopub.execute_input": "2021-03-14T11:34:04.974150Z",
     "iopub.status.busy": "2021-03-14T11:34:04.973647Z",
     "iopub.status.idle": "2021-03-14T11:34:04.977512Z",
     "shell.execute_reply": "2021-03-14T11:34:04.977908Z"
    },
    "papermill": {
     "duration": 0.083263,
     "end_time": "2021-03-14T11:34:04.978035",
     "exception": false,
     "start_time": "2021-03-14T11:34:04.894772",
     "status": "completed"
    },
    "tags": []
   },
   "outputs": [
    {
     "data": {
      "text/plain": [
       "(5110, 10)"
      ]
     },
     "execution_count": 61,
     "metadata": {},
     "output_type": "execute_result"
    }
   ],
   "source": [
    "x.shape"
   ]
  },
  {
   "cell_type": "code",
   "execution_count": 62,
   "metadata": {
    "execution": {
     "iopub.execute_input": "2021-03-14T11:34:05.134344Z",
     "iopub.status.busy": "2021-03-14T11:34:05.132467Z",
     "iopub.status.idle": "2021-03-14T11:34:05.137335Z",
     "shell.execute_reply": "2021-03-14T11:34:05.137840Z"
    },
    "papermill": {
     "duration": 0.085797,
     "end_time": "2021-03-14T11:34:05.138000",
     "exception": false,
     "start_time": "2021-03-14T11:34:05.052203",
     "status": "completed"
    },
    "tags": []
   },
   "outputs": [
    {
     "data": {
      "text/plain": [
       "(5110,)"
      ]
     },
     "execution_count": 62,
     "metadata": {},
     "output_type": "execute_result"
    }
   ],
   "source": [
    "y.shape"
   ]
  },
  {
   "cell_type": "code",
   "execution_count": null,
   "metadata": {
    "execution": {
     "iopub.execute_input": "2021-03-14T11:34:05.284209Z",
     "iopub.status.busy": "2021-03-14T11:34:05.283643Z",
     "iopub.status.idle": "2021-03-14T11:34:05.457204Z",
     "shell.execute_reply": "2021-03-14T11:34:05.457669Z"
    },
    "papermill": {
     "duration": 0.247767,
     "end_time": "2021-03-14T11:34:05.457849",
     "exception": false,
     "start_time": "2021-03-14T11:34:05.210082",
     "status": "completed"
    },
    "tags": []
   },
   "outputs": [],
   "source": []
  },
  {
   "cell_type": "code",
   "execution_count": 63,
   "metadata": {
    "execution": {
     "iopub.execute_input": "2021-03-14T11:34:05.604496Z",
     "iopub.status.busy": "2021-03-14T11:34:05.603972Z",
     "iopub.status.idle": "2021-03-14T11:34:05.607864Z",
     "shell.execute_reply": "2021-03-14T11:34:05.608249Z"
    },
    "papermill": {
     "duration": 0.077852,
     "end_time": "2021-03-14T11:34:05.608394",
     "exception": false,
     "start_time": "2021-03-14T11:34:05.530542",
     "status": "completed"
    },
    "tags": []
   },
   "outputs": [
    {
     "data": {
      "text/plain": [
       "(5110, 10)"
      ]
     },
     "execution_count": 63,
     "metadata": {},
     "output_type": "execute_result"
    }
   ],
   "source": [
    "x.shape"
   ]
  },
  {
   "cell_type": "code",
   "execution_count": 64,
   "metadata": {
    "execution": {
     "iopub.execute_input": "2021-03-14T11:34:05.753812Z",
     "iopub.status.busy": "2021-03-14T11:34:05.753228Z",
     "iopub.status.idle": "2021-03-14T11:34:05.756871Z",
     "shell.execute_reply": "2021-03-14T11:34:05.756452Z"
    },
    "papermill": {
     "duration": 0.077115,
     "end_time": "2021-03-14T11:34:05.756975",
     "exception": false,
     "start_time": "2021-03-14T11:34:05.679860",
     "status": "completed"
    },
    "tags": []
   },
   "outputs": [
    {
     "data": {
      "text/plain": [
       "(5110,)"
      ]
     },
     "execution_count": 64,
     "metadata": {},
     "output_type": "execute_result"
    }
   ],
   "source": [
    "y.shape"
   ]
  },
  {
   "cell_type": "code",
   "execution_count": 65,
   "metadata": {
    "execution": {
     "iopub.execute_input": "2021-03-14T11:34:05.906259Z",
     "iopub.status.busy": "2021-03-14T11:34:05.905767Z",
     "iopub.status.idle": "2021-03-14T11:34:05.910308Z",
     "shell.execute_reply": "2021-03-14T11:34:05.909841Z"
    },
    "papermill": {
     "duration": 0.079604,
     "end_time": "2021-03-14T11:34:05.910459",
     "exception": false,
     "start_time": "2021-03-14T11:34:05.830855",
     "status": "completed"
    },
    "tags": []
   },
   "outputs": [],
   "source": [
    "x_Train,x_Test,y_Train,y_Test= train_test_split(x,y,test_size=0.4,random_state=40)"
   ]
  },
  {
   "cell_type": "code",
   "execution_count": 66,
   "metadata": {
    "execution": {
     "iopub.execute_input": "2021-03-14T11:34:06.058666Z",
     "iopub.status.busy": "2021-03-14T11:34:06.058041Z",
     "iopub.status.idle": "2021-03-14T11:34:06.060119Z",
     "shell.execute_reply": "2021-03-14T11:34:06.060618Z"
    },
    "papermill": {
     "duration": 0.078723,
     "end_time": "2021-03-14T11:34:06.060758",
     "exception": false,
     "start_time": "2021-03-14T11:34:05.982035",
     "status": "completed"
    },
    "tags": []
   },
   "outputs": [],
   "source": [
    "features=list(x_Train.columns)"
   ]
  },
  {
   "cell_type": "code",
   "execution_count": 67,
   "metadata": {
    "execution": {
     "iopub.execute_input": "2021-03-14T11:34:06.209620Z",
     "iopub.status.busy": "2021-03-14T11:34:06.209073Z",
     "iopub.status.idle": "2021-03-14T11:34:06.211806Z",
     "shell.execute_reply": "2021-03-14T11:34:06.212236Z"
    },
    "papermill": {
     "duration": 0.079514,
     "end_time": "2021-03-14T11:34:06.212399",
     "exception": false,
     "start_time": "2021-03-14T11:34:06.132885",
     "status": "completed"
    },
    "tags": []
   },
   "outputs": [
    {
     "data": {
      "text/plain": [
       "['gender',\n",
       " 'age',\n",
       " 'hypertension',\n",
       " 'heart_disease',\n",
       " 'ever_married',\n",
       " 'work_type',\n",
       " 'Residence_type',\n",
       " 'avg_glucose_level',\n",
       " 'bmi',\n",
       " 'smoking_status']"
      ]
     },
     "execution_count": 67,
     "metadata": {},
     "output_type": "execute_result"
    }
   ],
   "source": [
    "features"
   ]
  },
  {
   "cell_type": "markdown",
   "metadata": {
    "papermill": {
     "duration": 0.072035,
     "end_time": "2021-03-14T11:34:06.359257",
     "exception": false,
     "start_time": "2021-03-14T11:34:06.287222",
     "status": "completed"
    },
    "tags": []
   },
   "source": [
    "# Decision Tree"
   ]
  },
  {
   "cell_type": "code",
   "execution_count": 68,
   "metadata": {
    "execution": {
     "iopub.execute_input": "2021-03-14T11:34:06.503049Z",
     "iopub.status.busy": "2021-03-14T11:34:06.502523Z",
     "iopub.status.idle": "2021-03-14T11:34:06.518635Z",
     "shell.execute_reply": "2021-03-14T11:34:06.519068Z"
    },
    "papermill": {
     "duration": 0.08958,
     "end_time": "2021-03-14T11:34:06.519197",
     "exception": false,
     "start_time": "2021-03-14T11:34:06.429617",
     "status": "completed"
    },
    "tags": []
   },
   "outputs": [],
   "source": [
    "dtree = DecisionTreeClassifier()\n",
    "dtree = dtree.fit(x_Train,y_Train)"
   ]
  },
  {
   "cell_type": "code",
   "execution_count": 69,
   "metadata": {
    "execution": {
     "iopub.execute_input": "2021-03-14T11:34:06.672255Z",
     "iopub.status.busy": "2021-03-14T11:34:06.671435Z",
     "iopub.status.idle": "2021-03-14T11:34:06.677442Z",
     "shell.execute_reply": "2021-03-14T11:34:06.677867Z"
    },
    "papermill": {
     "duration": 0.084815,
     "end_time": "2021-03-14T11:34:06.677994",
     "exception": false,
     "start_time": "2021-03-14T11:34:06.593179",
     "status": "completed"
    },
    "tags": []
   },
   "outputs": [],
   "source": [
    "pred1=dtree.predict(x_Test)"
   ]
  },
  {
   "cell_type": "code",
   "execution_count": 70,
   "metadata": {
    "execution": {
     "iopub.execute_input": "2021-03-14T11:34:06.826081Z",
     "iopub.status.busy": "2021-03-14T11:34:06.825161Z",
     "iopub.status.idle": "2021-03-14T11:34:06.832724Z",
     "shell.execute_reply": "2021-03-14T11:34:06.831923Z"
    },
    "papermill": {
     "duration": 0.083351,
     "end_time": "2021-03-14T11:34:06.832918",
     "exception": false,
     "start_time": "2021-03-14T11:34:06.749567",
     "status": "completed"
    },
    "tags": []
   },
   "outputs": [
    {
     "name": "stdout",
     "output_type": "stream",
     "text": [
      "91.34050880626224 %\n"
     ]
    }
   ],
   "source": [
    "from sklearn.metrics import accuracy_score\n",
    "from sklearn.metrics import precision_score\n",
    "print(accuracy_score(y_Test,pred1)*100,'%')"
   ]
  },
  {
   "cell_type": "markdown",
   "metadata": {
    "papermill": {
     "duration": 0.072387,
     "end_time": "2021-03-14T11:34:06.981413",
     "exception": false,
     "start_time": "2021-03-14T11:34:06.909026",
     "status": "completed"
    },
    "tags": []
   },
   "source": []
  },
  {
   "cell_type": "code",
   "execution_count": 71,
   "metadata": {
    "execution": {
     "iopub.execute_input": "2021-03-14T11:34:07.130335Z",
     "iopub.status.busy": "2021-03-14T11:34:07.129524Z",
     "iopub.status.idle": "2021-03-14T11:34:07.142593Z",
     "shell.execute_reply": "2021-03-14T11:34:07.142024Z"
    },
    "papermill": {
     "duration": 0.088623,
     "end_time": "2021-03-14T11:34:07.142709",
     "exception": false,
     "start_time": "2021-03-14T11:34:07.054086",
     "status": "completed"
    },
    "tags": []
   },
   "outputs": [
    {
     "name": "stdout",
     "output_type": "stream",
     "text": [
      "[[1849  101]\n",
      " [  76   18]]\n"
     ]
    }
   ],
   "source": [
    "from sklearn.metrics import confusion_matrix\n",
    "cm=confusion_matrix(y_Test,pred1)\n",
    "print(cm)"
   ]
  },
  {
   "cell_type": "code",
   "execution_count": 72,
   "metadata": {
    "execution": {
     "iopub.execute_input": "2021-03-14T11:34:07.296311Z",
     "iopub.status.busy": "2021-03-14T11:34:07.295730Z",
     "iopub.status.idle": "2021-03-14T11:34:07.298334Z",
     "shell.execute_reply": "2021-03-14T11:34:07.298955Z"
    },
    "papermill": {
     "duration": 0.083456,
     "end_time": "2021-03-14T11:34:07.299146",
     "exception": false,
     "start_time": "2021-03-14T11:34:07.215690",
     "status": "completed"
    },
    "tags": []
   },
   "outputs": [
    {
     "name": "stdout",
     "output_type": "stream",
     "text": [
      "0.15126050420168066\n"
     ]
    }
   ],
   "source": [
    "def precision(cm):\n",
    "    return cm[1][1]/(cm[1][1]+cm[0][1])\n",
    "\n",
    "print(precision(cm))"
   ]
  },
  {
   "cell_type": "code",
   "execution_count": 73,
   "metadata": {
    "execution": {
     "iopub.execute_input": "2021-03-14T11:34:07.447371Z",
     "iopub.status.busy": "2021-03-14T11:34:07.446863Z",
     "iopub.status.idle": "2021-03-14T11:34:07.451900Z",
     "shell.execute_reply": "2021-03-14T11:34:07.452360Z"
    },
    "papermill": {
     "duration": 0.079654,
     "end_time": "2021-03-14T11:34:07.452514",
     "exception": false,
     "start_time": "2021-03-14T11:34:07.372860",
     "status": "completed"
    },
    "tags": []
   },
   "outputs": [
    {
     "data": {
      "text/plain": [
       "0.19148936170212766"
      ]
     },
     "execution_count": 73,
     "metadata": {},
     "output_type": "execute_result"
    }
   ],
   "source": [
    "def recall(cm):\n",
    "    return cm[1][1]/(cm[1][1]+cm[1][0])\n",
    "\n",
    "recall(cm)                                    "
   ]
  },
  {
   "cell_type": "code",
   "execution_count": 74,
   "metadata": {
    "execution": {
     "iopub.execute_input": "2021-03-14T11:34:07.605011Z",
     "iopub.status.busy": "2021-03-14T11:34:07.604494Z",
     "iopub.status.idle": "2021-03-14T11:34:07.610283Z",
     "shell.execute_reply": "2021-03-14T11:34:07.609802Z"
    },
    "papermill": {
     "duration": 0.083828,
     "end_time": "2021-03-14T11:34:07.610407",
     "exception": false,
     "start_time": "2021-03-14T11:34:07.526579",
     "status": "completed"
    },
    "tags": []
   },
   "outputs": [
    {
     "data": {
      "text/plain": [
       "0.9482051282051283"
      ]
     },
     "execution_count": 74,
     "metadata": {},
     "output_type": "execute_result"
    }
   ],
   "source": [
    "def specificity(cm):\n",
    "    return cm[0][0]/(cm[0][0]+cm[0][1])\n",
    "\n",
    "specificity(cm)"
   ]
  },
  {
   "cell_type": "code",
   "execution_count": 75,
   "metadata": {
    "execution": {
     "iopub.execute_input": "2021-03-14T11:34:07.762443Z",
     "iopub.status.busy": "2021-03-14T11:34:07.761894Z",
     "iopub.status.idle": "2021-03-14T11:34:07.767160Z",
     "shell.execute_reply": "2021-03-14T11:34:07.767633Z"
    },
    "papermill": {
     "duration": 0.082545,
     "end_time": "2021-03-14T11:34:07.767806",
     "exception": false,
     "start_time": "2021-03-14T11:34:07.685261",
     "status": "completed"
    },
    "tags": []
   },
   "outputs": [
    {
     "data": {
      "text/plain": [
       "0.16901408450704225"
      ]
     },
     "execution_count": 75,
     "metadata": {},
     "output_type": "execute_result"
    }
   ],
   "source": [
    "f1_score(y_Test,pred1)"
   ]
  },
  {
   "cell_type": "markdown",
   "metadata": {
    "papermill": {
     "duration": 0.075871,
     "end_time": "2021-03-14T11:34:07.919734",
     "exception": false,
     "start_time": "2021-03-14T11:34:07.843863",
     "status": "completed"
    },
    "tags": []
   },
   "source": [
    "#  Logistic Regression"
   ]
  },
  {
   "cell_type": "code",
   "execution_count": 76,
   "metadata": {
    "execution": {
     "iopub.execute_input": "2021-03-14T11:34:08.081028Z",
     "iopub.status.busy": "2021-03-14T11:34:08.080491Z",
     "iopub.status.idle": "2021-03-14T11:34:08.084588Z",
     "shell.execute_reply": "2021-03-14T11:34:08.084077Z"
    },
    "papermill": {
     "duration": 0.083298,
     "end_time": "2021-03-14T11:34:08.084721",
     "exception": false,
     "start_time": "2021-03-14T11:34:08.001423",
     "status": "completed"
    },
    "tags": []
   },
   "outputs": [],
   "source": [
    "from sklearn.linear_model import LogisticRegression\n",
    "from sklearn.preprocessing import MinMaxScaler"
   ]
  },
  {
   "cell_type": "code",
   "execution_count": 77,
   "metadata": {
    "execution": {
     "iopub.execute_input": "2021-03-14T11:34:08.238862Z",
     "iopub.status.busy": "2021-03-14T11:34:08.238244Z",
     "iopub.status.idle": "2021-03-14T11:34:08.240773Z",
     "shell.execute_reply": "2021-03-14T11:34:08.240309Z"
    },
    "papermill": {
     "duration": 0.079439,
     "end_time": "2021-03-14T11:34:08.240892",
     "exception": false,
     "start_time": "2021-03-14T11:34:08.161453",
     "status": "completed"
    },
    "tags": []
   },
   "outputs": [],
   "source": [
    "# x=data.drop('stroke',axis=1)\n",
    "# y=data['stroke']\n"
   ]
  },
  {
   "cell_type": "code",
   "execution_count": 78,
   "metadata": {
    "execution": {
     "iopub.execute_input": "2021-03-14T11:34:08.396806Z",
     "iopub.status.busy": "2021-03-14T11:34:08.396287Z",
     "iopub.status.idle": "2021-03-14T11:34:08.398259Z",
     "shell.execute_reply": "2021-03-14T11:34:08.398767Z"
    },
    "papermill": {
     "duration": 0.081404,
     "end_time": "2021-03-14T11:34:08.398907",
     "exception": false,
     "start_time": "2021-03-14T11:34:08.317503",
     "status": "completed"
    },
    "tags": []
   },
   "outputs": [],
   "source": [
    "# sc=MinMaxScaler(feature_range=(0,1))\n",
    "# X=sc.fit_transform(X)"
   ]
  },
  {
   "cell_type": "code",
   "execution_count": 79,
   "metadata": {
    "execution": {
     "iopub.execute_input": "2021-03-14T11:34:08.551159Z",
     "iopub.status.busy": "2021-03-14T11:34:08.550665Z",
     "iopub.status.idle": "2021-03-14T11:34:08.554596Z",
     "shell.execute_reply": "2021-03-14T11:34:08.554123Z"
    },
    "papermill": {
     "duration": 0.081494,
     "end_time": "2021-03-14T11:34:08.554713",
     "exception": false,
     "start_time": "2021-03-14T11:34:08.473219",
     "status": "completed"
    },
    "tags": []
   },
   "outputs": [],
   "source": [
    "#x_Train,x_Test,y_Train,y_Test= train_test_split(x,y,test_size=0.4,random_state=42)"
   ]
  },
  {
   "cell_type": "code",
   "execution_count": 80,
   "metadata": {
    "execution": {
     "iopub.execute_input": "2021-03-14T11:34:08.712208Z",
     "iopub.status.busy": "2021-03-14T11:34:08.711706Z",
     "iopub.status.idle": "2021-03-14T11:34:08.713596Z",
     "shell.execute_reply": "2021-03-14T11:34:08.714095Z"
    },
    "papermill": {
     "duration": 0.082704,
     "end_time": "2021-03-14T11:34:08.714227",
     "exception": false,
     "start_time": "2021-03-14T11:34:08.631523",
     "status": "completed"
    },
    "tags": []
   },
   "outputs": [],
   "source": [
    "lg=LogisticRegression(max_iter=10000)"
   ]
  },
  {
   "cell_type": "code",
   "execution_count": 81,
   "metadata": {
    "execution": {
     "iopub.execute_input": "2021-03-14T11:34:08.867455Z",
     "iopub.status.busy": "2021-03-14T11:34:08.866913Z",
     "iopub.status.idle": "2021-03-14T11:34:09.175670Z",
     "shell.execute_reply": "2021-03-14T11:34:09.175119Z"
    },
    "papermill": {
     "duration": 0.386506,
     "end_time": "2021-03-14T11:34:09.175831",
     "exception": false,
     "start_time": "2021-03-14T11:34:08.789325",
     "status": "completed"
    },
    "tags": []
   },
   "outputs": [],
   "source": [
    "lg=lg.fit(x_Train,y_Train)"
   ]
  },
  {
   "cell_type": "code",
   "execution_count": 82,
   "metadata": {
    "execution": {
     "iopub.execute_input": "2021-03-14T11:34:09.335191Z",
     "iopub.status.busy": "2021-03-14T11:34:09.334654Z",
     "iopub.status.idle": "2021-03-14T11:34:09.337856Z",
     "shell.execute_reply": "2021-03-14T11:34:09.337341Z"
    },
    "papermill": {
     "duration": 0.08462,
     "end_time": "2021-03-14T11:34:09.337962",
     "exception": false,
     "start_time": "2021-03-14T11:34:09.253342",
     "status": "completed"
    },
    "tags": []
   },
   "outputs": [],
   "source": [
    "pred2=lg.predict(x_Test)"
   ]
  },
  {
   "cell_type": "code",
   "execution_count": 83,
   "metadata": {
    "execution": {
     "iopub.execute_input": "2021-03-14T11:34:09.492269Z",
     "iopub.status.busy": "2021-03-14T11:34:09.491714Z",
     "iopub.status.idle": "2021-03-14T11:34:09.495463Z",
     "shell.execute_reply": "2021-03-14T11:34:09.495886Z"
    },
    "papermill": {
     "duration": 0.083077,
     "end_time": "2021-03-14T11:34:09.496026",
     "exception": false,
     "start_time": "2021-03-14T11:34:09.412949",
     "status": "completed"
    },
    "tags": []
   },
   "outputs": [
    {
     "name": "stdout",
     "output_type": "stream",
     "text": [
      "95.45009784735812 %\n"
     ]
    }
   ],
   "source": [
    "print(accuracy_score(y_Test,pred2)*100,'%')"
   ]
  },
  {
   "cell_type": "code",
   "execution_count": 84,
   "metadata": {
    "execution": {
     "iopub.execute_input": "2021-03-14T11:34:09.658408Z",
     "iopub.status.busy": "2021-03-14T11:34:09.657831Z",
     "iopub.status.idle": "2021-03-14T11:34:09.666715Z",
     "shell.execute_reply": "2021-03-14T11:34:09.667168Z"
    },
    "papermill": {
     "duration": 0.092773,
     "end_time": "2021-03-14T11:34:09.667312",
     "exception": false,
     "start_time": "2021-03-14T11:34:09.574539",
     "status": "completed"
    },
    "tags": []
   },
   "outputs": [
    {
     "data": {
      "text/plain": [
       "array([[1950,    0],\n",
       "       [  93,    1]])"
      ]
     },
     "execution_count": 84,
     "metadata": {},
     "output_type": "execute_result"
    }
   ],
   "source": [
    "cm2=confusion_matrix(y_Test,pred2)\n",
    "cm2"
   ]
  },
  {
   "cell_type": "code",
   "execution_count": 85,
   "metadata": {
    "execution": {
     "iopub.execute_input": "2021-03-14T11:34:09.827530Z",
     "iopub.status.busy": "2021-03-14T11:34:09.826978Z",
     "iopub.status.idle": "2021-03-14T11:34:09.831277Z",
     "shell.execute_reply": "2021-03-14T11:34:09.831747Z"
    },
    "papermill": {
     "duration": 0.086113,
     "end_time": "2021-03-14T11:34:09.831881",
     "exception": false,
     "start_time": "2021-03-14T11:34:09.745768",
     "status": "completed"
    },
    "tags": []
   },
   "outputs": [
    {
     "data": {
      "text/plain": [
       "1.0"
      ]
     },
     "execution_count": 85,
     "metadata": {},
     "output_type": "execute_result"
    }
   ],
   "source": [
    "precision(cm2)"
   ]
  },
  {
   "cell_type": "code",
   "execution_count": 86,
   "metadata": {
    "execution": {
     "iopub.execute_input": "2021-03-14T11:34:09.991919Z",
     "iopub.status.busy": "2021-03-14T11:34:09.991353Z",
     "iopub.status.idle": "2021-03-14T11:34:09.995135Z",
     "shell.execute_reply": "2021-03-14T11:34:09.994689Z"
    },
    "papermill": {
     "duration": 0.086476,
     "end_time": "2021-03-14T11:34:09.995256",
     "exception": false,
     "start_time": "2021-03-14T11:34:09.908780",
     "status": "completed"
    },
    "tags": []
   },
   "outputs": [
    {
     "data": {
      "text/plain": [
       "0.010638297872340425"
      ]
     },
     "execution_count": 86,
     "metadata": {},
     "output_type": "execute_result"
    }
   ],
   "source": [
    "recall(cm2)"
   ]
  },
  {
   "cell_type": "code",
   "execution_count": 87,
   "metadata": {
    "execution": {
     "iopub.execute_input": "2021-03-14T11:34:10.156448Z",
     "iopub.status.busy": "2021-03-14T11:34:10.155831Z",
     "iopub.status.idle": "2021-03-14T11:34:10.159102Z",
     "shell.execute_reply": "2021-03-14T11:34:10.159649Z"
    },
    "papermill": {
     "duration": 0.085063,
     "end_time": "2021-03-14T11:34:10.159821",
     "exception": false,
     "start_time": "2021-03-14T11:34:10.074758",
     "status": "completed"
    },
    "tags": []
   },
   "outputs": [
    {
     "data": {
      "text/plain": [
       "1.0"
      ]
     },
     "execution_count": 87,
     "metadata": {},
     "output_type": "execute_result"
    }
   ],
   "source": [
    "specificity(cm2)"
   ]
  },
  {
   "cell_type": "code",
   "execution_count": 88,
   "metadata": {
    "execution": {
     "iopub.execute_input": "2021-03-14T11:34:10.327864Z",
     "iopub.status.busy": "2021-03-14T11:34:10.327336Z",
     "iopub.status.idle": "2021-03-14T11:34:10.334311Z",
     "shell.execute_reply": "2021-03-14T11:34:10.334832Z"
    },
    "papermill": {
     "duration": 0.09064,
     "end_time": "2021-03-14T11:34:10.334976",
     "exception": false,
     "start_time": "2021-03-14T11:34:10.244336",
     "status": "completed"
    },
    "tags": []
   },
   "outputs": [
    {
     "data": {
      "text/plain": [
       "0.021052631578947368"
      ]
     },
     "execution_count": 88,
     "metadata": {},
     "output_type": "execute_result"
    }
   ],
   "source": [
    "f1_score(y_Test,pred2)"
   ]
  },
  {
   "cell_type": "code",
   "execution_count": null,
   "metadata": {
    "execution": {
     "iopub.execute_input": "2021-03-14T11:34:11.637745Z",
     "iopub.status.busy": "2021-03-14T11:34:11.636943Z",
     "iopub.status.idle": "2021-03-14T11:34:11.697853Z",
     "shell.execute_reply": "2021-03-14T11:34:11.697325Z"
    },
    "papermill": {
     "duration": 0.14651,
     "end_time": "2021-03-14T11:34:11.697974",
     "exception": false,
     "start_time": "2021-03-14T11:34:11.551464",
     "status": "completed"
    },
    "tags": []
   },
   "outputs": [],
   "source": []
  },
  {
   "cell_type": "code",
   "execution_count": null,
   "metadata": {
    "execution": {
     "iopub.execute_input": "2021-03-14T11:34:11.867271Z",
     "iopub.status.busy": "2021-03-14T11:34:11.866406Z",
     "iopub.status.idle": "2021-03-14T11:34:11.881777Z",
     "shell.execute_reply": "2021-03-14T11:34:11.881234Z"
    },
    "papermill": {
     "duration": 0.102849,
     "end_time": "2021-03-14T11:34:11.881911",
     "exception": false,
     "start_time": "2021-03-14T11:34:11.779062",
     "status": "completed"
    },
    "tags": []
   },
   "outputs": [],
   "source": []
  },
  {
   "cell_type": "code",
   "execution_count": null,
   "metadata": {
    "execution": {
     "iopub.execute_input": "2021-03-14T11:34:12.048516Z",
     "iopub.status.busy": "2021-03-14T11:34:12.047929Z",
     "iopub.status.idle": "2021-03-14T11:34:12.215239Z",
     "shell.execute_reply": "2021-03-14T11:34:12.215784Z"
    },
    "papermill": {
     "duration": 0.253989,
     "end_time": "2021-03-14T11:34:12.215929",
     "exception": false,
     "start_time": "2021-03-14T11:34:11.961940",
     "status": "completed"
    },
    "tags": []
   },
   "outputs": [],
   "source": []
  },
  {
   "cell_type": "code",
   "execution_count": null,
   "metadata": {
    "execution": {
     "iopub.execute_input": "2021-03-14T11:34:12.386089Z",
     "iopub.status.busy": "2021-03-14T11:34:12.385569Z",
     "iopub.status.idle": "2021-03-14T11:34:12.391193Z",
     "shell.execute_reply": "2021-03-14T11:34:12.391687Z"
    },
    "papermill": {
     "duration": 0.093156,
     "end_time": "2021-03-14T11:34:12.391853",
     "exception": false,
     "start_time": "2021-03-14T11:34:12.298697",
     "status": "completed"
    },
    "tags": []
   },
   "outputs": [],
   "source": []
  },
  {
   "cell_type": "code",
   "execution_count": null,
   "metadata": {
    "execution": {
     "iopub.execute_input": "2021-03-14T11:34:12.554465Z",
     "iopub.status.busy": "2021-03-14T11:34:12.553906Z",
     "iopub.status.idle": "2021-03-14T11:34:12.564257Z",
     "shell.execute_reply": "2021-03-14T11:34:12.564758Z"
    },
    "papermill": {
     "duration": 0.092287,
     "end_time": "2021-03-14T11:34:12.564902",
     "exception": false,
     "start_time": "2021-03-14T11:34:12.472615",
     "status": "completed"
    },
    "tags": []
   },
   "outputs": [],
   "source": []
  },
  {
   "cell_type": "code",
   "execution_count": null,
   "metadata": {
    "execution": {
     "iopub.execute_input": "2021-03-14T11:34:12.732396Z",
     "iopub.status.busy": "2021-03-14T11:34:12.731869Z",
     "iopub.status.idle": "2021-03-14T11:34:12.736182Z",
     "shell.execute_reply": "2021-03-14T11:34:12.736659Z"
    },
    "papermill": {
     "duration": 0.090988,
     "end_time": "2021-03-14T11:34:12.736790",
     "exception": false,
     "start_time": "2021-03-14T11:34:12.645802",
     "status": "completed"
    },
    "tags": []
   },
   "outputs": [],
   "source": []
  },
  {
   "cell_type": "code",
   "execution_count": null,
   "metadata": {
    "execution": {
     "iopub.execute_input": "2021-03-14T11:34:12.903553Z",
     "iopub.status.busy": "2021-03-14T11:34:12.903057Z",
     "iopub.status.idle": "2021-03-14T11:34:12.908458Z",
     "shell.execute_reply": "2021-03-14T11:34:12.908938Z"
    },
    "papermill": {
     "duration": 0.090112,
     "end_time": "2021-03-14T11:34:12.909078",
     "exception": false,
     "start_time": "2021-03-14T11:34:12.818966",
     "status": "completed"
    },
    "tags": []
   },
   "outputs": [],
   "source": []
  },
  {
   "cell_type": "code",
   "execution_count": null,
   "metadata": {
    "execution": {
     "iopub.execute_input": "2021-03-14T11:34:13.078961Z",
     "iopub.status.busy": "2021-03-14T11:34:13.078085Z",
     "iopub.status.idle": "2021-03-14T11:34:13.081416Z",
     "shell.execute_reply": "2021-03-14T11:34:13.081898Z"
    },
    "papermill": {
     "duration": 0.091198,
     "end_time": "2021-03-14T11:34:13.082031",
     "exception": false,
     "start_time": "2021-03-14T11:34:12.990833",
     "status": "completed"
    },
    "tags": []
   },
   "outputs": [],
   "source": []
  },
  {
   "cell_type": "code",
   "execution_count": null,
   "metadata": {
    "execution": {
     "iopub.execute_input": "2021-03-14T11:34:13.249168Z",
     "iopub.status.busy": "2021-03-14T11:34:13.248347Z",
     "iopub.status.idle": "2021-03-14T11:34:13.255694Z",
     "shell.execute_reply": "2021-03-14T11:34:13.256127Z"
    },
    "papermill": {
     "duration": 0.092043,
     "end_time": "2021-03-14T11:34:13.256262",
     "exception": false,
     "start_time": "2021-03-14T11:34:13.164219",
     "status": "completed"
    },
    "tags": []
   },
   "outputs": [],
   "source": []
  },
  {
   "cell_type": "code",
   "execution_count": null,
   "metadata": {},
   "outputs": [],
   "source": []
  }
 ],
 "metadata": {
  "kernelspec": {
   "display_name": "Python 3",
   "language": "python",
   "name": "python3"
  },
  "language_info": {
   "codemirror_mode": {
    "name": "ipython",
    "version": 3
   },
   "file_extension": ".py",
   "mimetype": "text/x-python",
   "name": "python",
   "nbconvert_exporter": "python",
   "pygments_lexer": "ipython3",
   "version": "3.7.7"
  },
  "papermill": {
   "default_parameters": {},
   "duration": 24.277331,
   "end_time": "2021-03-14T11:34:13.946484",
   "environment_variables": {},
   "exception": null,
   "input_path": "__notebook__.ipynb",
   "output_path": "__notebook__.ipynb",
   "parameters": {},
   "start_time": "2021-03-14T11:33:49.669153",
   "version": "2.2.2"
  }
 },
 "nbformat": 4,
 "nbformat_minor": 4
}
